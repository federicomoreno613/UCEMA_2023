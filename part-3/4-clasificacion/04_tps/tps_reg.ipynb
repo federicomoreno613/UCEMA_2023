{
 "cells": [
  {
   "cell_type": "code",
   "execution_count": 1,
   "id": "initial_id",
   "metadata": {
    "collapsed": true,
    "ExecuteTime": {
     "end_time": "2023-10-26T10:27:49.278888200Z",
     "start_time": "2023-10-26T10:27:49.233956200Z"
    }
   },
   "outputs": [
    {
     "data": {
      "text/plain": "   R&D Spend  Administration  Marketing Spend       State     Profit\n0  165349.20       136897.80        471784.10    New York  192261.83\n1  162597.70       151377.59        443898.53  California  191792.06\n2  153441.51       101145.55        407934.54     Florida  191050.39\n3  144372.41       118671.85        383199.62    New York  182901.99\n4  142107.34        91391.77        366168.42     Florida  166187.94",
      "text/html": "<div>\n<style scoped>\n    .dataframe tbody tr th:only-of-type {\n        vertical-align: middle;\n    }\n\n    .dataframe tbody tr th {\n        vertical-align: top;\n    }\n\n    .dataframe thead th {\n        text-align: right;\n    }\n</style>\n<table border=\"1\" class=\"dataframe\">\n  <thead>\n    <tr style=\"text-align: right;\">\n      <th></th>\n      <th>R&amp;D Spend</th>\n      <th>Administration</th>\n      <th>Marketing Spend</th>\n      <th>State</th>\n      <th>Profit</th>\n    </tr>\n  </thead>\n  <tbody>\n    <tr>\n      <th>0</th>\n      <td>165349.20</td>\n      <td>136897.80</td>\n      <td>471784.10</td>\n      <td>New York</td>\n      <td>192261.83</td>\n    </tr>\n    <tr>\n      <th>1</th>\n      <td>162597.70</td>\n      <td>151377.59</td>\n      <td>443898.53</td>\n      <td>California</td>\n      <td>191792.06</td>\n    </tr>\n    <tr>\n      <th>2</th>\n      <td>153441.51</td>\n      <td>101145.55</td>\n      <td>407934.54</td>\n      <td>Florida</td>\n      <td>191050.39</td>\n    </tr>\n    <tr>\n      <th>3</th>\n      <td>144372.41</td>\n      <td>118671.85</td>\n      <td>383199.62</td>\n      <td>New York</td>\n      <td>182901.99</td>\n    </tr>\n    <tr>\n      <th>4</th>\n      <td>142107.34</td>\n      <td>91391.77</td>\n      <td>366168.42</td>\n      <td>Florida</td>\n      <td>166187.94</td>\n    </tr>\n  </tbody>\n</table>\n</div>"
     },
     "execution_count": 1,
     "metadata": {},
     "output_type": "execute_result"
    }
   ],
   "source": [
    "# Importing necessary libraries for data manipulation and inspection\n",
    "import pandas as pd\n",
    "import numpy as np\n",
    "\n",
    "# Load the dataset\n",
    "dataset_path = '50_Startups.csv'\n",
    "df = pd.read_csv(dataset_path)\n",
    "\n",
    "# Inspect the first few rows of the dataset\n",
    "df.head()\n"
   ]
  },
  {
   "cell_type": "code",
   "execution_count": 2,
   "outputs": [
    {
     "data": {
      "text/plain": "   RnD_Expenditure  Admin_Costs  Marketing_Expenditure    Location  Net_Profit\n0        165349.20    136897.80              471784.10    New York   192261.83\n1        162597.70    151377.59              443898.53  California   191792.06\n2        153441.51    101145.55              407934.54     Florida   191050.39\n3        144372.41    118671.85              383199.62    New York   182901.99\n4        142107.34     91391.77              366168.42     Florida   166187.94",
      "text/html": "<div>\n<style scoped>\n    .dataframe tbody tr th:only-of-type {\n        vertical-align: middle;\n    }\n\n    .dataframe tbody tr th {\n        vertical-align: top;\n    }\n\n    .dataframe thead th {\n        text-align: right;\n    }\n</style>\n<table border=\"1\" class=\"dataframe\">\n  <thead>\n    <tr style=\"text-align: right;\">\n      <th></th>\n      <th>RnD_Expenditure</th>\n      <th>Admin_Costs</th>\n      <th>Marketing_Expenditure</th>\n      <th>Location</th>\n      <th>Net_Profit</th>\n    </tr>\n  </thead>\n  <tbody>\n    <tr>\n      <th>0</th>\n      <td>165349.20</td>\n      <td>136897.80</td>\n      <td>471784.10</td>\n      <td>New York</td>\n      <td>192261.83</td>\n    </tr>\n    <tr>\n      <th>1</th>\n      <td>162597.70</td>\n      <td>151377.59</td>\n      <td>443898.53</td>\n      <td>California</td>\n      <td>191792.06</td>\n    </tr>\n    <tr>\n      <th>2</th>\n      <td>153441.51</td>\n      <td>101145.55</td>\n      <td>407934.54</td>\n      <td>Florida</td>\n      <td>191050.39</td>\n    </tr>\n    <tr>\n      <th>3</th>\n      <td>144372.41</td>\n      <td>118671.85</td>\n      <td>383199.62</td>\n      <td>New York</td>\n      <td>182901.99</td>\n    </tr>\n    <tr>\n      <th>4</th>\n      <td>142107.34</td>\n      <td>91391.77</td>\n      <td>366168.42</td>\n      <td>Florida</td>\n      <td>166187.94</td>\n    </tr>\n  </tbody>\n</table>\n</div>"
     },
     "execution_count": 2,
     "metadata": {},
     "output_type": "execute_result"
    }
   ],
   "source": [
    "# Rename the columns\n",
    "new_column_names = {\n",
    "    'R&D Spend': 'RnD_Expenditure',\n",
    "    'Administration': 'Admin_Costs',\n",
    "    'Marketing Spend': 'Marketing_Expenditure',\n",
    "    'State': 'Location',\n",
    "    'Profit': 'Net_Profit'\n",
    "}\n",
    "\n",
    "df.rename(columns=new_column_names, inplace=True)\n",
    "\n",
    "# Inspect the dataset to confirm the changes\n",
    "df.head()\n"
   ],
   "metadata": {
    "collapsed": false,
    "ExecuteTime": {
     "end_time": "2023-10-26T10:27:55.037177100Z",
     "start_time": "2023-10-26T10:27:54.974232200Z"
    }
   },
   "id": "7292aca6dd78cbbc"
  },
  {
   "cell_type": "code",
   "execution_count": 3,
   "outputs": [
    {
     "data": {
      "text/plain": "   RnD_Expenditure  Admin_Costs  Marketing_Expenditure    Location  \\\n0        165349.20    136897.80              471784.10    New York   \n1        162597.70    151377.59              443898.53  California   \n2        153441.51    101145.55              407934.54     Florida   \n3        144372.41    118671.85              383199.62    New York   \n4        142107.34     91391.77              366168.42     Florida   \n\n   Net_Profit Industry_Sector  \n0   192261.83          Energy  \n1   191792.06            Tech  \n2   191050.39         Finance  \n3   182901.99         Finance  \n4   166187.94         Finance  ",
      "text/html": "<div>\n<style scoped>\n    .dataframe tbody tr th:only-of-type {\n        vertical-align: middle;\n    }\n\n    .dataframe tbody tr th {\n        vertical-align: top;\n    }\n\n    .dataframe thead th {\n        text-align: right;\n    }\n</style>\n<table border=\"1\" class=\"dataframe\">\n  <thead>\n    <tr style=\"text-align: right;\">\n      <th></th>\n      <th>RnD_Expenditure</th>\n      <th>Admin_Costs</th>\n      <th>Marketing_Expenditure</th>\n      <th>Location</th>\n      <th>Net_Profit</th>\n      <th>Industry_Sector</th>\n    </tr>\n  </thead>\n  <tbody>\n    <tr>\n      <th>0</th>\n      <td>165349.20</td>\n      <td>136897.80</td>\n      <td>471784.10</td>\n      <td>New York</td>\n      <td>192261.83</td>\n      <td>Energy</td>\n    </tr>\n    <tr>\n      <th>1</th>\n      <td>162597.70</td>\n      <td>151377.59</td>\n      <td>443898.53</td>\n      <td>California</td>\n      <td>191792.06</td>\n      <td>Tech</td>\n    </tr>\n    <tr>\n      <th>2</th>\n      <td>153441.51</td>\n      <td>101145.55</td>\n      <td>407934.54</td>\n      <td>Florida</td>\n      <td>191050.39</td>\n      <td>Finance</td>\n    </tr>\n    <tr>\n      <th>3</th>\n      <td>144372.41</td>\n      <td>118671.85</td>\n      <td>383199.62</td>\n      <td>New York</td>\n      <td>182901.99</td>\n      <td>Finance</td>\n    </tr>\n    <tr>\n      <th>4</th>\n      <td>142107.34</td>\n      <td>91391.77</td>\n      <td>366168.42</td>\n      <td>Florida</td>\n      <td>166187.94</td>\n      <td>Finance</td>\n    </tr>\n  </tbody>\n</table>\n</div>"
     },
     "execution_count": 3,
     "metadata": {},
     "output_type": "execute_result"
    }
   ],
   "source": [
    "# Generate a new column \"Industry_Sector\" with random values\n",
    "np.random.seed(0)  # For reproducibility\n",
    "industry_sectors = ['Tech', 'Healthcare', 'Retail', 'Finance', 'Energy']\n",
    "df['Industry_Sector'] = np.random.choice(industry_sectors, df.shape[0])\n",
    "\n",
    "# Inspect the dataset to confirm the new column\n",
    "df.head()\n"
   ],
   "metadata": {
    "collapsed": false,
    "ExecuteTime": {
     "end_time": "2023-10-26T10:28:08.771016900Z",
     "start_time": "2023-10-26T10:28:08.723556300Z"
    }
   },
   "id": "13649327267e4574"
  },
  {
   "cell_type": "code",
   "execution_count": 4,
   "outputs": [
    {
     "data": {
      "text/plain": "   RnD_Expenditure  Admin_Costs  Marketing_Expenditure    Location  \\\n0        165349.20    136897.80              471784.10    New York   \n1        162597.70    151377.59              443898.53  California   \n2        153441.51    101145.55              407934.54     Florida   \n3        144372.41    118671.85              383199.62    New York   \n4        142107.34     91391.77              366168.42     Florida   \n\n   Net_Profit Industry_Sector  Adjusted_Profit_With_Noise  Employee_Count  \\\n0   192261.83          Energy               227095.722346             289   \n1   191792.06            Tech               224711.757208             217   \n2   191050.39         Finance               222717.429984             407   \n3   182901.99         Finance               214017.365199             383   \n4   166187.94         Finance               196476.965990             351   \n\n  Investment_Round  \n0         Series A  \n1         Series B  \n2         Series C  \n3         Series A  \n4         Series B  ",
      "text/html": "<div>\n<style scoped>\n    .dataframe tbody tr th:only-of-type {\n        vertical-align: middle;\n    }\n\n    .dataframe tbody tr th {\n        vertical-align: top;\n    }\n\n    .dataframe thead th {\n        text-align: right;\n    }\n</style>\n<table border=\"1\" class=\"dataframe\">\n  <thead>\n    <tr style=\"text-align: right;\">\n      <th></th>\n      <th>RnD_Expenditure</th>\n      <th>Admin_Costs</th>\n      <th>Marketing_Expenditure</th>\n      <th>Location</th>\n      <th>Net_Profit</th>\n      <th>Industry_Sector</th>\n      <th>Adjusted_Profit_With_Noise</th>\n      <th>Employee_Count</th>\n      <th>Investment_Round</th>\n    </tr>\n  </thead>\n  <tbody>\n    <tr>\n      <th>0</th>\n      <td>165349.20</td>\n      <td>136897.80</td>\n      <td>471784.10</td>\n      <td>New York</td>\n      <td>192261.83</td>\n      <td>Energy</td>\n      <td>227095.722346</td>\n      <td>289</td>\n      <td>Series A</td>\n    </tr>\n    <tr>\n      <th>1</th>\n      <td>162597.70</td>\n      <td>151377.59</td>\n      <td>443898.53</td>\n      <td>California</td>\n      <td>191792.06</td>\n      <td>Tech</td>\n      <td>224711.757208</td>\n      <td>217</td>\n      <td>Series B</td>\n    </tr>\n    <tr>\n      <th>2</th>\n      <td>153441.51</td>\n      <td>101145.55</td>\n      <td>407934.54</td>\n      <td>Florida</td>\n      <td>191050.39</td>\n      <td>Finance</td>\n      <td>222717.429984</td>\n      <td>407</td>\n      <td>Series C</td>\n    </tr>\n    <tr>\n      <th>3</th>\n      <td>144372.41</td>\n      <td>118671.85</td>\n      <td>383199.62</td>\n      <td>New York</td>\n      <td>182901.99</td>\n      <td>Finance</td>\n      <td>214017.365199</td>\n      <td>383</td>\n      <td>Series A</td>\n    </tr>\n    <tr>\n      <th>4</th>\n      <td>142107.34</td>\n      <td>91391.77</td>\n      <td>366168.42</td>\n      <td>Florida</td>\n      <td>166187.94</td>\n      <td>Finance</td>\n      <td>196476.965990</td>\n      <td>351</td>\n      <td>Series B</td>\n    </tr>\n  </tbody>\n</table>\n</div>"
     },
     "execution_count": 4,
     "metadata": {},
     "output_type": "execute_result"
    }
   ],
   "source": [
    "# Create a new column \"Adjusted_Profit\" based on a linear relationship with \"Net_Profit\" and \"RnD_Expenditure\"\n",
    "# Create a new column \"Adjusted_Profit_With_Noise\" based on a linear relationship with \"Net_Profit\" and \"RnD_Expenditure\"\n",
    "# Adding random noise to the relationship using numpy\n",
    "np.random.seed(0)\n",
    "noise = np.random.normal(0, 1000, df.shape[0])\n",
    "df['Adjusted_Profit_With_Noise'] = df['Net_Profit'] + 0.2 * df['RnD_Expenditure'] + noise\n",
    "\n",
    "# Invent two more relevant columns for the dataset\n",
    "# 1. \"Employee_Count\": Randomly generated number of employees in the startup\n",
    "df['Employee_Count'] = np.random.randint(10, 500, df.shape[0])\n",
    "\n",
    "# 2. \"Investment_Round\": Categorical variable indicating the investment round (Seed, Series A, Series B, etc.)\n",
    "investment_rounds = ['Seed', 'Series A', 'Series B', 'Series C', 'IPO']\n",
    "df['Investment_Round'] = np.random.choice(investment_rounds, df.shape[0])\n",
    "\n",
    "# Inspect the dataset to confirm the new columns\n",
    "df.head()\n"
   ],
   "metadata": {
    "collapsed": false,
    "ExecuteTime": {
     "end_time": "2023-10-26T10:37:55.693497700Z",
     "start_time": "2023-10-26T10:37:55.635163800Z"
    }
   },
   "id": "8cb9dcfb948b0d30"
  },
  {
   "cell_type": "code",
   "execution_count": 5,
   "outputs": [
    {
     "data": {
      "text/plain": "    RnD_Expenditure    Admin_Costs  Marketing_Expenditure    Location  \\\n45      1000.230000  124153.040000            1903.930000    New York   \n46      1315.460000  115816.210000          297114.460000     Florida   \n47         0.000000  135426.920000               0.000000  California   \n48       542.050000   51743.150000               0.000000    New York   \n49         0.000000  116983.800000           45173.060000  California   \n50     83404.400941  120111.685301          494430.544453    New York   \n51    144064.898688  145239.236358          374082.827190  California   \n52        22.874963   47013.626724          140221.996032  California   \n53     60466.514526  103848.392350          394639.664226  California   \n54     29351.178163  131458.372844           51613.003289    New York   \n55     18467.718954  134190.999526          223946.763088    New York   \n56     37252.042276   12756.631705          454297.751547  California   \n57     69112.145409    5858.217485          146807.074187  California   \n58     79353.494846   25474.562935          143887.669293     Florida   \n59    107763.346801  131721.375514           65014.286059    New York   \n60     83838.902881   14752.025075            9683.478935  California   \n61    137043.900079   63166.143751          339417.766470     Florida   \n62     40890.449946  143683.429523          105814.058000     Florida   \n63    175623.487278   79974.792746          132773.329686    New York   \n64      5477.518640  103781.567093          245786.579640  California   \n65    134093.502036   47327.344651           26681.272559  California   \n66     83460.960473  102975.139152          287058.802746    New York   \n67    111737.965689  125193.850785           73364.287453    New York   \n68     28077.387719    2743.241602          294652.768452    New York   \n69     39620.297817  112521.647242          349879.180010     Florida   \n\n       Net_Profit Industry_Sector  Adjusted_Profit_With_Noise  Employee_Count  \\\n45   64926.080000          Energy                64688.051698             461   \n46   49490.750000            Tech                48501.046640              92   \n47   42559.730000          Energy                43337.220356             440   \n48   35673.410000      Healthcare                34167.922152             237   \n49   14681.400000          Energy                14468.659720             158   \n50   49419.209246          Retail                56804.550646             408   \n51   -8661.450721          Retail                 5768.589320             151   \n52  181877.145099            Tech               180909.147951             222   \n53   36941.464936      Healthcare                42223.865461             126   \n54  137703.025784          Retail               140372.998200             309   \n55  131499.496338          Energy               133173.346513             144   \n56  170826.522801            Tech               172668.226306             215   \n57  105918.051764      Healthcare               114437.223424             194   \n58  137735.608507          Retail               146816.260414             453   \n59   37224.585494      Healthcare                47517.335865             409   \n60   17481.972941          Energy                26885.266798              34   \n61  173971.554549          Retail               186690.076648             147   \n62   57022.797468            Tech                59866.886582             460   \n63  191210.011787            Tech               210696.222286             209   \n64  115860.374455      Healthcare               115965.175580             319   \n65  105423.930052            Tech               120378.804381             335   \n66  -21313.506762      Healthcare               -14885.847169             430   \n67  187372.314677         Finance               197551.192890             367   \n68   62478.033370      Healthcare                64877.719983             258   \n69   94597.403597      Healthcare                98661.735576              31   \n\n   Investment_Round  Operational_Cost  Adjusted_Profit  \n45             Seed     126056.970000              NaN  \n46             Seed     412930.670000              NaN  \n47             Seed     135426.920000              NaN  \n48         Series A      51743.150000              NaN  \n49             Seed     162156.860000              NaN  \n50             Seed     614542.229755     57759.649340  \n51             Seed     519322.063548      5745.039148  \n52             Seed     187235.622756    181879.432595  \n53             Seed     498488.056576     42988.116389  \n54             Seed     183071.376133    140638.143600  \n55             Seed     358137.762614    133346.268233  \n56             Seed     467054.383252    174551.727029  \n57             Seed     152665.291672    112829.266305  \n58             Seed     169362.232228    145670.957991  \n59             Seed     196735.661574     48000.920175  \n60             Seed      24435.504010     25865.863229  \n61             Seed     402583.910221    187675.944557  \n62             Seed     249497.487523     61111.842462  \n63             Seed     212748.122432    208772.360515  \n64             Seed     349568.146733    116408.126319  \n65             Seed      74008.617209    118833.280256  \n66             Seed     390033.941898    -12967.410714  \n67             Seed     198558.138238    198546.111246  \n68             Seed     297396.010053     65285.772142  \n69             Seed     462400.827252     98559.433378  ",
      "text/html": "<div>\n<style scoped>\n    .dataframe tbody tr th:only-of-type {\n        vertical-align: middle;\n    }\n\n    .dataframe tbody tr th {\n        vertical-align: top;\n    }\n\n    .dataframe thead th {\n        text-align: right;\n    }\n</style>\n<table border=\"1\" class=\"dataframe\">\n  <thead>\n    <tr style=\"text-align: right;\">\n      <th></th>\n      <th>RnD_Expenditure</th>\n      <th>Admin_Costs</th>\n      <th>Marketing_Expenditure</th>\n      <th>Location</th>\n      <th>Net_Profit</th>\n      <th>Industry_Sector</th>\n      <th>Adjusted_Profit_With_Noise</th>\n      <th>Employee_Count</th>\n      <th>Investment_Round</th>\n      <th>Operational_Cost</th>\n      <th>Adjusted_Profit</th>\n    </tr>\n  </thead>\n  <tbody>\n    <tr>\n      <th>45</th>\n      <td>1000.230000</td>\n      <td>124153.040000</td>\n      <td>1903.930000</td>\n      <td>New York</td>\n      <td>64926.080000</td>\n      <td>Energy</td>\n      <td>64688.051698</td>\n      <td>461</td>\n      <td>Seed</td>\n      <td>126056.970000</td>\n      <td>NaN</td>\n    </tr>\n    <tr>\n      <th>46</th>\n      <td>1315.460000</td>\n      <td>115816.210000</td>\n      <td>297114.460000</td>\n      <td>Florida</td>\n      <td>49490.750000</td>\n      <td>Tech</td>\n      <td>48501.046640</td>\n      <td>92</td>\n      <td>Seed</td>\n      <td>412930.670000</td>\n      <td>NaN</td>\n    </tr>\n    <tr>\n      <th>47</th>\n      <td>0.000000</td>\n      <td>135426.920000</td>\n      <td>0.000000</td>\n      <td>California</td>\n      <td>42559.730000</td>\n      <td>Energy</td>\n      <td>43337.220356</td>\n      <td>440</td>\n      <td>Seed</td>\n      <td>135426.920000</td>\n      <td>NaN</td>\n    </tr>\n    <tr>\n      <th>48</th>\n      <td>542.050000</td>\n      <td>51743.150000</td>\n      <td>0.000000</td>\n      <td>New York</td>\n      <td>35673.410000</td>\n      <td>Healthcare</td>\n      <td>34167.922152</td>\n      <td>237</td>\n      <td>Series A</td>\n      <td>51743.150000</td>\n      <td>NaN</td>\n    </tr>\n    <tr>\n      <th>49</th>\n      <td>0.000000</td>\n      <td>116983.800000</td>\n      <td>45173.060000</td>\n      <td>California</td>\n      <td>14681.400000</td>\n      <td>Energy</td>\n      <td>14468.659720</td>\n      <td>158</td>\n      <td>Seed</td>\n      <td>162156.860000</td>\n      <td>NaN</td>\n    </tr>\n    <tr>\n      <th>50</th>\n      <td>83404.400941</td>\n      <td>120111.685301</td>\n      <td>494430.544453</td>\n      <td>New York</td>\n      <td>49419.209246</td>\n      <td>Retail</td>\n      <td>56804.550646</td>\n      <td>408</td>\n      <td>Seed</td>\n      <td>614542.229755</td>\n      <td>57759.649340</td>\n    </tr>\n    <tr>\n      <th>51</th>\n      <td>144064.898688</td>\n      <td>145239.236358</td>\n      <td>374082.827190</td>\n      <td>California</td>\n      <td>-8661.450721</td>\n      <td>Retail</td>\n      <td>5768.589320</td>\n      <td>151</td>\n      <td>Seed</td>\n      <td>519322.063548</td>\n      <td>5745.039148</td>\n    </tr>\n    <tr>\n      <th>52</th>\n      <td>22.874963</td>\n      <td>47013.626724</td>\n      <td>140221.996032</td>\n      <td>California</td>\n      <td>181877.145099</td>\n      <td>Tech</td>\n      <td>180909.147951</td>\n      <td>222</td>\n      <td>Seed</td>\n      <td>187235.622756</td>\n      <td>181879.432595</td>\n    </tr>\n    <tr>\n      <th>53</th>\n      <td>60466.514526</td>\n      <td>103848.392350</td>\n      <td>394639.664226</td>\n      <td>California</td>\n      <td>36941.464936</td>\n      <td>Healthcare</td>\n      <td>42223.865461</td>\n      <td>126</td>\n      <td>Seed</td>\n      <td>498488.056576</td>\n      <td>42988.116389</td>\n    </tr>\n    <tr>\n      <th>54</th>\n      <td>29351.178163</td>\n      <td>131458.372844</td>\n      <td>51613.003289</td>\n      <td>New York</td>\n      <td>137703.025784</td>\n      <td>Retail</td>\n      <td>140372.998200</td>\n      <td>309</td>\n      <td>Seed</td>\n      <td>183071.376133</td>\n      <td>140638.143600</td>\n    </tr>\n    <tr>\n      <th>55</th>\n      <td>18467.718954</td>\n      <td>134190.999526</td>\n      <td>223946.763088</td>\n      <td>New York</td>\n      <td>131499.496338</td>\n      <td>Energy</td>\n      <td>133173.346513</td>\n      <td>144</td>\n      <td>Seed</td>\n      <td>358137.762614</td>\n      <td>133346.268233</td>\n    </tr>\n    <tr>\n      <th>56</th>\n      <td>37252.042276</td>\n      <td>12756.631705</td>\n      <td>454297.751547</td>\n      <td>California</td>\n      <td>170826.522801</td>\n      <td>Tech</td>\n      <td>172668.226306</td>\n      <td>215</td>\n      <td>Seed</td>\n      <td>467054.383252</td>\n      <td>174551.727029</td>\n    </tr>\n    <tr>\n      <th>57</th>\n      <td>69112.145409</td>\n      <td>5858.217485</td>\n      <td>146807.074187</td>\n      <td>California</td>\n      <td>105918.051764</td>\n      <td>Healthcare</td>\n      <td>114437.223424</td>\n      <td>194</td>\n      <td>Seed</td>\n      <td>152665.291672</td>\n      <td>112829.266305</td>\n    </tr>\n    <tr>\n      <th>58</th>\n      <td>79353.494846</td>\n      <td>25474.562935</td>\n      <td>143887.669293</td>\n      <td>Florida</td>\n      <td>137735.608507</td>\n      <td>Retail</td>\n      <td>146816.260414</td>\n      <td>453</td>\n      <td>Seed</td>\n      <td>169362.232228</td>\n      <td>145670.957991</td>\n    </tr>\n    <tr>\n      <th>59</th>\n      <td>107763.346801</td>\n      <td>131721.375514</td>\n      <td>65014.286059</td>\n      <td>New York</td>\n      <td>37224.585494</td>\n      <td>Healthcare</td>\n      <td>47517.335865</td>\n      <td>409</td>\n      <td>Seed</td>\n      <td>196735.661574</td>\n      <td>48000.920175</td>\n    </tr>\n    <tr>\n      <th>60</th>\n      <td>83838.902881</td>\n      <td>14752.025075</td>\n      <td>9683.478935</td>\n      <td>California</td>\n      <td>17481.972941</td>\n      <td>Energy</td>\n      <td>26885.266798</td>\n      <td>34</td>\n      <td>Seed</td>\n      <td>24435.504010</td>\n      <td>25865.863229</td>\n    </tr>\n    <tr>\n      <th>61</th>\n      <td>137043.900079</td>\n      <td>63166.143751</td>\n      <td>339417.766470</td>\n      <td>Florida</td>\n      <td>173971.554549</td>\n      <td>Retail</td>\n      <td>186690.076648</td>\n      <td>147</td>\n      <td>Seed</td>\n      <td>402583.910221</td>\n      <td>187675.944557</td>\n    </tr>\n    <tr>\n      <th>62</th>\n      <td>40890.449946</td>\n      <td>143683.429523</td>\n      <td>105814.058000</td>\n      <td>Florida</td>\n      <td>57022.797468</td>\n      <td>Tech</td>\n      <td>59866.886582</td>\n      <td>460</td>\n      <td>Seed</td>\n      <td>249497.487523</td>\n      <td>61111.842462</td>\n    </tr>\n    <tr>\n      <th>63</th>\n      <td>175623.487278</td>\n      <td>79974.792746</td>\n      <td>132773.329686</td>\n      <td>New York</td>\n      <td>191210.011787</td>\n      <td>Tech</td>\n      <td>210696.222286</td>\n      <td>209</td>\n      <td>Seed</td>\n      <td>212748.122432</td>\n      <td>208772.360515</td>\n    </tr>\n    <tr>\n      <th>64</th>\n      <td>5477.518640</td>\n      <td>103781.567093</td>\n      <td>245786.579640</td>\n      <td>California</td>\n      <td>115860.374455</td>\n      <td>Healthcare</td>\n      <td>115965.175580</td>\n      <td>319</td>\n      <td>Seed</td>\n      <td>349568.146733</td>\n      <td>116408.126319</td>\n    </tr>\n    <tr>\n      <th>65</th>\n      <td>134093.502036</td>\n      <td>47327.344651</td>\n      <td>26681.272559</td>\n      <td>California</td>\n      <td>105423.930052</td>\n      <td>Tech</td>\n      <td>120378.804381</td>\n      <td>335</td>\n      <td>Seed</td>\n      <td>74008.617209</td>\n      <td>118833.280256</td>\n    </tr>\n    <tr>\n      <th>66</th>\n      <td>83460.960473</td>\n      <td>102975.139152</td>\n      <td>287058.802746</td>\n      <td>New York</td>\n      <td>-21313.506762</td>\n      <td>Healthcare</td>\n      <td>-14885.847169</td>\n      <td>430</td>\n      <td>Seed</td>\n      <td>390033.941898</td>\n      <td>-12967.410714</td>\n    </tr>\n    <tr>\n      <th>67</th>\n      <td>111737.965689</td>\n      <td>125193.850785</td>\n      <td>73364.287453</td>\n      <td>New York</td>\n      <td>187372.314677</td>\n      <td>Finance</td>\n      <td>197551.192890</td>\n      <td>367</td>\n      <td>Seed</td>\n      <td>198558.138238</td>\n      <td>198546.111246</td>\n    </tr>\n    <tr>\n      <th>68</th>\n      <td>28077.387719</td>\n      <td>2743.241602</td>\n      <td>294652.768452</td>\n      <td>New York</td>\n      <td>62478.033370</td>\n      <td>Healthcare</td>\n      <td>64877.719983</td>\n      <td>258</td>\n      <td>Seed</td>\n      <td>297396.010053</td>\n      <td>65285.772142</td>\n    </tr>\n    <tr>\n      <th>69</th>\n      <td>39620.297817</td>\n      <td>112521.647242</td>\n      <td>349879.180010</td>\n      <td>Florida</td>\n      <td>94597.403597</td>\n      <td>Healthcare</td>\n      <td>98661.735576</td>\n      <td>31</td>\n      <td>Seed</td>\n      <td>462400.827252</td>\n      <td>98559.433378</td>\n    </tr>\n  </tbody>\n</table>\n</div>"
     },
     "execution_count": 5,
     "metadata": {},
     "output_type": "execute_result"
    }
   ],
   "source": [
    "# Adding another relevant numerical column\n",
    "# 1. \"Operational_Cost\": It's a combination of Admin_Costs and Marketing_Expenditure\n",
    "df['Operational_Cost'] = df['Admin_Costs'] + df['Marketing_Expenditure']\n",
    "\n",
    "# Adding 20 more rows for the \"Seed\" investment round\n",
    "# These rows are filled with noise, positive and negative profit, and outlier values\n",
    "np.random.seed(1)  # For reproducibility\n",
    "\n",
    "# Generate random data for existing columns\n",
    "additional_data = {\n",
    "    'RnD_Expenditure': np.random.uniform(0, 200000, 20),\n",
    "    'Admin_Costs': np.random.uniform(0, 150000, 20),\n",
    "    'Marketing_Expenditure': np.random.uniform(0, 500000, 20),\n",
    "    'Location': np.random.choice(['New York', 'California', 'Florida'], 20),\n",
    "    'Net_Profit': np.random.uniform(-50000, 200000, 20),\n",
    "    'Industry_Sector': np.random.choice(['Tech', 'Healthcare', 'Retail', 'Finance', 'Energy'], 20),\n",
    "    'Employee_Count': np.random.randint(10, 500, 20),\n",
    "    'Investment_Round': ['Seed'] * 20  # All set to \"Seed\"\n",
    "}\n",
    "\n",
    "# Create a DataFrame for additional data\n",
    "additional_df = pd.DataFrame(additional_data)\n",
    "\n",
    "# Calculate Adjusted_Profit, Adjusted_Profit_With_Noise, and Operational_Cost for the new rows\n",
    "additional_df['Adjusted_Profit'] = additional_df['Net_Profit'] + 0.1 * additional_df['RnD_Expenditure']\n",
    "noise_for_additional_data = np.random.normal(0, 1000, 20)\n",
    "additional_df['Adjusted_Profit_With_Noise'] = additional_df['Adjusted_Profit'] + noise_for_additional_data\n",
    "additional_df['Operational_Cost'] = additional_df['Admin_Costs'] + additional_df['Marketing_Expenditure']\n",
    "\n",
    "# Append the additional data to the original DataFrame\n",
    "df = pd.concat([df, additional_df], ignore_index=True)\n",
    "\n",
    "# Inspect the dataset to confirm the new rows and columns\n",
    "df.tail(25)  # Displaying last 25 rows to include some of the original data and all of the new \"Seed\" rows\n"
   ],
   "metadata": {
    "collapsed": false,
    "ExecuteTime": {
     "end_time": "2023-10-26T10:38:32.050387Z",
     "start_time": "2023-10-26T10:38:32.023276900Z"
    }
   },
   "id": "84fc570c2c1e08e2"
  },
  {
   "cell_type": "code",
   "execution_count": 6,
   "outputs": [
    {
     "data": {
      "text/plain": "['RnD_Expenditure',\n 'Admin_Costs',\n 'Marketing_Expenditure',\n 'Location',\n 'Net_Profit',\n 'Industry_Sector',\n 'Adjusted_Profit_With_Noise',\n 'Employee_Count',\n 'Investment_Round',\n 'Operational_Cost',\n 'Adjusted_Profit']"
     },
     "execution_count": 6,
     "metadata": {},
     "output_type": "execute_result"
    }
   ],
   "source": [
    "list(df)"
   ],
   "metadata": {
    "collapsed": false,
    "ExecuteTime": {
     "end_time": "2023-10-26T10:38:36.669775200Z",
     "start_time": "2023-10-26T10:38:36.575552200Z"
    }
   },
   "id": "eb1ba842dd86dfc3"
  },
  {
   "cell_type": "code",
   "execution_count": 7,
   "outputs": [],
   "source": [
    "del df['Adjusted_Profit']"
   ],
   "metadata": {
    "collapsed": false,
    "ExecuteTime": {
     "end_time": "2023-10-26T10:39:40.833557300Z",
     "start_time": "2023-10-26T10:39:40.816486900Z"
    }
   },
   "id": "d39f59b3fa519f93"
  },
  {
   "cell_type": "code",
   "execution_count": 9,
   "outputs": [],
   "source": [
    "df.rename(columns ={\"Adjusted_Profit_With_Noise\": \"Profit\"},inplace=True)"
   ],
   "metadata": {
    "collapsed": false,
    "ExecuteTime": {
     "end_time": "2023-10-26T10:40:29.935159800Z",
     "start_time": "2023-10-26T10:40:29.864401900Z"
    }
   },
   "id": "648a0f6e416570d7"
  },
  {
   "cell_type": "code",
   "execution_count": 10,
   "outputs": [
    {
     "data": {
      "text/plain": "    RnD_Expenditure    Admin_Costs  Marketing_Expenditure    Location  \\\n0     165349.200000  136897.800000          471784.100000    New York   \n1     162597.700000  151377.590000          443898.530000  California   \n2     153441.510000  101145.550000          407934.540000     Florida   \n3     144372.410000  118671.850000          383199.620000    New York   \n4     142107.340000   91391.770000          366168.420000     Florida   \n..              ...            ...                    ...         ...   \n65    134093.502036   47327.344651           26681.272559  California   \n66     83460.960473  102975.139152          287058.802746    New York   \n67    111737.965689  125193.850785           73364.287453    New York   \n68     28077.387719    2743.241602          294652.768452    New York   \n69     39620.297817  112521.647242          349879.180010     Florida   \n\n       Net_Profit Industry_Sector         Profit  Employee_Count  \\\n0   192261.830000          Energy  227095.722346             289   \n1   191792.060000            Tech  224711.757208             217   \n2   191050.390000         Finance  222717.429984             407   \n3   182901.990000         Finance  214017.365199             383   \n4   166187.940000         Finance  196476.965990             351   \n..            ...             ...            ...             ...   \n65  105423.930052            Tech  120378.804381             335   \n66  -21313.506762      Healthcare  -14885.847169             430   \n67  187372.314677         Finance  197551.192890             367   \n68   62478.033370      Healthcare   64877.719983             258   \n69   94597.403597      Healthcare   98661.735576              31   \n\n   Investment_Round  Operational_Cost  \n0          Series A     608681.900000  \n1          Series B     595276.120000  \n2          Series C     509080.090000  \n3          Series A     501871.470000  \n4          Series B     457560.190000  \n..              ...               ...  \n65             Seed      74008.617209  \n66             Seed     390033.941898  \n67             Seed     198558.138238  \n68             Seed     297396.010053  \n69             Seed     462400.827252  \n\n[70 rows x 10 columns]",
      "text/html": "<div>\n<style scoped>\n    .dataframe tbody tr th:only-of-type {\n        vertical-align: middle;\n    }\n\n    .dataframe tbody tr th {\n        vertical-align: top;\n    }\n\n    .dataframe thead th {\n        text-align: right;\n    }\n</style>\n<table border=\"1\" class=\"dataframe\">\n  <thead>\n    <tr style=\"text-align: right;\">\n      <th></th>\n      <th>RnD_Expenditure</th>\n      <th>Admin_Costs</th>\n      <th>Marketing_Expenditure</th>\n      <th>Location</th>\n      <th>Net_Profit</th>\n      <th>Industry_Sector</th>\n      <th>Profit</th>\n      <th>Employee_Count</th>\n      <th>Investment_Round</th>\n      <th>Operational_Cost</th>\n    </tr>\n  </thead>\n  <tbody>\n    <tr>\n      <th>0</th>\n      <td>165349.200000</td>\n      <td>136897.800000</td>\n      <td>471784.100000</td>\n      <td>New York</td>\n      <td>192261.830000</td>\n      <td>Energy</td>\n      <td>227095.722346</td>\n      <td>289</td>\n      <td>Series A</td>\n      <td>608681.900000</td>\n    </tr>\n    <tr>\n      <th>1</th>\n      <td>162597.700000</td>\n      <td>151377.590000</td>\n      <td>443898.530000</td>\n      <td>California</td>\n      <td>191792.060000</td>\n      <td>Tech</td>\n      <td>224711.757208</td>\n      <td>217</td>\n      <td>Series B</td>\n      <td>595276.120000</td>\n    </tr>\n    <tr>\n      <th>2</th>\n      <td>153441.510000</td>\n      <td>101145.550000</td>\n      <td>407934.540000</td>\n      <td>Florida</td>\n      <td>191050.390000</td>\n      <td>Finance</td>\n      <td>222717.429984</td>\n      <td>407</td>\n      <td>Series C</td>\n      <td>509080.090000</td>\n    </tr>\n    <tr>\n      <th>3</th>\n      <td>144372.410000</td>\n      <td>118671.850000</td>\n      <td>383199.620000</td>\n      <td>New York</td>\n      <td>182901.990000</td>\n      <td>Finance</td>\n      <td>214017.365199</td>\n      <td>383</td>\n      <td>Series A</td>\n      <td>501871.470000</td>\n    </tr>\n    <tr>\n      <th>4</th>\n      <td>142107.340000</td>\n      <td>91391.770000</td>\n      <td>366168.420000</td>\n      <td>Florida</td>\n      <td>166187.940000</td>\n      <td>Finance</td>\n      <td>196476.965990</td>\n      <td>351</td>\n      <td>Series B</td>\n      <td>457560.190000</td>\n    </tr>\n    <tr>\n      <th>...</th>\n      <td>...</td>\n      <td>...</td>\n      <td>...</td>\n      <td>...</td>\n      <td>...</td>\n      <td>...</td>\n      <td>...</td>\n      <td>...</td>\n      <td>...</td>\n      <td>...</td>\n    </tr>\n    <tr>\n      <th>65</th>\n      <td>134093.502036</td>\n      <td>47327.344651</td>\n      <td>26681.272559</td>\n      <td>California</td>\n      <td>105423.930052</td>\n      <td>Tech</td>\n      <td>120378.804381</td>\n      <td>335</td>\n      <td>Seed</td>\n      <td>74008.617209</td>\n    </tr>\n    <tr>\n      <th>66</th>\n      <td>83460.960473</td>\n      <td>102975.139152</td>\n      <td>287058.802746</td>\n      <td>New York</td>\n      <td>-21313.506762</td>\n      <td>Healthcare</td>\n      <td>-14885.847169</td>\n      <td>430</td>\n      <td>Seed</td>\n      <td>390033.941898</td>\n    </tr>\n    <tr>\n      <th>67</th>\n      <td>111737.965689</td>\n      <td>125193.850785</td>\n      <td>73364.287453</td>\n      <td>New York</td>\n      <td>187372.314677</td>\n      <td>Finance</td>\n      <td>197551.192890</td>\n      <td>367</td>\n      <td>Seed</td>\n      <td>198558.138238</td>\n    </tr>\n    <tr>\n      <th>68</th>\n      <td>28077.387719</td>\n      <td>2743.241602</td>\n      <td>294652.768452</td>\n      <td>New York</td>\n      <td>62478.033370</td>\n      <td>Healthcare</td>\n      <td>64877.719983</td>\n      <td>258</td>\n      <td>Seed</td>\n      <td>297396.010053</td>\n    </tr>\n    <tr>\n      <th>69</th>\n      <td>39620.297817</td>\n      <td>112521.647242</td>\n      <td>349879.180010</td>\n      <td>Florida</td>\n      <td>94597.403597</td>\n      <td>Healthcare</td>\n      <td>98661.735576</td>\n      <td>31</td>\n      <td>Seed</td>\n      <td>462400.827252</td>\n    </tr>\n  </tbody>\n</table>\n<p>70 rows × 10 columns</p>\n</div>"
     },
     "execution_count": 10,
     "metadata": {},
     "output_type": "execute_result"
    }
   ],
   "source": [
    "df"
   ],
   "metadata": {
    "collapsed": false,
    "ExecuteTime": {
     "end_time": "2023-10-26T10:40:32.162144800Z",
     "start_time": "2023-10-26T10:40:32.094799800Z"
    }
   },
   "id": "1d09a00da99d7d5d"
  },
  {
   "cell_type": "code",
   "execution_count": 11,
   "outputs": [],
   "source": [
    "df.to_csv(\"startups_ajustado.csv\")"
   ],
   "metadata": {
    "collapsed": false,
    "ExecuteTime": {
     "end_time": "2023-10-26T10:41:05.563570900Z",
     "start_time": "2023-10-26T10:41:05.526731900Z"
    }
   },
   "id": "2f2c0f488e549459"
  },
  {
   "cell_type": "code",
   "execution_count": 12,
   "outputs": [],
   "source": [
    "df = pd.read_csv(\"Crop_recommendation.csv\")"
   ],
   "metadata": {
    "collapsed": false,
    "ExecuteTime": {
     "end_time": "2023-10-26T10:55:39.959893200Z",
     "start_time": "2023-10-26T10:55:39.912954300Z"
    }
   },
   "id": "cf0eb5137be0008f"
  },
  {
   "cell_type": "code",
   "execution_count": 13,
   "outputs": [
    {
     "data": {
      "text/plain": "        N   P   K  temperature   humidity        ph    rainfall   label\n0      90  42  43    20.879744  82.002744  6.502985  202.935536    rice\n1      85  58  41    21.770462  80.319644  7.038096  226.655537    rice\n2      60  55  44    23.004459  82.320763  7.840207  263.964248    rice\n3      74  35  40    26.491096  80.158363  6.980401  242.864034    rice\n4      78  42  42    20.130175  81.604873  7.628473  262.717340    rice\n...   ...  ..  ..          ...        ...       ...         ...     ...\n2195  107  34  32    26.774637  66.413269  6.780064  177.774507  coffee\n2196   99  15  27    27.417112  56.636362  6.086922  127.924610  coffee\n2197  118  33  30    24.131797  67.225123  6.362608  173.322839  coffee\n2198  117  32  34    26.272418  52.127394  6.758793  127.175293  coffee\n2199  104  18  30    23.603016  60.396475  6.779833  140.937041  coffee\n\n[2200 rows x 8 columns]",
      "text/html": "<div>\n<style scoped>\n    .dataframe tbody tr th:only-of-type {\n        vertical-align: middle;\n    }\n\n    .dataframe tbody tr th {\n        vertical-align: top;\n    }\n\n    .dataframe thead th {\n        text-align: right;\n    }\n</style>\n<table border=\"1\" class=\"dataframe\">\n  <thead>\n    <tr style=\"text-align: right;\">\n      <th></th>\n      <th>N</th>\n      <th>P</th>\n      <th>K</th>\n      <th>temperature</th>\n      <th>humidity</th>\n      <th>ph</th>\n      <th>rainfall</th>\n      <th>label</th>\n    </tr>\n  </thead>\n  <tbody>\n    <tr>\n      <th>0</th>\n      <td>90</td>\n      <td>42</td>\n      <td>43</td>\n      <td>20.879744</td>\n      <td>82.002744</td>\n      <td>6.502985</td>\n      <td>202.935536</td>\n      <td>rice</td>\n    </tr>\n    <tr>\n      <th>1</th>\n      <td>85</td>\n      <td>58</td>\n      <td>41</td>\n      <td>21.770462</td>\n      <td>80.319644</td>\n      <td>7.038096</td>\n      <td>226.655537</td>\n      <td>rice</td>\n    </tr>\n    <tr>\n      <th>2</th>\n      <td>60</td>\n      <td>55</td>\n      <td>44</td>\n      <td>23.004459</td>\n      <td>82.320763</td>\n      <td>7.840207</td>\n      <td>263.964248</td>\n      <td>rice</td>\n    </tr>\n    <tr>\n      <th>3</th>\n      <td>74</td>\n      <td>35</td>\n      <td>40</td>\n      <td>26.491096</td>\n      <td>80.158363</td>\n      <td>6.980401</td>\n      <td>242.864034</td>\n      <td>rice</td>\n    </tr>\n    <tr>\n      <th>4</th>\n      <td>78</td>\n      <td>42</td>\n      <td>42</td>\n      <td>20.130175</td>\n      <td>81.604873</td>\n      <td>7.628473</td>\n      <td>262.717340</td>\n      <td>rice</td>\n    </tr>\n    <tr>\n      <th>...</th>\n      <td>...</td>\n      <td>...</td>\n      <td>...</td>\n      <td>...</td>\n      <td>...</td>\n      <td>...</td>\n      <td>...</td>\n      <td>...</td>\n    </tr>\n    <tr>\n      <th>2195</th>\n      <td>107</td>\n      <td>34</td>\n      <td>32</td>\n      <td>26.774637</td>\n      <td>66.413269</td>\n      <td>6.780064</td>\n      <td>177.774507</td>\n      <td>coffee</td>\n    </tr>\n    <tr>\n      <th>2196</th>\n      <td>99</td>\n      <td>15</td>\n      <td>27</td>\n      <td>27.417112</td>\n      <td>56.636362</td>\n      <td>6.086922</td>\n      <td>127.924610</td>\n      <td>coffee</td>\n    </tr>\n    <tr>\n      <th>2197</th>\n      <td>118</td>\n      <td>33</td>\n      <td>30</td>\n      <td>24.131797</td>\n      <td>67.225123</td>\n      <td>6.362608</td>\n      <td>173.322839</td>\n      <td>coffee</td>\n    </tr>\n    <tr>\n      <th>2198</th>\n      <td>117</td>\n      <td>32</td>\n      <td>34</td>\n      <td>26.272418</td>\n      <td>52.127394</td>\n      <td>6.758793</td>\n      <td>127.175293</td>\n      <td>coffee</td>\n    </tr>\n    <tr>\n      <th>2199</th>\n      <td>104</td>\n      <td>18</td>\n      <td>30</td>\n      <td>23.603016</td>\n      <td>60.396475</td>\n      <td>6.779833</td>\n      <td>140.937041</td>\n      <td>coffee</td>\n    </tr>\n  </tbody>\n</table>\n<p>2200 rows × 8 columns</p>\n</div>"
     },
     "execution_count": 13,
     "metadata": {},
     "output_type": "execute_result"
    }
   ],
   "source": [
    "df"
   ],
   "metadata": {
    "collapsed": false,
    "ExecuteTime": {
     "end_time": "2023-10-26T10:55:40.710305Z",
     "start_time": "2023-10-26T10:55:40.589299500Z"
    }
   },
   "id": "ef1c37c7335f253c"
  },
  {
   "cell_type": "code",
   "execution_count": 14,
   "outputs": [
    {
     "data": {
      "text/plain": "   Contenido_de_Nitrogeno  Contenido_de_Fosforo  Contenido_de_Potasio  \\\n0                      90                    42                    43   \n1                      85                    58                    41   \n2                      60                    55                    44   \n3                      74                    35                    40   \n4                      78                    42                    42   \n\n   Temperatura_C  Humedad_Relativa  Nivel_de_pH  Precipitacion_mm  \\\n0      20.879744         82.002744     6.502985        202.935536   \n1      21.770462         80.319644     7.038096        226.655537   \n2      23.004459         82.320763     7.840207        263.964248   \n3      26.491096         80.158363     6.980401        242.864034   \n4      20.130175         81.604873     7.628473        262.717340   \n\n  Tipo_de_Cultivo  \n0            rice  \n1            rice  \n2            rice  \n3            rice  \n4            rice  ",
      "text/html": "<div>\n<style scoped>\n    .dataframe tbody tr th:only-of-type {\n        vertical-align: middle;\n    }\n\n    .dataframe tbody tr th {\n        vertical-align: top;\n    }\n\n    .dataframe thead th {\n        text-align: right;\n    }\n</style>\n<table border=\"1\" class=\"dataframe\">\n  <thead>\n    <tr style=\"text-align: right;\">\n      <th></th>\n      <th>Contenido_de_Nitrogeno</th>\n      <th>Contenido_de_Fosforo</th>\n      <th>Contenido_de_Potasio</th>\n      <th>Temperatura_C</th>\n      <th>Humedad_Relativa</th>\n      <th>Nivel_de_pH</th>\n      <th>Precipitacion_mm</th>\n      <th>Tipo_de_Cultivo</th>\n    </tr>\n  </thead>\n  <tbody>\n    <tr>\n      <th>0</th>\n      <td>90</td>\n      <td>42</td>\n      <td>43</td>\n      <td>20.879744</td>\n      <td>82.002744</td>\n      <td>6.502985</td>\n      <td>202.935536</td>\n      <td>rice</td>\n    </tr>\n    <tr>\n      <th>1</th>\n      <td>85</td>\n      <td>58</td>\n      <td>41</td>\n      <td>21.770462</td>\n      <td>80.319644</td>\n      <td>7.038096</td>\n      <td>226.655537</td>\n      <td>rice</td>\n    </tr>\n    <tr>\n      <th>2</th>\n      <td>60</td>\n      <td>55</td>\n      <td>44</td>\n      <td>23.004459</td>\n      <td>82.320763</td>\n      <td>7.840207</td>\n      <td>263.964248</td>\n      <td>rice</td>\n    </tr>\n    <tr>\n      <th>3</th>\n      <td>74</td>\n      <td>35</td>\n      <td>40</td>\n      <td>26.491096</td>\n      <td>80.158363</td>\n      <td>6.980401</td>\n      <td>242.864034</td>\n      <td>rice</td>\n    </tr>\n    <tr>\n      <th>4</th>\n      <td>78</td>\n      <td>42</td>\n      <td>42</td>\n      <td>20.130175</td>\n      <td>81.604873</td>\n      <td>7.628473</td>\n      <td>262.717340</td>\n      <td>rice</td>\n    </tr>\n  </tbody>\n</table>\n</div>"
     },
     "execution_count": 14,
     "metadata": {},
     "output_type": "execute_result"
    }
   ],
   "source": [
    "# Cambiar los nombres de las columnas\n",
    "column_names_map = {\n",
    "    'N': 'Contenido_de_Nitrogeno',\n",
    "    'P': 'Contenido_de_Fosforo',\n",
    "    'K': 'Contenido_de_Potasio',\n",
    "    'temperature': 'Temperatura_C',\n",
    "    'humidity': 'Humedad_Relativa',\n",
    "    'ph': 'Nivel_de_pH',\n",
    "    'rainfall': 'Precipitacion_mm',\n",
    "    'label': 'Tipo_de_Cultivo'\n",
    "}\n",
    "\n",
    "df.rename(columns=column_names_map, inplace=True)\n",
    "\n",
    "# Mostrar las primeras filas del dataset con los nuevos nombres de columnas\n",
    "df.head()\n"
   ],
   "metadata": {
    "collapsed": false,
    "ExecuteTime": {
     "end_time": "2023-10-26T10:56:47.018872200Z",
     "start_time": "2023-10-26T10:56:46.942541400Z"
    }
   },
   "id": "7551ee919d360e89"
  },
  {
   "cell_type": "code",
   "execution_count": 15,
   "outputs": [
    {
     "data": {
      "text/plain": "array(['rice', 'maize', 'chickpea', 'kidneybeans', 'pigeonpeas',\n       'mothbeans', 'mungbean', 'blackgram', 'lentil', 'pomegranate',\n       'banana', 'mango', 'grapes', 'watermelon', 'muskmelon', 'apple',\n       'orange', 'papaya', 'coconut', 'cotton', 'jute', 'coffee'],\n      dtype=object)"
     },
     "execution_count": 15,
     "metadata": {},
     "output_type": "execute_result"
    }
   ],
   "source": [
    "df.Tipo_de_Cultivo.unique()"
   ],
   "metadata": {
    "collapsed": false,
    "ExecuteTime": {
     "end_time": "2023-10-26T10:56:53.886847700Z",
     "start_time": "2023-10-26T10:56:53.808730900Z"
    }
   },
   "id": "f5da79ea5b2cd7f5"
  },
  {
   "cell_type": "code",
   "execution_count": 16,
   "outputs": [],
   "source": [
    "df.to_csv(\"tipo_cultivo.csv\")"
   ],
   "metadata": {
    "collapsed": false,
    "ExecuteTime": {
     "end_time": "2023-10-26T10:59:42.582952400Z",
     "start_time": "2023-10-26T10:59:42.533129900Z"
    }
   },
   "id": "f4628e3dcf67f3cd"
  },
  {
   "cell_type": "code",
   "execution_count": null,
   "outputs": [],
   "source": [
    "\n",
    "\n",
    "from sklearn.tree import DecisionTreeClassifier\n",
    "from sklearn.model_selection import cross_val_score\n",
    "import matplotlib.pyplot as plt\n",
    "import seaborn as sns\n",
    "\n",
    "# Crear el modelo\n",
    "decision_tree_model = DecisionTreeClassifier(criterion=\"entropy\", random_state=2, max_depth=5)\n",
    "\n",
    "# Validación cruzada\n",
    "score = cross_val_score(decision_tree_model, features, target, cv=5)\n",
    "print('Puntuación de validación cruzada:', score)\n",
    "\n",
    "# Precisión en entrenamiento\n",
    "dt_train_accuracy = decision_tree_model.score(x_train, y_train)\n",
    "print(\"Precisión en entrenamiento =\", dt_train_accuracy)\n",
    "\n",
    "# Precisión en pruebas\n",
    "dt_test_accuracy = decision_tree_model.score(x_test, y_test)\n",
    "print(\"Precisión en pruebas =\", dt_test_accuracy)\n",
    "\n",
    "# Matriz de confusión\n",
    "y_pred = decision_tree_model.predict(x_test)\n",
    "y_true = y_test\n",
    "from sklearn.metrics import confusion_matrix\n",
    "cm_dt = confusion_matrix(y_true, y_pred)\n",
    "\n",
    "# Visualización de la matriz de confusión\n",
    "f, ax = plt.subplots(figsize=(15, 10))\n",
    "sns.heatmap(cm_dt, annot=True, linewidth=0.5, fmt=\".0f\", cmap='viridis', ax=ax)\n",
    "plt.xlabel(\"Predicho\")\n",
    "plt.ylabel(\"Real\")\n",
    "plt.title('Matriz de Confusión')\n",
    "plt.show()"
   ],
   "metadata": {
    "collapsed": false
   },
   "id": "b6cc2cf4d4281b2a"
  }
 ],
 "metadata": {
  "kernelspec": {
   "display_name": "Python 3",
   "language": "python",
   "name": "python3"
  },
  "language_info": {
   "codemirror_mode": {
    "name": "ipython",
    "version": 2
   },
   "file_extension": ".py",
   "mimetype": "text/x-python",
   "name": "python",
   "nbconvert_exporter": "python",
   "pygments_lexer": "ipython2",
   "version": "2.7.6"
  }
 },
 "nbformat": 4,
 "nbformat_minor": 5
}
