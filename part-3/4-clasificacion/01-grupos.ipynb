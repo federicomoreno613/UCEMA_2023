{
 "cells": [
  {
   "cell_type": "markdown",
   "metadata": {},
   "source": [
    "# EDA users\n",
    "\n",
    "El dataset de users contiene informacion del estado del cliente a la hora de pedir un prestamo.\n",
    "\n",
    "Analizaremos a continuación:\n",
    "* Distancia entre prestamos:\n",
    "    * ¿Hay clientes de deuda mas habituales? Hay tipo de clientes eventuales? \n",
    "    * ¿Hay alguna correlacion entre frecuencia de prestamos y morosidad? \n",
    "* Navegacion.\n",
    "    *   Distribucion de la navegacion\n",
    "        * Navegacion segun morosidad (dos histogramas)\n",
    "    * Los clientes que navegan mas pagan mas? Histograma por bins de navegacion\n",
    "  \n",
    "\n",
    "| users | target                 | Variable to indicate a non performing loan (Non-paid order or Order paid after 15 days post due date)  |   |   |\n",
    "|:-----:|------------------------|--------------------------------------------------------------------------------------------------------|---|---|\n",
    "| users | customer_id            | identification number per buyer                                                                        |   |   |\n",
    "| users | order_number           | identification number per transaction (acording with logistics)                                        |   |   |\n",
    "| users | city                   | city where order was located (BOG: Bogota, BAQ: Barranquilla, MDE: Medellin )                          |   |   |\n",
    "| users | origination_amt        | aoriginated amount for the order                                                                       |   |   |\n",
    "| users | segment                | user segment                                                                                           |   |   |\n",
    "| users | microsegment           | user sub segment                                                                                       |   |   |\n",
    "| users | close_date             | date when the order was delivered                                                                      |   |   |\n",
    "| users | due_date               | due date of the loan                                                                                   |   |   |\n",
    "| users | payment_date           | date of the payment                                                                                    |   |   |\n",
    "| users | order_closed_cohort    | cohort to corresponds the order according to close date                                                |   |   |\n",
    "| users | ord_due_cohort         | cohort to corresponds the order according to due date                                                  |   |   |\n",
    "| users | payment_cohort         | cohort to corresponds the order according to payment date                                              |   |   |\n",
    "| users | dif_pymt_date          | difference in days between payment date and due date                                                   |   |   |\n",
    "| users | dow_closed             | day of week when the order was closed                                                                  |   |   |\n",
    "| users | frucap_order_rank      | order rank in terms of all their orders with credit frubana                                            |   |   |\n",
    "| users | paid_flag              | flag to indicate if the loan was paid                                                                  |   |   |\n",
    "| users | count_sessions         | number of initiated session in the app in the las 60 days                                              |   |   |\n",
    "| users | avg_navi_time_60d_secs | average navigation time (in Seconds) of sessions in the last 3 months according to name in the file    |   |   |\n",
    "| users | last_navi_date_days    | days between the order an the last session in the app                                                  |   |   |"
   ]
  },
  {
   "cell_type": "markdown",
   "metadata": {},
   "source": [
    "# 1 Target: ventana temporal de chequeo"
   ]
  },
  {
   "cell_type": "markdown",
   "metadata": {},
   "source": [
    "El problema que tenemos es que cada usuario que puede llegar a tener un credito lo tiene en diferentes momentos en comparación a los demas. Sin embargo, no es la misma ventana de transaccionalibilidad para todos."
   ]
  },
  {
   "cell_type": "code",
   "execution_count": 3,
   "metadata": {
    "ExecuteTime": {
     "end_time": "2023-10-26T09:45:53.635066Z",
     "start_time": "2023-10-26T09:45:53.544023600Z"
    }
   },
   "outputs": [],
   "source": [
    "import pandas as pd\n",
    "path_data = \"data/\"\n",
    "# Cargar los DataFrames de usuarios y transacciones\n",
    "users_df = pd.read_csv(path_data + 'users.csv')"
   ]
  }
 ],
 "metadata": {
  "kernelspec": {
   "display_name": "base",
   "language": "python",
   "name": "python3"
  },
  "language_info": {
   "codemirror_mode": {
    "name": "ipython",
    "version": 3
   },
   "file_extension": ".py",
   "mimetype": "text/x-python",
   "name": "python",
   "nbconvert_exporter": "python",
   "pygments_lexer": "ipython3",
   "version": "3.9.18"
  }
 },
 "nbformat": 4,
 "nbformat_minor": 2
}
