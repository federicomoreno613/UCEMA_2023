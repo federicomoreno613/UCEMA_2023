{
 "cells": [
  {
   "cell_type": "markdown",
   "metadata": {},
   "source": [
    "# 1 Target: ventana temporal de chequeo"
   ]
  },
  {
   "cell_type": "markdown",
   "metadata": {},
   "source": [
    "El problema que tenemos es que cada usuario que puede llegar a tener un credito lo tiene en diferentes momentos en comparación a los demas. Sin embargo, no es la misma ventana de transaccionalibilidad para todos."
   ]
  },
  {
   "cell_type": "code",
   "execution_count": 13,
   "metadata": {},
   "outputs": [
    {
     "name": "stdout",
     "output_type": "stream",
     "text": [
      "total 36\r\n",
      "-rw-r--r-- 1 fede fede  9313 Oct 26 09:04 01-grupos.ipynb\r\n",
      "-rw-r--r-- 1 fede fede 17718 Oct 26 07:04 02_titanic.ipynb\r\n",
      "drwxr-xr-x 2 fede fede  4096 Oct 26 07:09 data\r\n"
     ]
    }
   ],
   "source": [
    "!ls -l"
   ]
  },
  {
   "cell_type": "code",
   "execution_count": 14,
   "metadata": {},
   "outputs": [
    {
     "name": "stdout",
     "output_type": "stream",
     "text": [
      "users.csv\r\n"
     ]
    }
   ],
   "source": [
    "!ls data"
   ]
  },
  {
   "cell_type": "code",
   "execution_count": 15,
   "metadata": {},
   "outputs": [
    {
     "name": "stdout",
     "output_type": "stream",
     "text": [
      "/home/fede/code/UCEMA_2023/part-3/4-clasificacion/03_dataset_completos\r\n"
     ]
    }
   ],
   "source": [
    "!pwd"
   ]
  },
  {
   "cell_type": "code",
   "execution_count": 1,
   "metadata": {
    "ExecuteTime": {
     "end_time": "2023-10-26T09:45:53.635066Z",
     "start_time": "2023-10-26T09:45:53.544023600Z"
    }
   },
   "outputs": [],
   "source": [
    "import pandas as pd\n",
    "path_data = \"data/\"\n",
    "# Cargar los DataFrames de usuarios y transacciones\n",
    "users_df = pd.read_csv(path_data + 'users.csv')"
   ]
  },
  {
   "cell_type": "code",
   "execution_count": 2,
   "metadata": {},
   "outputs": [
    {
     "data": {
      "text/plain": [
       "(21215, 19)"
      ]
     },
     "execution_count": 2,
     "metadata": {},
     "output_type": "execute_result"
    }
   ],
   "source": [
    "users_df.shape"
   ]
  },
  {
   "cell_type": "code",
   "execution_count": 3,
   "metadata": {},
   "outputs": [
    {
     "data": {
      "text/plain": [
       "(21215, 19)"
      ]
     },
     "execution_count": 3,
     "metadata": {},
     "output_type": "execute_result"
    }
   ],
   "source": [
    "users_df.shape"
   ]
  },
  {
   "cell_type": "code",
   "execution_count": 22,
   "metadata": {},
   "outputs": [
    {
     "data": {
      "text/html": [
       "<div>\n",
       "<style scoped>\n",
       "    .dataframe tbody tr th:only-of-type {\n",
       "        vertical-align: middle;\n",
       "    }\n",
       "\n",
       "    .dataframe tbody tr th {\n",
       "        vertical-align: top;\n",
       "    }\n",
       "\n",
       "    .dataframe thead th {\n",
       "        text-align: right;\n",
       "    }\n",
       "</style>\n",
       "<table border=\"1\" class=\"dataframe\">\n",
       "  <thead>\n",
       "    <tr style=\"text-align: right;\">\n",
       "      <th></th>\n",
       "      <th>fecha_orden</th>\n",
       "      <th>target</th>\n",
       "    </tr>\n",
       "  </thead>\n",
       "  <tbody>\n",
       "    <tr>\n",
       "      <th>0</th>\n",
       "      <td>2022-10-06</td>\n",
       "      <td>0</td>\n",
       "    </tr>\n",
       "    <tr>\n",
       "      <th>1</th>\n",
       "      <td>2022-11-16</td>\n",
       "      <td>0</td>\n",
       "    </tr>\n",
       "    <tr>\n",
       "      <th>2</th>\n",
       "      <td>2022-12-03</td>\n",
       "      <td>0</td>\n",
       "    </tr>\n",
       "    <tr>\n",
       "      <th>3</th>\n",
       "      <td>2022-12-17</td>\n",
       "      <td>1</td>\n",
       "    </tr>\n",
       "    <tr>\n",
       "      <th>4</th>\n",
       "      <td>2023-01-18</td>\n",
       "      <td>0</td>\n",
       "    </tr>\n",
       "  </tbody>\n",
       "</table>\n",
       "</div>"
      ],
      "text/plain": [
       "  fecha_orden  target\n",
       "0  2022-10-06       0\n",
       "1  2022-11-16       0\n",
       "2  2022-12-03       0\n",
       "3  2022-12-17       1\n",
       "4  2023-01-18       0"
      ]
     },
     "execution_count": 22,
     "metadata": {},
     "output_type": "execute_result"
    }
   ],
   "source": [
    "users_df[users_df.id_cliente == -254861][[\"fecha_orden\",\"target\"]]"
   ]
  },
  {
   "cell_type": "code",
   "execution_count": 15,
   "metadata": {},
   "outputs": [
    {
     "data": {
      "text/html": [
       "<div>\n",
       "<style scoped>\n",
       "    .dataframe tbody tr th:only-of-type {\n",
       "        vertical-align: middle;\n",
       "    }\n",
       "\n",
       "    .dataframe tbody tr th {\n",
       "        vertical-align: top;\n",
       "    }\n",
       "\n",
       "    .dataframe thead th {\n",
       "        text-align: right;\n",
       "    }\n",
       "</style>\n",
       "<table border=\"1\" class=\"dataframe\">\n",
       "  <thead>\n",
       "    <tr style=\"text-align: right;\">\n",
       "      <th></th>\n",
       "      <th>Unnamed: 0</th>\n",
       "      <th>target</th>\n",
       "      <th>id_cliente</th>\n",
       "      <th>orden_nro</th>\n",
       "      <th>ciudad</th>\n",
       "      <th>monto</th>\n",
       "      <th>segmento</th>\n",
       "      <th>microsegmento</th>\n",
       "      <th>fecha_orden</th>\n",
       "      <th>fecha_de_vencimiento</th>\n",
       "      <th>fecha_de_pago</th>\n",
       "      <th>order_closed_cohort</th>\n",
       "      <th>ord_due_cohort</th>\n",
       "      <th>payment_cohort</th>\n",
       "      <th>dif_pymt_date</th>\n",
       "      <th>dow_closed</th>\n",
       "      <th>cantidad_sesiones</th>\n",
       "      <th>tiempo_promedio_navegacion</th>\n",
       "      <th>days_ultima_navegacion</th>\n",
       "    </tr>\n",
       "  </thead>\n",
       "  <tbody>\n",
       "    <tr>\n",
       "      <th>0</th>\n",
       "      <td>0</td>\n",
       "      <td>0</td>\n",
       "      <td>-254861</td>\n",
       "      <td>71455943905963</td>\n",
       "      <td>BOG</td>\n",
       "      <td>277133.55</td>\n",
       "      <td>restaurante</td>\n",
       "      <td>cafetería</td>\n",
       "      <td>2022-10-06</td>\n",
       "      <td>2022-10-13</td>\n",
       "      <td>2022-10-12</td>\n",
       "      <td>2022-10-01</td>\n",
       "      <td>2022-10-01</td>\n",
       "      <td>2022-10-01</td>\n",
       "      <td>-1.0</td>\n",
       "      <td>3</td>\n",
       "      <td>21</td>\n",
       "      <td>614.333333</td>\n",
       "      <td>1.0</td>\n",
       "    </tr>\n",
       "    <tr>\n",
       "      <th>1</th>\n",
       "      <td>1</td>\n",
       "      <td>0</td>\n",
       "      <td>-254861</td>\n",
       "      <td>52135310417582</td>\n",
       "      <td>BOG</td>\n",
       "      <td>299324.79</td>\n",
       "      <td>restaurante</td>\n",
       "      <td>cafetería</td>\n",
       "      <td>2022-11-16</td>\n",
       "      <td>2022-11-23</td>\n",
       "      <td>2022-12-01</td>\n",
       "      <td>2022-11-01</td>\n",
       "      <td>2022-11-01</td>\n",
       "      <td>2022-12-01</td>\n",
       "      <td>8.0</td>\n",
       "      <td>2</td>\n",
       "      <td>23</td>\n",
       "      <td>642.130435</td>\n",
       "      <td>1.0</td>\n",
       "    </tr>\n",
       "  </tbody>\n",
       "</table>\n",
       "</div>"
      ],
      "text/plain": [
       "   Unnamed: 0  target  id_cliente       orden_nro ciudad      monto  \\\n",
       "0           0       0     -254861  71455943905963    BOG  277133.55   \n",
       "1           1       0     -254861  52135310417582    BOG  299324.79   \n",
       "\n",
       "      segmento microsegmento fecha_orden fecha_de_vencimiento fecha_de_pago  \\\n",
       "0  restaurante     cafetería  2022-10-06           2022-10-13    2022-10-12   \n",
       "1  restaurante     cafetería  2022-11-16           2022-11-23    2022-12-01   \n",
       "\n",
       "  order_closed_cohort ord_due_cohort payment_cohort  dif_pymt_date  \\\n",
       "0          2022-10-01     2022-10-01     2022-10-01           -1.0   \n",
       "1          2022-11-01     2022-11-01     2022-12-01            8.0   \n",
       "\n",
       "   dow_closed  cantidad_sesiones  tiempo_promedio_navegacion  \\\n",
       "0           3                 21                  614.333333   \n",
       "1           2                 23                  642.130435   \n",
       "\n",
       "   days_ultima_navegacion  \n",
       "0                     1.0  \n",
       "1                     1.0  "
      ]
     },
     "execution_count": 15,
     "metadata": {},
     "output_type": "execute_result"
    }
   ],
   "source": [
    "users_df.head(2)"
   ]
  },
  {
   "cell_type": "code",
   "execution_count": 11,
   "metadata": {},
   "outputs": [
    {
     "data": {
      "text/plain": [
       "restaurante    18375\n",
       "hogar           1495\n",
       "comercio        1068\n",
       "duplicated       199\n",
       "institución       72\n",
       "fraud              5\n",
       "na                 1\n",
       "Name: segmento, dtype: int64"
      ]
     },
     "execution_count": 11,
     "metadata": {},
     "output_type": "execute_result"
    }
   ],
   "source": [
    "users_df.segmento.value_counts(dropna=False)"
   ]
  },
  {
   "cell_type": "code",
   "execution_count": null,
   "metadata": {},
   "outputs": [],
   "source": [
    "users_df"
   ]
  },
  {
   "cell_type": "markdown",
   "metadata": {},
   "source": [
    "### Analisis\n",
    "\n",
    "Tengo dos variables para analizar. El target. "
   ]
  },
  {
   "cell_type": "code",
   "execution_count": 42,
   "metadata": {},
   "outputs": [
    {
     "data": {
      "text/plain": [
       "0    17782\n",
       "1     3433\n",
       "Name: target, dtype: int64"
      ]
     },
     "execution_count": 42,
     "metadata": {},
     "output_type": "execute_result"
    }
   ],
   "source": [
    "users_df[\"target\"].value_counts()"
   ]
  },
  {
   "cell_type": "code",
   "execution_count": 41,
   "metadata": {
    "scrolled": true
   },
   "outputs": [
    {
     "data": {
      "text/html": [
       "<div>\n",
       "<style scoped>\n",
       "    .dataframe tbody tr th:only-of-type {\n",
       "        vertical-align: middle;\n",
       "    }\n",
       "\n",
       "    .dataframe tbody tr th {\n",
       "        vertical-align: top;\n",
       "    }\n",
       "\n",
       "    .dataframe thead th {\n",
       "        text-align: right;\n",
       "    }\n",
       "</style>\n",
       "<table border=\"1\" class=\"dataframe\">\n",
       "  <thead>\n",
       "    <tr style=\"text-align: right;\">\n",
       "      <th></th>\n",
       "      <th>cantidad</th>\n",
       "    </tr>\n",
       "    <tr>\n",
       "      <th>segmento</th>\n",
       "      <th></th>\n",
       "    </tr>\n",
       "  </thead>\n",
       "  <tbody>\n",
       "    <tr>\n",
       "      <th>comercio</th>\n",
       "      <td>186</td>\n",
       "    </tr>\n",
       "    <tr>\n",
       "      <th>duplicated</th>\n",
       "      <td>37</td>\n",
       "    </tr>\n",
       "    <tr>\n",
       "      <th>fraud</th>\n",
       "      <td>0</td>\n",
       "    </tr>\n",
       "    <tr>\n",
       "      <th>hogar</th>\n",
       "      <td>327</td>\n",
       "    </tr>\n",
       "    <tr>\n",
       "      <th>institución</th>\n",
       "      <td>11</td>\n",
       "    </tr>\n",
       "    <tr>\n",
       "      <th>na</th>\n",
       "      <td>0</td>\n",
       "    </tr>\n",
       "    <tr>\n",
       "      <th>restaurante</th>\n",
       "      <td>2872</td>\n",
       "    </tr>\n",
       "  </tbody>\n",
       "</table>\n",
       "</div>"
      ],
      "text/plain": [
       "             cantidad\n",
       "segmento             \n",
       "comercio          186\n",
       "duplicated         37\n",
       "fraud               0\n",
       "hogar             327\n",
       "institución        11\n",
       "na                  0\n",
       "restaurante      2872"
      ]
     },
     "execution_count": 41,
     "metadata": {},
     "output_type": "execute_result"
    }
   ],
   "source": [
    "users_df.groupby([\"segmento\"]).agg(cantidad=(\"target\",\"sum\"))"
   ]
  },
  {
   "cell_type": "code",
   "execution_count": 43,
   "metadata": {},
   "outputs": [
    {
     "data": {
      "text/html": [
       "<div>\n",
       "<style scoped>\n",
       "    .dataframe tbody tr th:only-of-type {\n",
       "        vertical-align: middle;\n",
       "    }\n",
       "\n",
       "    .dataframe tbody tr th {\n",
       "        vertical-align: top;\n",
       "    }\n",
       "\n",
       "    .dataframe thead th {\n",
       "        text-align: right;\n",
       "    }\n",
       "</style>\n",
       "<table border=\"1\" class=\"dataframe\">\n",
       "  <thead>\n",
       "    <tr style=\"text-align: right;\">\n",
       "      <th></th>\n",
       "      <th>cantidad</th>\n",
       "    </tr>\n",
       "    <tr>\n",
       "      <th>segmento</th>\n",
       "      <th></th>\n",
       "    </tr>\n",
       "  </thead>\n",
       "  <tbody>\n",
       "    <tr>\n",
       "      <th>comercio</th>\n",
       "      <td>0.174157</td>\n",
       "    </tr>\n",
       "    <tr>\n",
       "      <th>duplicated</th>\n",
       "      <td>0.185930</td>\n",
       "    </tr>\n",
       "    <tr>\n",
       "      <th>fraud</th>\n",
       "      <td>0.000000</td>\n",
       "    </tr>\n",
       "    <tr>\n",
       "      <th>hogar</th>\n",
       "      <td>0.218729</td>\n",
       "    </tr>\n",
       "    <tr>\n",
       "      <th>institución</th>\n",
       "      <td>0.152778</td>\n",
       "    </tr>\n",
       "    <tr>\n",
       "      <th>na</th>\n",
       "      <td>0.000000</td>\n",
       "    </tr>\n",
       "    <tr>\n",
       "      <th>restaurante</th>\n",
       "      <td>0.156299</td>\n",
       "    </tr>\n",
       "  </tbody>\n",
       "</table>\n",
       "</div>"
      ],
      "text/plain": [
       "             cantidad\n",
       "segmento             \n",
       "comercio     0.174157\n",
       "duplicated   0.185930\n",
       "fraud        0.000000\n",
       "hogar        0.218729\n",
       "institución  0.152778\n",
       "na           0.000000\n",
       "restaurante  0.156299"
      ]
     },
     "execution_count": 43,
     "metadata": {},
     "output_type": "execute_result"
    }
   ],
   "source": [
    "users_df.groupby([\"segmento\"]).agg(cantidad=(\"target\",\"mean\"))"
   ]
  },
  {
   "cell_type": "code",
   "execution_count": 19,
   "metadata": {
    "scrolled": true
   },
   "outputs": [
    {
     "data": {
      "text/plain": [
       "['Unnamed: 0',\n",
       " 'target',\n",
       " 'id_cliente',\n",
       " 'orden_nro',\n",
       " 'ciudad',\n",
       " 'monto',\n",
       " 'segmento',\n",
       " 'microsegmento',\n",
       " 'fecha_orden',\n",
       " 'fecha_de_vencimiento',\n",
       " 'fecha_de_pago',\n",
       " 'order_closed_cohort',\n",
       " 'ord_due_cohort',\n",
       " 'payment_cohort',\n",
       " 'dif_pymt_date',\n",
       " 'dow_closed',\n",
       " 'cantidad_sesiones',\n",
       " 'tiempo_promedio_navegacion',\n",
       " 'days_ultima_navegacion']"
      ]
     },
     "execution_count": 19,
     "metadata": {},
     "output_type": "execute_result"
    }
   ],
   "source": [
    "list(users_df)"
   ]
  },
  {
   "cell_type": "code",
   "execution_count": 20,
   "metadata": {},
   "outputs": [],
   "source": [
    "users_df['fecha_orden'] = pd.to_datetime(users_df['fecha_orden'])"
   ]
  },
  {
   "cell_type": "code",
   "execution_count": 31,
   "metadata": {},
   "outputs": [],
   "source": [
    "users_df['fecha_entrega_lag'] = users_df.groupby('id_cliente')['fecha_orden'].shift(-1)"
   ]
  },
  {
   "cell_type": "code",
   "execution_count": 32,
   "metadata": {},
   "outputs": [
    {
     "data": {
      "text/html": [
       "<div>\n",
       "<style scoped>\n",
       "    .dataframe tbody tr th:only-of-type {\n",
       "        vertical-align: middle;\n",
       "    }\n",
       "\n",
       "    .dataframe tbody tr th {\n",
       "        vertical-align: top;\n",
       "    }\n",
       "\n",
       "    .dataframe thead th {\n",
       "        text-align: right;\n",
       "    }\n",
       "</style>\n",
       "<table border=\"1\" class=\"dataframe\">\n",
       "  <thead>\n",
       "    <tr style=\"text-align: right;\">\n",
       "      <th></th>\n",
       "      <th>fecha_orden</th>\n",
       "      <th>target</th>\n",
       "      <th>fecha_entrega_lag</th>\n",
       "    </tr>\n",
       "  </thead>\n",
       "  <tbody>\n",
       "    <tr>\n",
       "      <th>0</th>\n",
       "      <td>2022-10-06</td>\n",
       "      <td>0</td>\n",
       "      <td>2022-11-16</td>\n",
       "    </tr>\n",
       "    <tr>\n",
       "      <th>1</th>\n",
       "      <td>2022-11-16</td>\n",
       "      <td>0</td>\n",
       "      <td>2022-12-03</td>\n",
       "    </tr>\n",
       "    <tr>\n",
       "      <th>2</th>\n",
       "      <td>2022-12-03</td>\n",
       "      <td>0</td>\n",
       "      <td>2022-12-17</td>\n",
       "    </tr>\n",
       "    <tr>\n",
       "      <th>3</th>\n",
       "      <td>2022-12-17</td>\n",
       "      <td>1</td>\n",
       "      <td>2023-01-18</td>\n",
       "    </tr>\n",
       "    <tr>\n",
       "      <th>4</th>\n",
       "      <td>2023-01-18</td>\n",
       "      <td>0</td>\n",
       "      <td>NaT</td>\n",
       "    </tr>\n",
       "  </tbody>\n",
       "</table>\n",
       "</div>"
      ],
      "text/plain": [
       "  fecha_orden  target fecha_entrega_lag\n",
       "0  2022-10-06       0        2022-11-16\n",
       "1  2022-11-16       0        2022-12-03\n",
       "2  2022-12-03       0        2022-12-17\n",
       "3  2022-12-17       1        2023-01-18\n",
       "4  2023-01-18       0               NaT"
      ]
     },
     "execution_count": 32,
     "metadata": {},
     "output_type": "execute_result"
    }
   ],
   "source": [
    "users_df[users_df.id_cliente == -254861][[\"fecha_orden\",\"target\",'fecha_entrega_lag']]"
   ]
  },
  {
   "cell_type": "code",
   "execution_count": 33,
   "metadata": {},
   "outputs": [],
   "source": [
    "users_df['diferencia_dias'] = (users_df['fecha_entrega_lag'] - users_df['fecha_orden']).dt.days"
   ]
  },
  {
   "cell_type": "code",
   "execution_count": 35,
   "metadata": {},
   "outputs": [
    {
     "data": {
      "text/html": [
       "<div>\n",
       "<style scoped>\n",
       "    .dataframe tbody tr th:only-of-type {\n",
       "        vertical-align: middle;\n",
       "    }\n",
       "\n",
       "    .dataframe tbody tr th {\n",
       "        vertical-align: top;\n",
       "    }\n",
       "\n",
       "    .dataframe thead th {\n",
       "        text-align: right;\n",
       "    }\n",
       "</style>\n",
       "<table border=\"1\" class=\"dataframe\">\n",
       "  <thead>\n",
       "    <tr style=\"text-align: right;\">\n",
       "      <th></th>\n",
       "      <th>fecha_orden</th>\n",
       "      <th>target</th>\n",
       "      <th>fecha_entrega_lag</th>\n",
       "      <th>diferencia_dias</th>\n",
       "    </tr>\n",
       "  </thead>\n",
       "  <tbody>\n",
       "    <tr>\n",
       "      <th>0</th>\n",
       "      <td>2022-10-06</td>\n",
       "      <td>0</td>\n",
       "      <td>2022-11-16</td>\n",
       "      <td>41.0</td>\n",
       "    </tr>\n",
       "    <tr>\n",
       "      <th>1</th>\n",
       "      <td>2022-11-16</td>\n",
       "      <td>0</td>\n",
       "      <td>2022-12-03</td>\n",
       "      <td>17.0</td>\n",
       "    </tr>\n",
       "    <tr>\n",
       "      <th>2</th>\n",
       "      <td>2022-12-03</td>\n",
       "      <td>0</td>\n",
       "      <td>2022-12-17</td>\n",
       "      <td>14.0</td>\n",
       "    </tr>\n",
       "    <tr>\n",
       "      <th>3</th>\n",
       "      <td>2022-12-17</td>\n",
       "      <td>1</td>\n",
       "      <td>2023-01-18</td>\n",
       "      <td>32.0</td>\n",
       "    </tr>\n",
       "    <tr>\n",
       "      <th>4</th>\n",
       "      <td>2023-01-18</td>\n",
       "      <td>0</td>\n",
       "      <td>NaT</td>\n",
       "      <td>NaN</td>\n",
       "    </tr>\n",
       "  </tbody>\n",
       "</table>\n",
       "</div>"
      ],
      "text/plain": [
       "  fecha_orden  target fecha_entrega_lag  diferencia_dias\n",
       "0  2022-10-06       0        2022-11-16             41.0\n",
       "1  2022-11-16       0        2022-12-03             17.0\n",
       "2  2022-12-03       0        2022-12-17             14.0\n",
       "3  2022-12-17       1        2023-01-18             32.0\n",
       "4  2023-01-18       0               NaT              NaN"
      ]
     },
     "execution_count": 35,
     "metadata": {},
     "output_type": "execute_result"
    }
   ],
   "source": [
    "users_df[users_df.id_cliente == -254861][[\"fecha_orden\",\"target\",'fecha_entrega_lag','diferencia_dias']]"
   ]
  },
  {
   "cell_type": "code",
   "execution_count": 36,
   "metadata": {},
   "outputs": [
    {
     "name": "stderr",
     "output_type": "stream",
     "text": [
      "/home/fede/.pyenv/versions/3.10.6/envs/default/lib/python3.10/site-packages/seaborn/_decorators.py:36: FutureWarning: Pass the following variable as a keyword arg: x. From version 0.12, the only valid positional argument will be `data`, and passing other arguments without an explicit keyword will result in an error or misinterpretation.\n",
      "  warnings.warn(\n"
     ]
    },
    {
     "data": {
      "text/plain": [
       "<AxesSubplot:xlabel='diferencia_dias'>"
      ]
     },
     "execution_count": 36,
     "metadata": {},
     "output_type": "execute_result"
    },
    {
     "data": {
      "image/png": "[encoded data removed]",
      "text/plain": [
       "<Figure size 640x480 with 1 Axes>"
      ]
     },
     "metadata": {},
     "output_type": "display_data"
    }
   ],
   "source": [
    "import seaborn as sns\n",
    "import matplotlib.pyplot as plt\n",
    "sns.boxplot(users_df[\"diferencia_dias\"])"
   ]
  },
  {
   "cell_type": "code",
   "execution_count": 38,
   "metadata": {},
   "outputs": [],
   "source": [
    "def discretizar_dias(x):\n",
    "    if x > 100:\n",
    "        return \"+100\"\n",
    "    else:\n",
    "        return \"-100\"\n",
    "\n",
    "users_df[\"discretos_dias\"] = users_df[\"diferencia_dias\"].apply(discretizar_dias)"
   ]
  },
  {
   "cell_type": "code",
   "execution_count": 40,
   "metadata": {},
   "outputs": [
    {
     "data": {
      "text/plain": [
       "-100    20747\n",
       "+100      468\n",
       "Name: discretos_dias, dtype: int64"
      ]
     },
     "execution_count": 40,
     "metadata": {},
     "output_type": "execute_result"
    }
   ],
   "source": [
    "users_df[\"discretos_dias\"].value_counts()"
   ]
  },
  {
   "cell_type": "code",
   "execution_count": 53,
   "metadata": {},
   "outputs": [],
   "source": [
    "limite = 100\n",
    "df_limit = users_df[users_df['diferencia_dias']<limite]\n",
    "\n",
    "filtro1 = df_limit.target == 1 #me quedo con un dataset de morosos\n",
    "filtro2 = df_limit.target == 0 #me quedo con un dataset de pagadores"
   ]
  },
  {
   "cell_type": "code",
   "execution_count": 54,
   "metadata": {},
   "outputs": [
    {
     "name": "stderr",
     "output_type": "stream",
     "text": [
      "/home/fede/.pyenv/versions/3.10.6/envs/default/lib/python3.10/site-packages/seaborn/distributions.py:2619: FutureWarning: `distplot` is a deprecated function and will be removed in a future version. Please adapt your code to use either `displot` (a figure-level function with similar flexibility) or `histplot` (an axes-level function for histograms).\n",
      "  warnings.warn(msg, FutureWarning)\n",
      "/home/fede/.pyenv/versions/3.10.6/envs/default/lib/python3.10/site-packages/seaborn/distributions.py:2619: FutureWarning: `distplot` is a deprecated function and will be removed in a future version. Please adapt your code to use either `displot` (a figure-level function with similar flexibility) or `histplot` (an axes-level function for histograms).\n",
      "  warnings.warn(msg, FutureWarning)\n"
     ]
    },
    {
     "data": {
      "image/png": "[encoded data removed]",
      "text/plain": [
       "<Figure size 640x480 with 1 Axes>"
      ]
     },
     "metadata": {},
     "output_type": "display_data"
    }
   ],
   "source": [
    "sns.distplot(df_limit[filtro2]['diferencia_dias'], label=\"buen_pagador\")\n",
    "sns.distplot(df_limit[filtro1]['diferencia_dias'], label=\"morosos\")\n",
    "\n",
    "plt.title(\"Distribution Plot of 'diferencia_dias' with Hue on 'target'\")\n",
    "plt.legend()\n",
    "plt.show()\n"
   ]
  },
  {
   "cell_type": "code",
   "execution_count": null,
   "metadata": {},
   "outputs": [],
   "source": []
  }
 ],
 "metadata": {
  "kernelspec": {
   "display_name": "Python 3 (ipykernel)",
   "language": "python",
   "name": "python3"
  },
  "language_info": {
   "codemirror_mode": {
    "name": "ipython",
    "version": 3
   },
   "file_extension": ".py",
   "mimetype": "text/x-python",
   "name": "python",
   "nbconvert_exporter": "python",
   "pygments_lexer": "ipython3",
   "version": "3.10.6"
  },
  "toc": {
   "base_numbering": 1,
   "nav_menu": {},
   "number_sections": true,
   "sideBar": true,
   "skip_h1_title": false,
   "title_cell": "Table of Contents",
   "title_sidebar": "Contents",
   "toc_cell": false,
   "toc_position": {},
   "toc_section_display": true,
   "toc_window_display": false
  }
 },
 "nbformat": 4,
 "nbformat_minor": 2
}
