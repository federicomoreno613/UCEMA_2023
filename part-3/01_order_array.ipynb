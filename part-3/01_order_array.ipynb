{
 "cells": [
  {
   "cell_type": "markdown",
   "source": [
    "# Intervalos\n",
    "\n",
    "Se te da una lista de intervalos, donde cada intervalo es una lista de dos números que representan el inicio y el final de un intervalo. Tu tarea es fusionar todos los intervalos que se superponen y devolver una lista de los intervalos no superpuestos que cubren todos los intervalos de la entrada.\n"
   ],
   "metadata": {
    "collapsed": false
   }
  },
  {
   "cell_type": "code",
   "execution_count": 3,
   "outputs": [],
   "source": [
    "# Acá están los intervalos que te dan. Cada par de números representa un intervalo.\n",
    "# El primer número es el comienzo del intervalo, y el segundo número es el final.\n",
    "a = [[1, 9], [2, 4], [3, 5], [10, 14]]"
   ],
   "metadata": {
    "collapsed": false,
    "ExecuteTime": {
     "start_time": "2023-07-04T11:55:21.900110Z",
     "end_time": "2023-07-04T11:55:21.912502Z"
    }
   }
  },
  {
   "cell_type": "markdown",
   "source": [
    "La solución a este problema implica los siguientes pasos:\n",
    "\n",
    "1. Ordenar los intervalos por su tiempo de inicio.\n",
    "2. Iterar sobre los intervalos y fusionar los que se superponen"
   ],
   "metadata": {
    "collapsed": false
   }
  },
  {
   "cell_type": "code",
   "execution_count": 4,
   "outputs": [],
   "source": [
    "# Primero, debemos ordenar los intervalos por su tiempo de inicio.\n",
    "# Esto es para asegurarnos de que estamos procesando los intervalos en el orden correcto.\n",
    "a.sort()\n"
   ],
   "metadata": {
    "collapsed": false,
    "ExecuteTime": {
     "start_time": "2023-07-04T11:56:43.573638Z",
     "end_time": "2023-07-04T11:56:43.584775Z"
    }
   }
  },
  {
   "cell_type": "code",
   "execution_count": 5,
   "outputs": [
    {
     "name": "stdout",
     "output_type": "stream",
     "text": [
      "[[1, 9], [2, 4], [3, 5], [10, 14]]\n"
     ]
    }
   ],
   "source": [
    "print(a)"
   ],
   "metadata": {
    "collapsed": false,
    "ExecuteTime": {
     "start_time": "2023-07-04T11:56:52.005501Z",
     "end_time": "2023-07-04T11:56:52.019250Z"
    }
   }
  },
  {
   "cell_type": "code",
   "execution_count": 8,
   "outputs": [],
   "source": [
    "# Ahora, vamos a crear una nueva lista llamada 'result' para almacenar los intervalos fusionados.\n",
    "result = []"
   ],
   "metadata": {
    "collapsed": false,
    "ExecuteTime": {
     "start_time": "2023-07-04T12:02:11.414018Z",
     "end_time": "2023-07-04T12:02:11.425325Z"
    }
   }
  },
  {
   "cell_type": "code",
   "execution_count": 9,
   "outputs": [
    {
     "name": "stdout",
     "output_type": "stream",
     "text": [
      "[[1, 9], [10, 14]]\n"
     ]
    }
   ],
   "source": [
    "for interval in a:\n",
    "    if not result or result[-1][1] < interval[0]:\n",
    "        result.append(interval)\n",
    "    else:\n",
    "        result[-1][1] = max(result[-1][1], interval[1])\n",
    "\n",
    "print(result)"
   ],
   "metadata": {
    "collapsed": false,
    "ExecuteTime": {
     "start_time": "2023-07-04T12:02:11.817421Z",
     "end_time": "2023-07-04T12:02:11.829865Z"
    }
   }
  },
  {
   "cell_type": "markdown",
   "source": [
    "# Detalles"
   ],
   "metadata": {
    "collapsed": false
   }
  },
  {
   "cell_type": "code",
   "execution_count": 15,
   "outputs": [
    {
     "name": "stdout",
     "output_type": "stream",
     "text": [
      "1\n"
     ]
    },
    {
     "ename": "IndexError",
     "evalue": "list index out of range",
     "output_type": "error",
     "traceback": [
      "\u001B[0;31m---------------------------------------------------------------------------\u001B[0m",
      "\u001B[0;31mIndexError\u001B[0m                                Traceback (most recent call last)",
      "Cell \u001B[0;32mIn[15], line 19\u001B[0m\n\u001B[1;32m     17\u001B[0m \u001B[38;5;28;01mif\u001B[39;00m \u001B[38;5;129;01mnot\u001B[39;00m result \u001B[38;5;129;01mor\u001B[39;00m result[\u001B[38;5;241m-\u001B[39m\u001B[38;5;241m1\u001B[39m][\u001B[38;5;241m1\u001B[39m] \u001B[38;5;241m<\u001B[39m interval[\u001B[38;5;241m0\u001B[39m]:\n\u001B[1;32m     18\u001B[0m     \u001B[38;5;28mprint\u001B[39m(interval[\u001B[38;5;241m0\u001B[39m])\n\u001B[0;32m---> 19\u001B[0m     \u001B[38;5;28mprint\u001B[39m(\u001B[43mresult\u001B[49m\u001B[43m[\u001B[49m\u001B[38;5;241;43m-\u001B[39;49m\u001B[38;5;241;43m1\u001B[39;49m\u001B[43m]\u001B[49m[\u001B[38;5;241m1\u001B[39m])\n\u001B[1;32m     21\u001B[0m     \u001B[38;5;66;03m# Aquí, simplemente agregamos el 'interval' actual a la lista 'result'.\u001B[39;00m\n\u001B[1;32m     22\u001B[0m     result\u001B[38;5;241m.\u001B[39mappend(interval)\n",
      "\u001B[0;31mIndexError\u001B[0m: list index out of range"
     ]
    }
   ],
   "source": [
    "result = []\n",
    "# Ahora, iteraremos sobre cada intervalo en nuestra lista ordenada 'a'.\n",
    "# 'for interval in a:' es una estructura de bucle que pasa por cada 'interval' en la lista 'a'.\n",
    "for interval in a:\n",
    "\n",
    "    # En cada iteración, 'interval' se refiere al intervalo actual en la lista 'a'.\n",
    "\n",
    "    # Primero, verificamos dos condiciones con la declaración 'if':\n",
    "\n",
    "    # 1. 'not result' revisa si la lista 'result' está vacía. Si está vacía, 'not result' será verdadero.\n",
    "    # 2. 'result[-1][1] < interval[0]' verifica si el intervalo actual NO se superpone con el último intervalo en 'result'.\n",
    "    # Aquí, 'result[-1]' es el último intervalo en 'result', 'result[-1][1]' es el final del último intervalo,\n",
    "    # e 'interval[0]' es el comienzo del intervalo actual. Si el final del último intervalo es menor que el comienzo del intervalo actual,\n",
    "    # significa que los dos intervalos no se superponen.\n",
    "\n",
    "    # Si cualquiera de estas dos condiciones es verdadera, ejecutamos el código dentro del bloque 'if':\n",
    "    if not result or result[-1][1] < interval[0]:\n",
    "        # Aquí, simplemente agregamos el 'interval' actual a la lista 'result'.\n",
    "        result.append(interval)\n",
    "\n",
    "    # Si ninguna de las dos condiciones es verdadera (es decir, la lista 'result' no está vacía y los intervalos se superponen),\n",
    "    # ejecutamos el código en el bloque 'else':\n",
    "    else:\n",
    "\n",
    "        # Aquí, actualizamos el final del último intervalo en 'result' para que sea el máximo entre el final del último intervalo\n",
    "        # y el final del intervalo actual. Esto efectivamente \"fusiona\" los dos intervalos superpuestos en uno.\n",
    "        result[-1][1] = max(result[-1][1], interval[1])\n",
    "\n"
   ],
   "metadata": {
    "collapsed": false,
    "ExecuteTime": {
     "start_time": "2023-07-04T12:10:00.476041Z",
     "end_time": "2023-07-04T12:10:00.504860Z"
    }
   }
  },
  {
   "cell_type": "code",
   "execution_count": null,
   "outputs": [],
   "source": [],
   "metadata": {
    "collapsed": false
   }
  }
 ],
 "metadata": {
  "kernelspec": {
   "display_name": "Python 3",
   "language": "python",
   "name": "python3"
  },
  "language_info": {
   "codemirror_mode": {
    "name": "ipython",
    "version": 2
   },
   "file_extension": ".py",
   "mimetype": "text/x-python",
   "name": "python",
   "nbconvert_exporter": "python",
   "pygments_lexer": "ipython2",
   "version": "2.7.6"
  }
 },
 "nbformat": 4,
 "nbformat_minor": 0
}
