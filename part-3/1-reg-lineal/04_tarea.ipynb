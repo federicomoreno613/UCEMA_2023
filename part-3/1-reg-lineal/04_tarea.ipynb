{
 "cells": [
  {
   "cell_type": "markdown",
   "source": [
    "# Precios CABA\n",
    "\n",
    "https://drive.google.com/file/d/12hQg1jiP3b0JBWCIDcMqFnKgEjyZ4_h6/view?usp=sharing\n",
    "\n",
    "1. Explorar dataset\n",
    "2. Crear hipotesis\n",
    "3. Determinar si hay diferencias significativas de precios entre Puerto Madero y Villa Luro\n",
    "4. Mergear el dataset delitos_2019  https://drive.google.com/file/d/1MxIZRGKKUzaczJuqhomQCfCjkieugD1I/view?usp=sharing\n",
    "5. ¿Hay diferencia significativa de delitos entre villa luro y puerto madero?\n",
    "6. Hay correlacion entre delito y precio promedio de los barrios?\n",
    "7. Haga un modelo de regresion lineal simple\n",
    "\n",
    "\n"
   ],
   "metadata": {
    "collapsed": false
   },
   "id": "ae37e8eb2d65d62b"
  }
 ],
 "metadata": {
  "kernelspec": {
   "display_name": "Python 3",
   "language": "python",
   "name": "python3"
  },
  "language_info": {
   "codemirror_mode": {
    "name": "ipython",
    "version": 2
   },
   "file_extension": ".py",
   "mimetype": "text/x-python",
   "name": "python",
   "nbconvert_exporter": "python",
   "pygments_lexer": "ipython2",
   "version": "2.7.6"
  }
 },
 "nbformat": 4,
 "nbformat_minor": 5
}
