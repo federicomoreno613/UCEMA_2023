{
 "cells": [
  {
   "cell_type": "code",
   "execution_count": null,
   "metadata": {
    "collapsed": false,
    "pycharm": {
     "name": "#%%\n"
    }
   },
   "outputs": [],
   "source": [
    "!git clone https://github.com/federicomoreno613/UCEMA_2023.git\n",
    "!pip install ipytest\n",
    "import os\n",
    "from typing import List\n",
    "os.chdir('UCEMA_2023/part-1/clase2/05 - Botes salvavidas')"
   ]
  },
  {
   "attachments": {},
   "cell_type": "markdown",
   "metadata": {
    "collapsed": false,
    "pycharm": {
     "name": "#%% md\n"
    }
   },
   "source": [
    "# Barcos para salvar personas\n",
    "\n",
    "Se le proporciona una matriz de personas donde personas[i] es el peso de la i-ésima persona, y un número infinito de botes donde cada bote puede transportar un peso máximo de límite. \n",
    "\n",
    "Devolver el número mínimo de botes para llevar a cada persona dada.\n",
    "\n",
    "## Ejemplo 1:\n",
    "\n",
    "Entrada: personas = [1,2], límite = 3\n",
    "Salida: 1\n",
    "Explicación: 1 bote (1, 2)\n",
    "\n",
    "## Ejemplo 2:\n",
    "\n",
    "Entrada: personas = [3,2,2,1], límite = 3\n",
    "Salida: 3\n",
    "Explicación: 3 botes (1, 2), (2) y (3)\n",
    "\n",
    "## Ejemplo 3:\n",
    "\n",
    "Entrada: personas = [3,5,3,4], límite = 5\n",
    "Salida: 4\n",
    "Explicación: 4 botes (3), (3), (4), (5)\n",
    " "
   ]
  },
  {
   "cell_type": "code",
   "execution_count": 1,
   "metadata": {
    "ExecuteTime": {
     "end_time": "2023-08-02T22:28:12.809420900Z",
     "start_time": "2023-08-02T22:28:12.793689100Z"
    },
    "collapsed": false,
    "pycharm": {
     "name": "#%%\n"
    }
   },
   "outputs": [],
   "source": [
    "from typing import List\n",
    "\n",
    "def botes_salvavidas(personas: list[int], limite: int) -> int:\n",
    "    return "
   ]
  },
  {
   "cell_type": "code",
   "execution_count": 5,
   "metadata": {
    "ExecuteTime": {
     "end_time": "2023-08-02T22:28:12.954833700Z",
     "start_time": "2023-08-02T22:28:12.809420900Z"
    },
    "collapsed": false,
    "pycharm": {
     "name": "#%%\n"
    }
   },
   "outputs": [
    {
     "name": "stdout",
     "output_type": "stream",
     "text": [
      "\u001b[1m======================================= test session starts =======================================\u001b[0m\n",
      "platform win32 -- Python 3.9.7, pytest-6.2.4, py-1.10.0, pluggy-0.13.1 -- c:\\Users\\jduque\\Anaconda3\\python.exe\n",
      "cachedir: .pytest_cache\n",
      "rootdir: c:\\Users\\jduque\\Documents\\Personal\\UCEMA\\UCEMA_2023\\part-1\\clase2\\05 - Botes salvavidas\n",
      "plugins: anyio-2.2.0, dash-2.7.0\n",
      "\u001b[1mcollecting ... \u001b[0mcollected 4 items\n",
      "\n",
      "t_58eb8ed6904a47739943cf235a6bdaac.py::TestBotesSalvavidas::test_botes_salvavidas1 \u001b[31mFAILED\u001b[0m\u001b[31m    [ 25%]\u001b[0m\n",
      "t_58eb8ed6904a47739943cf235a6bdaac.py::TestBotesSalvavidas::test_botes_salvavidas2 \u001b[32mPASSED\u001b[0m\u001b[31m    [ 50%]\u001b[0m\n",
      "t_58eb8ed6904a47739943cf235a6bdaac.py::TestBotesSalvavidas::test_botes_salvavidas3 \u001b[32mPASSED\u001b[0m\u001b[31m    [ 75%]\u001b[0m\n",
      "t_58eb8ed6904a47739943cf235a6bdaac.py::TestBotesSalvavidas::test_botes_salvavidas4 \u001b[31mFAILED\u001b[0m\u001b[31m    [100%]\u001b[0m\n",
      "\n",
      "============================================ FAILURES =============================================\n",
      "\u001b[31m\u001b[1m___________________________ TestBotesSalvavidas.test_botes_salvavidas1 ____________________________\u001b[0m\n",
      "\n",
      "self = <botes_salvavidas.test_botes_salvavidas.TestBotesSalvavidas testMethod=test_botes_salvavidas1>\n",
      "\n",
      "    \u001b[94mdef\u001b[39;49;00m \u001b[92mtest_botes_salvavidas1\u001b[39;49;00m(\u001b[96mself\u001b[39;49;00m):\n",
      ">       \u001b[96mself\u001b[39;49;00m.assertEqual(TestBotesSalvavidas.validate_botes_salvavidas([\u001b[94m1\u001b[39;49;00m, \u001b[94m2\u001b[39;49;00m, \u001b[94m3\u001b[39;49;00m, \u001b[94m4\u001b[39;49;00m, \u001b[94m5\u001b[39;49;00m], \u001b[94m5\u001b[39;49;00m), \u001b[94m3\u001b[39;49;00m)\n",
      "\u001b[1m\u001b[31mE       AssertionError: 3 != 2\u001b[0m\n",
      "\n",
      "\u001b[1m\u001b[31mbotes_salvavidas\\test_botes_salvavidas.py\u001b[0m:13: AssertionError\n",
      "\u001b[31m\u001b[1m___________________________ TestBotesSalvavidas.test_botes_salvavidas4 ____________________________\u001b[0m\n",
      "\n",
      "self = <botes_salvavidas.test_botes_salvavidas.TestBotesSalvavidas testMethod=test_botes_salvavidas4>\n",
      "\n",
      "    \u001b[94mdef\u001b[39;49;00m \u001b[92mtest_botes_salvavidas4\u001b[39;49;00m(\u001b[96mself\u001b[39;49;00m):\n",
      ">       \u001b[96mself\u001b[39;49;00m.assertEqual(TestBotesSalvavidas.validate_botes_salvavidas([\u001b[94m5\u001b[39;49;00m, \u001b[94m3\u001b[39;49;00m, \u001b[94m2\u001b[39;49;00m, \u001b[94m2\u001b[39;49;00m], \u001b[94m7\u001b[39;49;00m), \u001b[94m2\u001b[39;49;00m)\n",
      "\u001b[1m\u001b[31mE       AssertionError: 2 != 3\u001b[0m\n",
      "\n",
      "\u001b[1m\u001b[31mbotes_salvavidas\\test_botes_salvavidas.py\u001b[0m:22: AssertionError\n",
      "===================================== short test summary info =====================================\n",
      "FAILED t_58eb8ed6904a47739943cf235a6bdaac.py::TestBotesSalvavidas::test_botes_salvavidas1 - Asser...\n",
      "FAILED t_58eb8ed6904a47739943cf235a6bdaac.py::TestBotesSalvavidas::test_botes_salvavidas4 - Asser...\n",
      "\u001b[31m=================================== \u001b[31m\u001b[1m2 failed\u001b[0m, \u001b[32m2 passed\u001b[0m\u001b[31m in 0.08s\u001b[0m\u001b[31m ===================================\u001b[0m\n"
     ]
    },
    {
     "data": {
      "text/plain": [
       "<ExitCode.TESTS_FAILED: 1>"
      ]
     },
     "execution_count": 5,
     "metadata": {},
     "output_type": "execute_result"
    }
   ],
   "source": [
    "import ipytest\n",
    "from botes_salvavidas.test_botes_salvavidas import TestBotesSalvavidas\n",
    "TestBotesSalvavidas.validate_botes_salvavidas = botes_salvavidas\n",
    "ipytest.run(\"-vv\")"
   ]
  },
  {
   "cell_type": "code",
   "execution_count": null,
   "metadata": {
    "ExecuteTime": {
     "end_time": "2023-08-02T22:28:13.001761900Z",
     "start_time": "2023-08-02T22:28:12.954833700Z"
    },
    "collapsed": false,
    "pycharm": {
     "name": "#%%\n"
    }
   },
   "outputs": [],
   "source": []
  }
 ],
 "metadata": {
  "kernelspec": {
   "display_name": "Python 3",
   "language": "python",
   "name": "python3"
  },
  "language_info": {
   "codemirror_mode": {
    "name": "ipython",
    "version": 3
   },
   "file_extension": ".py",
   "mimetype": "text/x-python",
   "name": "python",
   "nbconvert_exporter": "python",
   "pygments_lexer": "ipython3",
   "version": "3.9.7"
  }
 },
 "nbformat": 4,
 "nbformat_minor": 0
}
