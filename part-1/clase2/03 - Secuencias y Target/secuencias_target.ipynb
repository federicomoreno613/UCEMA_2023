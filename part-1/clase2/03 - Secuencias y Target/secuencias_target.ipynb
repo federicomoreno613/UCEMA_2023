{
 "cells": [
  {
   "cell_type": "code",
   "execution_count": 5,
   "metadata": {
    "collapsed": false,
    "pycharm": {
     "name": "#%%\n"
    }
   },
   "outputs": [
    {
     "name": "stderr",
     "output_type": "stream",
     "text": [
      "fatal: destination path 'UCEMA_2023' already exists and is not an empty directory.\n"
     ]
    },
    {
     "name": "stdout",
     "output_type": "stream",
     "text": [
      "Requirement already satisfied: ipytest in c:\\users\\jduque\\anaconda3\\envs\\ucema\\lib\\site-packages (0.13.3)\n",
      "Requirement already satisfied: ipython in c:\\users\\jduque\\anaconda3\\envs\\ucema\\lib\\site-packages (from ipytest) (8.4.0)\n",
      "Requirement already satisfied: packaging in c:\\users\\jduque\\anaconda3\\envs\\ucema\\lib\\site-packages (from ipytest) (21.3)\n",
      "Requirement already satisfied: pytest>=5.4 in c:\\users\\jduque\\anaconda3\\envs\\ucema\\lib\\site-packages (from ipytest) (7.4.0)\n",
      "Requirement already satisfied: exceptiongroup>=1.0.0rc8 in c:\\users\\jduque\\anaconda3\\envs\\ucema\\lib\\site-packages (from pytest>=5.4->ipytest) (1.1.2)\n",
      "Requirement already satisfied: colorama in c:\\users\\jduque\\anaconda3\\envs\\ucema\\lib\\site-packages (from pytest>=5.4->ipytest) (0.4.5)\n",
      "Requirement already satisfied: tomli>=1.0.0 in c:\\users\\jduque\\anaconda3\\envs\\ucema\\lib\\site-packages (from pytest>=5.4->ipytest) (2.0.1)\n",
      "Requirement already satisfied: iniconfig in c:\\users\\jduque\\anaconda3\\envs\\ucema\\lib\\site-packages (from pytest>=5.4->ipytest) (2.0.0)\n",
      "Requirement already satisfied: pluggy<2.0,>=0.12 in c:\\users\\jduque\\anaconda3\\envs\\ucema\\lib\\site-packages (from pytest>=5.4->ipytest) (1.2.0)\n",
      "Requirement already satisfied: jedi>=0.16 in c:\\users\\jduque\\anaconda3\\envs\\ucema\\lib\\site-packages (from ipython->ipytest) (0.18.1)\n",
      "Requirement already satisfied: traitlets>=5 in c:\\users\\jduque\\anaconda3\\envs\\ucema\\lib\\site-packages (from ipython->ipytest) (5.1.1)\n",
      "Requirement already satisfied: pickleshare in c:\\users\\jduque\\anaconda3\\envs\\ucema\\lib\\site-packages (from ipython->ipytest) (0.7.5)\n",
      "Requirement already satisfied: prompt-toolkit!=3.0.0,!=3.0.1,<3.1.0,>=2.0.0 in c:\\users\\jduque\\anaconda3\\envs\\ucema\\lib\\site-packages (from ipython->ipytest) (3.0.20)"
     ]
    },
    {
     "ename": "FileNotFoundError",
     "evalue": "[WinError 2] El sistema no puede encontrar el archivo especificado: 'UCEMA_2023/part-1/clase2/03 - Secuencias y Target'",
     "output_type": "error",
     "traceback": [
      "\u001b[1;31m---------------------------------------------------------------------------\u001b[0m",
      "\u001b[1;31mFileNotFoundError\u001b[0m                         Traceback (most recent call last)",
      "Input \u001b[1;32mIn [5]\u001b[0m, in \u001b[0;36m<cell line: 5>\u001b[1;34m()\u001b[0m\n\u001b[0;32m      3\u001b[0m \u001b[38;5;28;01mimport\u001b[39;00m \u001b[38;5;21;01mos\u001b[39;00m\n\u001b[0;32m      4\u001b[0m \u001b[38;5;28;01mfrom\u001b[39;00m \u001b[38;5;21;01mtyping\u001b[39;00m \u001b[38;5;28;01mimport\u001b[39;00m List\n\u001b[1;32m----> 5\u001b[0m \u001b[43mos\u001b[49m\u001b[38;5;241;43m.\u001b[39;49m\u001b[43mchdir\u001b[49m\u001b[43m(\u001b[49m\u001b[38;5;124;43m'\u001b[39;49m\u001b[38;5;124;43mUCEMA_2023/part-1/clase2/03 - Secuencias y Target\u001b[39;49m\u001b[38;5;124;43m'\u001b[39;49m\u001b[43m)\u001b[49m\n",
      "\u001b[1;31mFileNotFoundError\u001b[0m: [WinError 2] El sistema no puede encontrar el archivo especificado: 'UCEMA_2023/part-1/clase2/03 - Secuencias y Target'"
     ]
    },
    {
     "name": "stdout",
     "output_type": "stream",
     "text": [
      "\n",
      "Requirement already satisfied: backcall in c:\\users\\jduque\\anaconda3\\envs\\ucema\\lib\\site-packages (from ipython->ipytest) (0.2.0)\n",
      "Requirement already satisfied: pygments>=2.4.0 in c:\\users\\jduque\\anaconda3\\envs\\ucema\\lib\\site-packages (from ipython->ipytest) (2.11.2)\n",
      "Requirement already satisfied: setuptools>=18.5 in c:\\users\\jduque\\anaconda3\\envs\\ucema\\lib\\site-packages (from ipython->ipytest) (63.4.1)\n",
      "Requirement already satisfied: matplotlib-inline in c:\\users\\jduque\\anaconda3\\envs\\ucema\\lib\\site-packages (from ipython->ipytest) (0.1.2)\n",
      "Requirement already satisfied: stack-data in c:\\users\\jduque\\anaconda3\\envs\\ucema\\lib\\site-packages (from ipython->ipytest) (0.2.0)\n",
      "Requirement already satisfied: decorator in c:\\users\\jduque\\anaconda3\\envs\\ucema\\lib\\site-packages (from ipython->ipytest) (5.1.1)\n",
      "Requirement already satisfied: pyparsing!=3.0.5,>=2.0.2 in c:\\users\\jduque\\anaconda3\\envs\\ucema\\lib\\site-packages (from packaging->ipytest) (3.0.9)\n",
      "Requirement already satisfied: parso<0.9.0,>=0.8.0 in c:\\users\\jduque\\anaconda3\\envs\\ucema\\lib\\site-packages (from jedi>=0.16->ipython->ipytest) (0.8.3)\n",
      "Requirement already satisfied: wcwidth in c:\\users\\jduque\\anaconda3\\envs\\ucema\\lib\\site-packages (from prompt-toolkit!=3.0.0,!=3.0.1,<3.1.0,>=2.0.0->ipython->ipytest) (0.2.5)\n",
      "Requirement already satisfied: pure-eval in c:\\users\\jduque\\anaconda3\\envs\\ucema\\lib\\site-packages (from stack-data->ipython->ipytest) (0.2.2)\n",
      "Requirement already satisfied: executing in c:\\users\\jduque\\anaconda3\\envs\\ucema\\lib\\site-packages (from stack-data->ipython->ipytest) (0.8.3)\n",
      "Requirement already satisfied: asttokens in c:\\users\\jduque\\anaconda3\\envs\\ucema\\lib\\site-packages (from stack-data->ipython->ipytest) (2.0.5)\n",
      "Requirement already satisfied: six in c:\\users\\jduque\\anaconda3\\envs\\ucema\\lib\\site-packages (from asttokens->stack-data->ipython->ipytest) (1.16.0)\n"
     ]
    }
   ],
   "source": [
    "!git clone https://github.com/federicomoreno613/UCEMA_2023.git\n",
    "!pip install ipytest\n",
    "import os\n",
    "from typing import List\n",
    "os.chdir('UCEMA_2023/part-1/clase2/03 - Secuencias y Target')"
   ]
  },
  {
   "cell_type": "markdown",
   "metadata": {
    "collapsed": false,
    "pycharm": {
     "name": "#%% md\n"
    }
   },
   "source": [
    "# Número de subsecuencias que satisfacen la condición de suma dada\n",
    "\n",
    "Se le proporciona una matriz de números enteros y un objetivo entero.\n",
    "\n",
    "Devuelve el número de subsecuencias no vacías de números de modo que la suma del elemento mínimo y máximo sea menor o igual que el objetivo.\n",
    "Dado que la respuesta puede ser demasiado grande, devuélvela módulo 10^9 + 7.\n",
    "\n",
    "## Ejemplo 1:\n",
    "Entrada: números = [3,5,6,7], objetivo = 9\n",
    "Salida: 4\n",
    "Explicación: Hay 4 subsecuencias que satisfacen la condición.\n",
    "[3] -> Valor mínimo + valor máximo <= objetivo (3 + 3 <= 9)\n",
    "[3,5] -> (3 + 5 <= 9)\n",
    "[3,5,6] -> (3 + 6 <= 9)\n",
    "[3,6] -> (3 + 6 <= 9)\n",
    "\n",
    "## Ejemplo 2:\n",
    "Entrada: números = [3,3,6,8], objetivo = 10\n",
    "Salida: 6\n",
    "Explicación: Hay 6 subsecuencias que satisfacen la condición. (nums puede tener números repetidos).\n",
    "[3] , [3] , [3,3], [3,6] , [3,6] , [3,3,6]\n",
    "\n",
    "## Ejemplo 3:\n",
    "Entrada: números = [2,3,3,4,6,7], objetivo = 12\n",
    "Salida: 61\n",
    "Explicación: Hay 63 subsecuencias no vacías, dos de ellas no cumplen la condición ([6,7], [7]).\n",
    "Número de subsecuencias válidas (63 - 2 = 61)."
   ]
  },
  {
   "cell_type": "code",
   "execution_count": 6,
   "metadata": {
    "ExecuteTime": {
     "end_time": "2023-08-02T22:28:12.809420900Z",
     "start_time": "2023-08-02T22:28:12.793689100Z"
    },
    "collapsed": false,
    "pycharm": {
     "name": "#%%\n"
    }
   },
   "outputs": [],
   "source": [
    "def numSubseq(nums: List[int], target: int) -> int:\n",
    "    return \n",
    "\n",
    "\n"
   ]
  },
  {
   "cell_type": "code",
   "execution_count": 7,
   "metadata": {
    "ExecuteTime": {
     "end_time": "2023-08-02T22:28:12.954833700Z",
     "start_time": "2023-08-02T22:28:12.809420900Z"
    },
    "collapsed": false,
    "pycharm": {
     "name": "#%%\n"
    }
   },
   "outputs": [
    {
     "name": "stdout",
     "output_type": "stream",
     "text": [
      "\u001b[1m======================================= test session starts =======================================\u001b[0m\n",
      "platform win32 -- Python 3.9.12, pytest-7.4.0, pluggy-1.2.0 -- C:\\Users\\jduque\\Anaconda3\\envs\\UCEMA\\python.exe\n",
      "cachedir: .pytest_cache\n",
      "rootdir: C:\\Users\\jduque\\Documents\\Personal\\UCEMA\\UCEMA_2023\\part-1\\clase2\\03 - Secuencias y Target\\UCEMA_2023\\part-1\\clase1\\09 - Ordenar colores\n",
      "plugins: anyio-3.5.0\n",
      "\u001b[1mcollecting ... \u001b[0mcollected 4 items\n",
      "\n",
      "t_17da39f561334455ad2c4c47129cdcc6.py::TestNumSubseq::test_num_subseq1 \u001b[32mPASSED\u001b[0m\u001b[32m                [ 25%]\u001b[0m\n",
      "t_17da39f561334455ad2c4c47129cdcc6.py::TestNumSubseq::test_num_subseq2 \u001b[32mPASSED\u001b[0m\u001b[32m                [ 50%]\u001b[0m\n",
      "t_17da39f561334455ad2c4c47129cdcc6.py::TestNumSubseq::test_num_subseq3 \u001b[31mFAILED\u001b[0m\u001b[31m                [ 75%]\u001b[0m\n",
      "t_17da39f561334455ad2c4c47129cdcc6.py::TestNumSubseq::test_num_subseq4 \u001b[31mFAILED\u001b[0m\u001b[31m                [100%]\u001b[0m\n",
      "\n",
      "============================================ FAILURES =============================================\n",
      "\u001b[31m\u001b[1m_________________________________ TestNumSubseq.test_num_subseq3 __________________________________\u001b[0m\n",
      "\n",
      "self = <secuencias_target.test_secuencia_target.TestNumSubseq testMethod=test_num_subseq3>\n",
      "\n",
      "    \u001b[94mdef\u001b[39;49;00m \u001b[92mtest_num_subseq3\u001b[39;49;00m(\u001b[96mself\u001b[39;49;00m):\n",
      ">       \u001b[96mself\u001b[39;49;00m.assertEqual(TestNumSubseq.validate_num_subseq([\u001b[94m2\u001b[39;49;00m, \u001b[94m3\u001b[39;49;00m, \u001b[94m3\u001b[39;49;00m, \u001b[94m4\u001b[39;49;00m, \u001b[94m6\u001b[39;49;00m, \u001b[94m7\u001b[39;49;00m], \u001b[94m10\u001b[39;49;00m), \u001b[94m61\u001b[39;49;00m)\n",
      "\u001b[1m\u001b[31mE       AssertionError: 58 != 61\u001b[0m\n",
      "\n",
      "\u001b[1m\u001b[31m..\\..\\..\\..\\secuencias_target\\test_secuencia_target.py\u001b[0m:18: AssertionError\n",
      "\u001b[31m\u001b[1m_________________________________ TestNumSubseq.test_num_subseq4 __________________________________\u001b[0m\n",
      "\n",
      "self = <secuencias_target.test_secuencia_target.TestNumSubseq testMethod=test_num_subseq4>\n",
      "\n",
      "    \u001b[94mdef\u001b[39;49;00m \u001b[92mtest_num_subseq4\u001b[39;49;00m(\u001b[96mself\u001b[39;49;00m):\n",
      ">       \u001b[96mself\u001b[39;49;00m.assertEqual(TestNumSubseq.validate_num_subseq([\u001b[94m1\u001b[39;49;00m, \u001b[94m2\u001b[39;49;00m, \u001b[94m3\u001b[39;49;00m, \u001b[94m4\u001b[39;49;00m, \u001b[94m5\u001b[39;49;00m], \u001b[94m10\u001b[39;49;00m), \u001b[94m32\u001b[39;49;00m)\n",
      "\u001b[1m\u001b[31mE       AssertionError: 31 != 32\u001b[0m\n",
      "\n",
      "\u001b[1m\u001b[31m..\\..\\..\\..\\secuencias_target\\test_secuencia_target.py\u001b[0m:21: AssertionError\n",
      "\u001b[36m\u001b[1m===================================== short test summary info =====================================\u001b[0m\n",
      "\u001b[31mFAILED\u001b[0m t_17da39f561334455ad2c4c47129cdcc6.py::\u001b[1mTestNumSubseq::test_num_subseq3\u001b[0m - AssertionError: 58 != 61\n",
      "\u001b[31mFAILED\u001b[0m t_17da39f561334455ad2c4c47129cdcc6.py::\u001b[1mTestNumSubseq::test_num_subseq4\u001b[0m - AssertionError: 31 != 32\n",
      "\u001b[31m=================================== \u001b[31m\u001b[1m2 failed\u001b[0m, \u001b[32m2 passed\u001b[0m\u001b[31m in 0.68s\u001b[0m\u001b[31m ===================================\u001b[0m\n"
     ]
    },
    {
     "data": {
      "text/plain": [
       "<ExitCode.TESTS_FAILED: 1>"
      ]
     },
     "execution_count": 7,
     "metadata": {},
     "output_type": "execute_result"
    }
   ],
   "source": [
    "import ipytest\n",
    "from secuencias_target.test_secuencia_target import TestNumSubseq\n",
    "TestNumSubseq.validate_num_subseq = numSubseq\n",
    "ipytest.run(\"-vv\")"
   ]
  },
  {
   "cell_type": "code",
   "execution_count": 2,
   "metadata": {
    "ExecuteTime": {
     "end_time": "2023-08-02T22:28:13.001761900Z",
     "start_time": "2023-08-02T22:28:12.954833700Z"
    },
    "collapsed": false,
    "pycharm": {
     "name": "#%%\n"
    }
   },
   "outputs": [],
   "source": []
  }
 ],
 "metadata": {
  "kernelspec": {
   "display_name": "Python 3",
   "language": "python",
   "name": "python3"
  },
  "language_info": {
   "codemirror_mode": {
    "name": "ipython",
    "version": 2
   },
   "file_extension": ".py",
   "mimetype": "text/x-python",
   "name": "python",
   "nbconvert_exporter": "python",
   "pygments_lexer": "ipython2",
   "version": "2.7.6"
  }
 },
 "nbformat": 4,
 "nbformat_minor": 0
}
