{
 "cells": [
  {
   "cell_type": "markdown",
   "source": [
    "# Metodos de String"
   ],
   "metadata": {
    "collapsed": false
   }
  },
  {
   "cell_type": "markdown",
   "source": [
    "# Ejercicio Entrevista. -> Dictonary, List, String\n",
    "\n",
    "You are a developer for a university. Your current project is to develop a system for students to find courses they share with friends. The university has a system for querying courses students are enrolled in, returned as a list of (ID, course) pairs.\n",
    "\n",
    "Write a function that takes in a collection of (student ID number, course name) pairs and returns, for every pair of students, a collection of all courses they share.\n",
    "\n",
    "**Sample Input:**\n",
    "\n",
    "```python\n",
    "enrollments1 = [\n",
    "  [\"58\", \"Linear Algebra\"],\n",
    "  [\"94\", \"Art History\"],\n",
    "  [\"94\", \"Operating Systems\"],\n",
    "  [\"17\", \"Software Design\"],\n",
    "  [\"58\", \"Mechanics\"],\n",
    "  [\"58\", \"Economics\"],\n",
    "  [\"17\", \"Linear Algebra\"],\n",
    "  [\"17\", \"Political Science\"],\n",
    "  [\"94\", \"Economics\"],\n",
    "  [\"25\", \"Economics\"],\n",
    "  [\"58\", \"Software Design\"],\n",
    "]\n",
    "```\n",
    "\n",
    "**Sample output:**\n",
    "```\n",
    "find_pairs(enrollments1) =>\n",
    "{\n",
    "  \"58,17\": [\"Software Design\", \"Linear Algebra\"]\n",
    "  \"58,94\": [\"Economics\"]\n",
    "  \"58,25\": [\"Economics\"]\n",
    "  \"94,25\": [\"Economics\"]\n",
    "  \"17,94\": []\n",
    "  \"17,25\": []\n",
    "}\n",
    "```\n",
    "#### Additional test cases:\n",
    "\n",
    "**Sample Input:**\n",
    "```\n",
    "enrollments2 = [\n",
    "  [\"0\", \"Advanced Mechanics\"],\n",
    "  [\"0\", \"Art History\"],\n",
    "  [\"1\", \"Course 1\"],\n",
    "  [\"1\", \"Course 2\"],\n",
    "  [\"2\", \"Computer Architecture\"],\n",
    "  [\"3\", \"Course 1\"],\n",
    "  [\"3\", \"Course 2\"],\n",
    "  [\"4\", \"Algorithms\"]\n",
    "]\n",
    "```\n",
    "\n",
    "**Sample output:**\n",
    "```\n",
    "find_pairs(enrollments2) =>\n",
    "{\n",
    "  \"1,0\":[]\n",
    "  \"2,0\":[]\n",
    "  \"2,1\":[]\n",
    "  \"3,0\":[]\n",
    "  \"3,1\":[\"Course 1\", \"Course 2\"]\n",
    "  \"3,2\":[]\n",
    "  \"4,0\":[]\n",
    "  \"4,1\":[]\n",
    "  \"4,2\":[]\n",
    "  \"4,3\":[]\n",
    "}\n",
    "```\n",
    "\n",
    "**Sample Input:**\n",
    "```\n",
    "enrollments3 = [\n",
    "  [\"23\", \"Software Design\"],\n",
    "  [\"3\", \"Advanced Mechanics\"],\n",
    "  [\"2\", \"Art History\"],\n",
    "  [\"33\", \"Another\"],\n",
    "]\n",
    "```\n",
    "\n",
    "**Sample output:**\n",
    "```\n",
    "find_pairs(enrollments3) =>\n",
    "{\n",
    "  \"23,3\": []\n",
    "  \"23,2\": []\n",
    "  \"23,33\":[]\n",
    "  \"3,2\":  []\n",
    "  \"3,33\": []\n",
    "  \"2,33\": []\n",
    "```\n"
   ],
   "metadata": {
    "collapsed": false
   }
  },
  {
   "cell_type": "markdown",
   "source": [
    "**All Test Cases:**\n",
    "find_pairs(enrollments1)\n",
    "find_pairs(enrollments2)\n",
    "find_pairs(enrollments3)\n",
    "\n",
    "**Complexity analysis variables:**\n",
    "\n",
    "n: number of student,course pairs in the input\n",
    "s: number of students\n",
    "c: total number of courses being offered (note: The number of courses any student can take is bounded by a small constant)"
   ],
   "metadata": {
    "collapsed": false
   }
  },
  {
   "cell_type": "code",
   "execution_count": 1,
   "outputs": [],
   "source": [
    "enrollments1 = [\n",
    "  [\"58\", \"Linear Algebra\"],\n",
    "  [\"94\", \"Art History\"],\n",
    "  [\"94\", \"Operating Systems\"],\n",
    "  [\"17\", \"Software Design\"],\n",
    "  [\"58\", \"Mechanics\"],\n",
    "  [\"58\", \"Economics\"],\n",
    "  [\"17\", \"Linear Algebra\"],\n",
    "  [\"17\", \"Political Science\"],\n",
    "  [\"94\", \"Economics\"],\n",
    "  [\"25\", \"Economics\"],\n",
    "  [\"58\", \"Software Design\"],\n",
    "]\n",
    "\n",
    "enrollments2 = [\n",
    "  [\"0\", \"Advanced Mechanics\"],\n",
    "  [\"0\", \"Art History\"],\n",
    "  [\"1\", \"Course 1\"],\n",
    "  [\"1\", \"Course 2\"],\n",
    "  [\"2\", \"Computer Architecture\"],\n",
    "  [\"3\", \"Course 1\"],\n",
    "  [\"3\", \"Course 2\"],\n",
    "  [\"4\", \"Algorithms\"],\n",
    "]\n",
    "\n",
    "enrollments3 = [\n",
    "  [\"23\", \"Software Design\"],\n",
    "  [\"3\", \"Advanced Mechanics\"],\n",
    "  [\"2\", \"Art History\"],\n",
    "  [\"33\", \"Another\"],\n",
    "]"
   ],
   "metadata": {
    "collapsed": false,
    "ExecuteTime": {
     "start_time": "2023-07-04T11:48:39.908409Z",
     "end_time": "2023-07-04T11:49:14.960832Z"
    }
   }
  },
  {
   "cell_type": "markdown",
   "source": [
    "# Arrays\n",
    "\n",
    "Como iterar por un array. Los indices determinan el orden de los elementos en el array. Los indices son enteros y consecutivos. El primer elemento tiene indice 0 y el ultimo tiene indice n-1. El array tiene un tamaño fijo, no se puede cambiar. Se puede acceder a los elementos del array en tiempo constante. Se puede insertar un elemento en el array en tiempo lineal. Se puede eliminar un elemento en tiempo lineal."
   ],
   "metadata": {
    "collapsed": false
   }
  },
  {
   "cell_type": "code",
   "execution_count": 2,
   "outputs": [
    {
     "name": "stdout",
     "output_type": "stream",
     "text": [
      "[['58', 'Linear Algebra'], ['94', 'Art History'], ['94', 'Operating Systems'], ['17', 'Software Design'], ['58', 'Mechanics'], ['58', 'Economics'], ['17', 'Linear Algebra'], ['17', 'Political Science'], ['94', 'Economics'], ['25', 'Economics'], ['58', 'Software Design']]\n"
     ]
    }
   ],
   "source": [
    "print(enrollments1)"
   ],
   "metadata": {
    "collapsed": false,
    "ExecuteTime": {
     "start_time": "2023-07-04T11:48:39.920978Z",
     "end_time": "2023-07-04T11:49:14.965667Z"
    }
   }
  },
  {
   "cell_type": "code",
   "execution_count": 3,
   "outputs": [
    {
     "name": "stdout",
     "output_type": "stream",
     "text": [
      "Iteracion: 0\n",
      "['58', 'Linear Algebra']\n",
      "Iteracion: 1\n",
      "['94', 'Art History']\n",
      "Iteracion: 2\n",
      "['94', 'Operating Systems']\n",
      "Iteracion: 3\n",
      "['17', 'Software Design']\n",
      "Iteracion: 4\n",
      "['58', 'Mechanics']\n",
      "Iteracion: 5\n",
      "['58', 'Economics']\n",
      "Iteracion: 6\n",
      "['17', 'Linear Algebra']\n",
      "Iteracion: 7\n",
      "['17', 'Political Science']\n",
      "Iteracion: 8\n",
      "['94', 'Economics']\n",
      "Iteracion: 9\n",
      "['25', 'Economics']\n",
      "Iteracion: 10\n",
      "['58', 'Software Design']\n"
     ]
    }
   ],
   "source": [
    "contador = 0\n",
    "for data in enrollments1:\n",
    "    print(\"Iteracion: \" + str(contador))\n",
    "    print(data)\n",
    "    contador += 1"
   ],
   "metadata": {
    "collapsed": false,
    "ExecuteTime": {
     "start_time": "2023-07-04T11:48:39.921082Z",
     "end_time": "2023-07-04T11:49:14.976603Z"
    }
   }
  },
  {
   "cell_type": "markdown",
   "source": [
    "## Indices"
   ],
   "metadata": {
    "collapsed": false
   }
  },
  {
   "cell_type": "code",
   "execution_count": 4,
   "outputs": [
    {
     "name": "stdout",
     "output_type": "stream",
     "text": [
      "['58', 'Linear Algebra']\n"
     ]
    }
   ],
   "source": [
    "print(enrollments1[0])"
   ],
   "metadata": {
    "collapsed": false,
    "ExecuteTime": {
     "start_time": "2023-07-04T11:49:14.982883Z",
     "end_time": "2023-07-04T11:49:14.984415Z"
    }
   }
  },
  {
   "cell_type": "code",
   "execution_count": 5,
   "outputs": [
    {
     "name": "stdout",
     "output_type": "stream",
     "text": [
      "58\n"
     ]
    }
   ],
   "source": [
    "print(enrollments1[0][0])"
   ],
   "metadata": {
    "collapsed": false,
    "ExecuteTime": {
     "start_time": "2023-07-04T11:49:14.991036Z",
     "end_time": "2023-07-04T11:49:15.041922Z"
    }
   }
  },
  {
   "cell_type": "markdown",
   "source": [
    "Recordar: En python el indice 0 es el primer elemento y el indice -1 es el ultimo elemento."
   ],
   "metadata": {
    "collapsed": false
   }
  },
  {
   "cell_type": "code",
   "execution_count": 6,
   "outputs": [
    {
     "name": "stdout",
     "output_type": "stream",
     "text": [
      "ID: 58, Course: Linear Algebra\n",
      "ID: 94, Course: Art History\n",
      "ID: 94, Course: Operating Systems\n",
      "ID: 17, Course: Software Design\n",
      "ID: 58, Course: Mechanics\n",
      "ID: 58, Course: Economics\n",
      "ID: 17, Course: Linear Algebra\n",
      "ID: 17, Course: Political Science\n",
      "ID: 94, Course: Economics\n",
      "ID: 25, Course: Economics\n",
      "ID: 58, Course: Software Design\n"
     ]
    }
   ],
   "source": [
    "for data in enrollments1:\n",
    "    id = data[0]\n",
    "    course = data[1]\n",
    "    print(f\"ID: {id}, Course: {course}\")"
   ],
   "metadata": {
    "collapsed": false,
    "ExecuteTime": {
     "start_time": "2023-07-04T11:49:14.999069Z",
     "end_time": "2023-07-04T11:49:15.043205Z"
    }
   }
  },
  {
   "cell_type": "markdown",
   "source": [
    "# Diccionarios\n",
    "\n",
    "En python un diccionario es una estructura de datos que permite almacenar pares de clave-valor. Las claves son unicas y los valores pueden ser cualquier tipo de dato. Los diccionarios son mutables, se pueden agregar y eliminar elementos. Los diccionarios no tienen orden, no se puede acceder a los elementos por indice. Se puede acceder a los elementos en tiempo constante. Se puede insertar un elemento en tiempo constante. Se puede eliminar un elemento en tiempo constante."
   ],
   "metadata": {
    "collapsed": false
   }
  },
  {
   "cell_type": "code",
   "execution_count": 7,
   "outputs": [],
   "source": [
    "diccionario_ejemplo = {\"key1\": \"value1\", \"key2\": \"value2\"}"
   ],
   "metadata": {
    "collapsed": false,
    "ExecuteTime": {
     "start_time": "2023-07-04T11:49:15.007800Z",
     "end_time": "2023-07-04T11:49:15.043675Z"
    }
   }
  },
  {
   "cell_type": "code",
   "execution_count": 8,
   "outputs": [
    {
     "name": "stdout",
     "output_type": "stream",
     "text": [
      "value1\n"
     ]
    }
   ],
   "source": [
    "print(diccionario_ejemplo[\"key1\"])"
   ],
   "metadata": {
    "collapsed": false,
    "ExecuteTime": {
     "start_time": "2023-07-04T11:49:15.014558Z",
     "end_time": "2023-07-04T11:49:15.046266Z"
    }
   }
  },
  {
   "cell_type": "code",
   "execution_count": 9,
   "outputs": [],
   "source": [
    "diccionario_ejemplo[\"key3\"] = \"value3\""
   ],
   "metadata": {
    "collapsed": false,
    "ExecuteTime": {
     "start_time": "2023-07-04T11:49:15.024414Z",
     "end_time": "2023-07-04T11:49:15.046980Z"
    }
   }
  },
  {
   "cell_type": "code",
   "execution_count": 10,
   "outputs": [
    {
     "name": "stdout",
     "output_type": "stream",
     "text": [
      "{'key1': 'value1', 'key2': 'value2', 'key3': 'value3'}\n"
     ]
    }
   ],
   "source": [
    "print(diccionario_ejemplo)"
   ],
   "metadata": {
    "collapsed": false,
    "ExecuteTime": {
     "start_time": "2023-07-04T11:49:15.035502Z",
     "end_time": "2023-07-04T11:49:15.048411Z"
    }
   }
  },
  {
   "cell_type": "markdown",
   "source": [
    "Puedo poner el ID del alumno como key del diccionario y como valor una lista con los cursos que esta cursando."
   ],
   "metadata": {
    "collapsed": false
   }
  },
  {
   "cell_type": "code",
   "execution_count": 11,
   "outputs": [],
   "source": [
    "diccionario_alumnos = {}\n",
    "for data in enrollments1:\n",
    "    id = data[0]\n",
    "    course = data[1]\n",
    "    diccionario_alumnos[id] = [course]"
   ],
   "metadata": {
    "collapsed": false,
    "ExecuteTime": {
     "start_time": "2023-07-04T11:49:15.046154Z",
     "end_time": "2023-07-04T11:49:15.054127Z"
    }
   }
  },
  {
   "cell_type": "code",
   "execution_count": 12,
   "outputs": [
    {
     "data": {
      "text/plain": "{'58': ['Software Design'],\n '94': ['Economics'],\n '17': ['Political Science'],\n '25': ['Economics']}"
     },
     "execution_count": 12,
     "metadata": {},
     "output_type": "execute_result"
    }
   ],
   "source": [
    "diccionario_alumnos"
   ],
   "metadata": {
    "collapsed": false,
    "ExecuteTime": {
     "start_time": "2023-07-04T11:49:15.058960Z",
     "end_time": "2023-07-04T11:49:15.161488Z"
    }
   }
  },
  {
   "cell_type": "code",
   "execution_count": 13,
   "outputs": [
    {
     "data": {
      "text/plain": "[['58', 'Linear Algebra'],\n ['94', 'Art History'],\n ['94', 'Operating Systems'],\n ['17', 'Software Design'],\n ['58', 'Mechanics'],\n ['58', 'Economics'],\n ['17', 'Linear Algebra'],\n ['17', 'Political Science'],\n ['94', 'Economics'],\n ['25', 'Economics'],\n ['58', 'Software Design']]"
     },
     "execution_count": 13,
     "metadata": {},
     "output_type": "execute_result"
    }
   ],
   "source": [
    "enrollments1\n"
   ],
   "metadata": {
    "collapsed": false,
    "ExecuteTime": {
     "start_time": "2023-07-04T11:49:15.068785Z",
     "end_time": "2023-07-04T11:49:15.162434Z"
    }
   }
  },
  {
   "cell_type": "markdown",
   "source": [
    "¿Pueden ver el problema con el codigo anterior?"
   ],
   "metadata": {
    "collapsed": false
   }
  },
  {
   "cell_type": "code",
   "execution_count": 14,
   "outputs": [
    {
     "name": "stdout",
     "output_type": "stream",
     "text": [
      "ID: 58, Course: Linear Algebra\n",
      "ID: 58, Course: Mechanics\n",
      "ID: 58, Course: Economics\n",
      "ID: 58, Course: Software Design\n"
     ]
    }
   ],
   "source": [
    "#hago un loop para filtrar al alumno 58\n",
    "for data in enrollments1:\n",
    "    id = data[0]\n",
    "    course = data[1]\n",
    "    if id == \"58\":\n",
    "        print(f\"ID: {id}, Course: {course}\")"
   ],
   "metadata": {
    "collapsed": false,
    "ExecuteTime": {
     "start_time": "2023-07-04T11:49:15.080942Z",
     "end_time": "2023-07-04T11:49:15.163732Z"
    }
   }
  },
  {
   "cell_type": "code",
   "execution_count": 15,
   "outputs": [
    {
     "data": {
      "text/plain": "['Software Design']"
     },
     "execution_count": 15,
     "metadata": {},
     "output_type": "execute_result"
    }
   ],
   "source": [
    "#chequeo el diccionario tmb en el alumno 58\n",
    "diccionario_alumnos[\"58\"]"
   ],
   "metadata": {
    "collapsed": false,
    "ExecuteTime": {
     "start_time": "2023-07-04T11:49:15.091348Z",
     "end_time": "2023-07-04T11:49:15.165700Z"
    }
   }
  },
  {
   "cell_type": "markdown",
   "source": [
    "## Append\n",
    "\n",
    "Para solucionar el problema anterior, en vez de asignar una lista con un solo elemento, podemos ir agregando elementos a la lista."
   ],
   "metadata": {
    "collapsed": false
   }
  },
  {
   "cell_type": "code",
   "execution_count": 16,
   "outputs": [
    {
     "data": {
      "text/plain": "{'58': []}"
     },
     "execution_count": 16,
     "metadata": {},
     "output_type": "execute_result"
    }
   ],
   "source": [
    "diccionario_alumnos_test = {}\n",
    "diccionario_alumnos_test[\"58\"] = []\n",
    "diccionario_alumnos_test"
   ],
   "metadata": {
    "collapsed": false,
    "ExecuteTime": {
     "start_time": "2023-07-04T11:49:15.099936Z",
     "end_time": "2023-07-04T11:49:15.166980Z"
    }
   }
  },
  {
   "cell_type": "code",
   "execution_count": 17,
   "outputs": [
    {
     "data": {
      "text/plain": "{'58': ['Linear Algebra']}"
     },
     "execution_count": 17,
     "metadata": {},
     "output_type": "execute_result"
    }
   ],
   "source": [
    "diccionario_alumnos_test[\"58\"].append(\"Linear Algebra\")\n",
    "diccionario_alumnos_test"
   ],
   "metadata": {
    "collapsed": false,
    "ExecuteTime": {
     "start_time": "2023-07-04T11:49:15.111405Z",
     "end_time": "2023-07-04T11:49:15.170252Z"
    }
   }
  },
  {
   "cell_type": "code",
   "execution_count": 18,
   "outputs": [],
   "source": [
    "diccionario_alumnos_test[\"58\"].append(\"Mechanics\")"
   ],
   "metadata": {
    "collapsed": false,
    "ExecuteTime": {
     "start_time": "2023-07-04T11:49:15.122520Z",
     "end_time": "2023-07-04T11:49:15.170945Z"
    }
   }
  },
  {
   "cell_type": "code",
   "execution_count": 19,
   "outputs": [
    {
     "data": {
      "text/plain": "{'58': ['Linear Algebra', 'Mechanics']}"
     },
     "execution_count": 19,
     "metadata": {},
     "output_type": "execute_result"
    }
   ],
   "source": [
    "diccionario_alumnos_test"
   ],
   "metadata": {
    "collapsed": false,
    "ExecuteTime": {
     "start_time": "2023-07-04T11:49:15.129693Z",
     "end_time": "2023-07-04T11:49:15.173432Z"
    }
   }
  },
  {
   "cell_type": "code",
   "execution_count": 20,
   "outputs": [
    {
     "data": {
      "text/plain": "{'58': ['Linear Algebra', 'Mechanics', 'Economics']}"
     },
     "execution_count": 20,
     "metadata": {},
     "output_type": "execute_result"
    }
   ],
   "source": [
    "diccionario_alumnos_test[\"58\"].append(\"Economics\")\n",
    "diccionario_alumnos_test"
   ],
   "metadata": {
    "collapsed": false,
    "ExecuteTime": {
     "start_time": "2023-07-04T11:49:15.140584Z",
     "end_time": "2023-07-04T11:49:15.175057Z"
    }
   }
  },
  {
   "cell_type": "markdown",
   "source": [
    "Solucionamos el problema anterior, pero ahora tenemos otro problema. Si el alumno 58 cursa dos veces el mismo curso, el curso se va a repetir en la lista."
   ],
   "metadata": {
    "collapsed": false
   }
  },
  {
   "cell_type": "code",
   "execution_count": 21,
   "outputs": [
    {
     "data": {
      "text/plain": "{'58': ['Linear Algebra', 'Mechanics', 'Economics', 'Software Design'],\n '94': ['Art History', 'Operating Systems', 'Economics'],\n '17': ['Software Design', 'Linear Algebra', 'Political Science'],\n '25': ['Economics']}"
     },
     "execution_count": 21,
     "metadata": {},
     "output_type": "execute_result"
    }
   ],
   "source": [
    "diccionario_alumnos = {}\n",
    "for data in enrollments1:\n",
    "    id = data[0]\n",
    "    course = data[1]\n",
    "    if id in diccionario_alumnos:\n",
    "        diccionario_alumnos[id].append(course)\n",
    "    else:\n",
    "        diccionario_alumnos[id] = [course]\n",
    "\n",
    "diccionario_alumnos"
   ],
   "metadata": {
    "collapsed": false,
    "ExecuteTime": {
     "start_time": "2023-07-04T11:49:15.152151Z",
     "end_time": "2023-07-04T11:49:15.176632Z"
    }
   }
  },
  {
   "cell_type": "markdown",
   "source": [
    "## Find pairs\n",
    "\n",
    "**Sample output:**\n",
    "```\n",
    "find_pairs(enrollments1) =>\n",
    "{\n",
    "  \"58,17\": [\"Software Design\", \"Linear Algebra\"]\n",
    "  \"58,94\": [\"Economics\"]\n",
    "  \"58,25\": [\"Economics\"]\n",
    "  \"94,25\": [\"Economics\"]\n",
    "  \"17,94\": []\n",
    "  \"17,25\": []\n",
    "}\n",
    "```\n",
    "Queremos quedarnos con los pares que compartan al menos un curso.\n",
    "1. Queremos primero saber por cursos que alumnos estan cursandondolo\n",
    "2. Queremos quedarnos con los pares que comparten cada curso\n",
    "3. Queremos devolver un diccionario con los pares y los cursos que comparten"
   ],
   "metadata": {
    "collapsed": false
   }
  },
  {
   "cell_type": "markdown",
   "source": [
    "## key or value\n",
    "key del diccionario -> curso\n",
    "value -> lista de alumnos que lo cursan"
   ],
   "metadata": {
    "collapsed": false
   }
  },
  {
   "cell_type": "code",
   "execution_count": 22,
   "outputs": [],
   "source": [
    "diccionario_cursos = {}\n",
    "for data in enrollments1:\n",
    "    id = data[0]\n",
    "    course = data[1]\n",
    "    if course in diccionario_cursos:\n",
    "        diccionario_cursos[course].append(id)\n",
    "    else:\n",
    "        diccionario_cursos[course] = [id]"
   ],
   "metadata": {
    "collapsed": false,
    "ExecuteTime": {
     "start_time": "2023-07-04T11:49:15.162357Z",
     "end_time": "2023-07-04T11:49:15.177038Z"
    }
   }
  },
  {
   "cell_type": "code",
   "execution_count": 23,
   "outputs": [
    {
     "data": {
      "text/plain": "{'Linear Algebra': ['58', '17'],\n 'Art History': ['94'],\n 'Operating Systems': ['94'],\n 'Software Design': ['17', '58'],\n 'Mechanics': ['58'],\n 'Economics': ['58', '94', '25'],\n 'Political Science': ['17']}"
     },
     "execution_count": 23,
     "metadata": {},
     "output_type": "execute_result"
    }
   ],
   "source": [
    "diccionario_cursos"
   ],
   "metadata": {
    "collapsed": false,
    "ExecuteTime": {
     "start_time": "2023-07-04T11:49:15.173209Z",
     "end_time": "2023-07-04T11:49:15.343571Z"
    }
   }
  },
  {
   "cell_type": "markdown",
   "source": [
    "## Pairs of students"
   ],
   "metadata": {
    "collapsed": false
   }
  },
  {
   "cell_type": "code",
   "execution_count": 24,
   "outputs": [
    {
     "data": {
      "text/plain": "['17', '58']"
     },
     "execution_count": 24,
     "metadata": {},
     "output_type": "execute_result"
    }
   ],
   "source": [
    "diccionario_cursos[\"Software Design\"]"
   ],
   "metadata": {
    "collapsed": false,
    "ExecuteTime": {
     "start_time": "2023-07-04T11:49:15.184731Z",
     "end_time": "2023-07-04T11:49:15.344200Z"
    }
   }
  },
  {
   "cell_type": "code",
   "execution_count": 25,
   "outputs": [
    {
     "name": "stdout",
     "output_type": "stream",
     "text": [
      "Linear Algebra\n",
      "['58', '17']\n",
      "Art History\n",
      "['94']\n",
      "Operating Systems\n",
      "['94']\n",
      "Software Design\n",
      "['17', '58']\n",
      "Mechanics\n",
      "['58']\n",
      "Economics\n",
      "['58', '94', '25']\n",
      "Political Science\n",
      "['17']\n"
     ]
    }
   ],
   "source": [
    "for course, students in diccionario_cursos.items():\n",
    "    print(course)\n",
    "    print(students)"
   ],
   "metadata": {
    "collapsed": false,
    "ExecuteTime": {
     "start_time": "2023-07-04T11:49:15.194839Z",
     "end_time": "2023-07-04T11:49:15.345384Z"
    }
   }
  },
  {
   "cell_type": "markdown",
   "source": [
    "Anido loops para quedamre con pares"
   ],
   "metadata": {
    "collapsed": false
   }
  },
  {
   "cell_type": "code",
   "execution_count": 26,
   "outputs": [
    {
     "ename": "TypeError",
     "evalue": "unhashable type: 'list'",
     "output_type": "error",
     "traceback": [
      "\u001B[0;31m---------------------------------------------------------------------------\u001B[0m",
      "\u001B[0;31mTypeError\u001B[0m                                 Traceback (most recent call last)",
      "Cell \u001B[0;32mIn[26], line 4\u001B[0m\n\u001B[1;32m      2\u001B[0m diccionario_pares \u001B[38;5;241m=\u001B[39m {}\n\u001B[1;32m      3\u001B[0m \u001B[38;5;28;01mfor\u001B[39;00m course, students \u001B[38;5;129;01min\u001B[39;00m diccionario_cursos\u001B[38;5;241m.\u001B[39mitems():\n\u001B[0;32m----> 4\u001B[0m     \u001B[43mdiccionario_pares\u001B[49m\u001B[43m[\u001B[49m\u001B[43mstudents\u001B[49m\u001B[43m]\u001B[49m \u001B[38;5;241m=\u001B[39m course\n",
      "\u001B[0;31mTypeError\u001B[0m: unhashable type: 'list'"
     ]
    }
   ],
   "source": [
    "#armo un diccinoario entonce con los pares\n",
    "diccionario_pares = {}\n",
    "for course, students in diccionario_cursos.items():\n",
    "    diccionario_pares[students] = course"
   ],
   "metadata": {
    "collapsed": false,
    "ExecuteTime": {
     "start_time": "2023-05-21T16:39:08.304565Z",
     "end_time": "2023-05-21T16:39:08.338744Z"
    }
   }
  },
  {
   "cell_type": "markdown",
   "source": [
    "¿Cual es el problema?"
   ],
   "metadata": {
    "collapsed": false
   }
  },
  {
   "cell_type": "markdown",
   "source": [
    "Un diccionario solo puede tener una key por cada valor. En este caso, la key es una lista, y las listas son mutables. No se pueden usar como key de un diccionario."
   ],
   "metadata": {
    "collapsed": false
   }
  },
  {
   "cell_type": "markdown",
   "source": [
    "# String methods: join"
   ],
   "metadata": {
    "collapsed": false
   }
  },
  {
   "cell_type": "code",
   "execution_count": null,
   "outputs": [],
   "source": [
    "#join me permite unir elementos de una lista en un string\n",
    "lista = [\"a\", \"b\", \"c\"]\n",
    "\" \".join(lista)"
   ],
   "metadata": {
    "collapsed": false,
    "ExecuteTime": {
     "start_time": "2023-05-23T09:24:51.469200Z",
     "end_time": "2023-05-23T09:24:51.478161Z"
    }
   }
  },
  {
   "cell_type": "code",
   "execution_count": null,
   "outputs": [],
   "source": [
    "#notar que join puede hacer con otros caracteres\n",
    "lista = [\"a\", \"b\", \"c\"]\n",
    "\",\".join(lista)"
   ],
   "metadata": {
    "collapsed": false,
    "ExecuteTime": {
     "start_time": "2023-05-23T09:24:52.072833Z",
     "end_time": "2023-05-23T09:24:52.081540Z"
    }
   }
  },
  {
   "cell_type": "code",
   "execution_count": null,
   "outputs": [],
   "source": [
    "lista = [\"3\", \"4\", \"5\"]\n",
    "\"+\".join(lista)"
   ],
   "metadata": {
    "collapsed": false,
    "ExecuteTime": {
     "start_time": "2023-05-23T09:24:52.636869Z",
     "end_time": "2023-05-23T09:24:52.646094Z"
    }
   }
  },
  {
   "cell_type": "code",
   "execution_count": null,
   "outputs": [],
   "source": [
    "apellido = \" Moreno\"\n",
    "nombres = [\"Federico\",\"Florencia\",\"Félix\"]\n",
    "\n",
    "#quiero crear una nueva lista con el nombre mas apellido de la familia moreno\n",
    "integrantes = []\n",
    "for nombre in nombres:\n",
    "    nombre_completo = nombre + apellido\n",
    "    integrantes.append(nombre_completo)\n",
    "\n",
    "print(integrantes)\n",
    "\n"
   ],
   "metadata": {
    "collapsed": false,
    "ExecuteTime": {
     "start_time": "2023-05-23T09:24:53.218703Z",
     "end_time": "2023-05-23T09:24:53.230001Z"
    }
   }
  },
  {
   "cell_type": "code",
   "execution_count": null,
   "outputs": [],
   "source": [
    "#ejempl con el diccionario\n",
    "print(\"Itero entre cada elemento del diccionario que es una lista y joineo \")\n",
    "for course, students in diccionario_cursos.items():\n",
    "    print(\",\".join(students))\n"
   ],
   "metadata": {
    "collapsed": false,
    "ExecuteTime": {
     "start_time": "2023-05-23T09:24:55.865705Z",
     "end_time": "2023-05-23T09:24:55.883222Z"
    }
   }
  },
  {
   "cell_type": "markdown",
   "source": [
    "Repaso el output esperado\n",
    "**Sample output:**\n",
    "```\n",
    "find_pairs(enrollments1) =>\n",
    "{\n",
    "  \"58,17\": [\"Software Design\", \"Linear Algebra\"]\n",
    "  \"58,94\": [\"Economics\"]\n",
    "  \"58,25\": [\"Economics\"]\n",
    "  \"94,25\": [\"Economics\"]\n",
    "  \"17,94\": []\n",
    "  \"17,25\": []\n",
    "}\n",
    "```"
   ],
   "metadata": {
    "collapsed": false
   }
  },
  {
   "cell_type": "code",
   "execution_count": null,
   "outputs": [],
   "source": [
    "#para resolver el problema anterior, voy a hacer un set de los pares\n",
    "diccionario_pares = {}\n",
    "for course, students in diccionario_cursos.items():\n",
    "    if len(students) > 1:\n",
    "        diccionario_pares[\",\".join(students)] = course\n",
    "\n",
    "diccionario_pares"
   ],
   "metadata": {
    "collapsed": false,
    "ExecuteTime": {
     "start_time": "2023-05-23T09:30:02.017728Z",
     "end_time": "2023-05-23T09:30:02.046768Z"
    }
   }
  },
  {
   "cell_type": "markdown",
   "source": [
    "\n",
    "#### Solo diccionario_pares"
   ],
   "metadata": {
    "collapsed": false
   }
  },
  {
   "cell_type": "code",
   "execution_count": null,
   "outputs": [],
   "source": [
    "for course, students in diccionario_pares.items():\n",
    "    print(course)\n",
    "    print(students)"
   ],
   "metadata": {
    "collapsed": false,
    "ExecuteTime": {
     "start_time": "2023-05-23T09:30:11.352305Z",
     "end_time": "2023-05-23T09:30:11.373017Z"
    }
   }
  },
  {
   "cell_type": "code",
   "execution_count": null,
   "outputs": [],
   "source": [
    "student_courses = {}\n",
    "\n",
    "for data in enrollments1:\n",
    "    student_id = data[0]\n",
    "    course = data[1]\n",
    "\n",
    "    if student_id in student_courses:\n",
    "        student_courses[student_id].add(course)\n",
    "    else:\n",
    "        student_courses[student_id] = {course}"
   ],
   "metadata": {
    "collapsed": false,
    "ExecuteTime": {
     "start_time": "2023-05-23T09:34:33.111442Z",
     "end_time": "2023-05-23T09:34:33.119292Z"
    }
   }
  },
  {
   "cell_type": "code",
   "execution_count": null,
   "outputs": [],
   "source": [
    "student_courses"
   ],
   "metadata": {
    "collapsed": false,
    "ExecuteTime": {
     "start_time": "2023-05-23T09:34:38.152692Z",
     "end_time": "2023-05-23T09:34:38.161180Z"
    }
   }
  },
  {
   "cell_type": "code",
   "execution_count": null,
   "outputs": [],
   "source": [
    "\n",
    "shared_courses = {}\n",
    "\n",
    "students = list(student_courses.keys())\n",
    "\n",
    "students\n"
   ],
   "metadata": {
    "collapsed": false,
    "ExecuteTime": {
     "start_time": "2023-05-23T09:34:55.470423Z",
     "end_time": "2023-05-23T09:34:55.505091Z"
    }
   }
  },
  {
   "cell_type": "code",
   "execution_count": null,
   "outputs": [],
   "source": [
    "student_courses[\"58\"]"
   ],
   "metadata": {
    "collapsed": false,
    "ExecuteTime": {
     "start_time": "2023-05-23T09:46:00.650923Z",
     "end_time": "2023-05-23T09:46:00.659836Z"
    }
   }
  },
  {
   "cell_type": "code",
   "execution_count": null,
   "outputs": [],
   "source": [
    "student_courses[\"94\"]"
   ],
   "metadata": {
    "collapsed": false,
    "ExecuteTime": {
     "start_time": "2023-05-23T09:46:19.796572Z",
     "end_time": "2023-05-23T09:46:19.808902Z"
    }
   }
  },
  {
   "cell_type": "code",
   "execution_count": null,
   "outputs": [],
   "source": [
    "list(student_courses[\"58\"].intersection(student_courses[\"94\"]))"
   ],
   "metadata": {
    "collapsed": false,
    "ExecuteTime": {
     "start_time": "2023-05-23T09:47:18.864634Z",
     "end_time": "2023-05-23T09:47:18.891346Z"
    }
   }
  },
  {
   "cell_type": "code",
   "execution_count": null,
   "outputs": [],
   "source": [
    "shared_courses = {}\n",
    "\n",
    "students = list(student_courses.keys())\n",
    "\n",
    "for i in range(len(students)):\n",
    "    for j in range(i + 1, len(students)):\n",
    "        student1 = students[i]\n",
    "        student2 = students[j]\n",
    "        shared = list(student_courses[student1].intersection(student_courses[student2]))\n",
    "        if shared:\n",
    "            shared_courses[f\"{student1},{student2}\"] = shared\n",
    "\n",
    "shared_courses"
   ],
   "metadata": {
    "collapsed": false,
    "ExecuteTime": {
     "start_time": "2023-05-23T09:47:54.539801Z",
     "end_time": "2023-05-23T09:47:54.546800Z"
    }
   }
  },
  {
   "cell_type": "markdown",
   "source": [
    "# Solucion completa"
   ],
   "metadata": {
    "collapsed": false
   }
  },
  {
   "cell_type": "code",
   "execution_count": null,
   "outputs": [],
   "source": [
    "enrollments2 = [\n",
    "  [\"0\", \"Advanced Mechanics\"],\n",
    "  [\"0\", \"Art History\"],\n",
    "  [\"1\", \"Course 1\"],\n",
    "  [\"1\", \"Course 2\"],\n",
    "  [\"2\", \"Computer Architecture\"],\n",
    "  [\"3\", \"Course 1\"],\n",
    "  [\"3\", \"Course 2\"],\n",
    "  [\"4\", \"Algorithms\"],\n",
    "]"
   ],
   "metadata": {
    "collapsed": false,
    "ExecuteTime": {
     "start_time": "2023-05-23T09:49:21.938915Z",
     "end_time": "2023-05-23T09:49:22.026983Z"
    }
   }
  },
  {
   "cell_type": "code",
   "execution_count": null,
   "outputs": [],
   "source": [
    "hashmap = {}\n",
    "for value in enrollments2:\n",
    "    id = value[0]\n",
    "    course = value[1]\n",
    "    if id in hashmap:\n",
    "        hashmap[id].append(course)\n",
    "    else:\n",
    "        hashmap[id] = [course]\n",
    "\n",
    "hashmap"
   ],
   "metadata": {
    "collapsed": false,
    "ExecuteTime": {
     "start_time": "2023-05-23T09:50:17.880104Z",
     "end_time": "2023-05-23T09:50:17.944676Z"
    }
   }
  },
  {
   "cell_type": "code",
   "execution_count": null,
   "outputs": [],
   "source": [
    "students = list(hashmap.keys())"
   ],
   "metadata": {
    "collapsed": false,
    "ExecuteTime": {
     "start_time": "2023-05-23T09:50:41.482108Z",
     "end_time": "2023-05-23T09:50:41.548825Z"
    }
   }
  },
  {
   "cell_type": "code",
   "execution_count": null,
   "outputs": [],
   "source": [
    "shared_courses = {}\n",
    "students = list(student_courses.keys())\n",
    "\n",
    "for i in range(len(students)):\n",
    "    for j in range(i + 1, len(students)):\n",
    "        student1 = students[i]\n",
    "        student2 = students[j]\n",
    "        shared = list(student_courses[student1].intersection(student_courses[student2]))\n",
    "        if shared:\n",
    "            shared_courses[f\"{student1},{student2}\"] = shared"
   ],
   "metadata": {
    "collapsed": false,
    "ExecuteTime": {
     "start_time": "2023-05-23T09:55:27.294216Z",
     "end_time": "2023-05-23T09:55:27.302579Z"
    }
   }
  },
  {
   "cell_type": "code",
   "execution_count": null,
   "outputs": [],
   "source": [
    "shared = list(student_courses[student1].intersection(student_courses[student2]))"
   ],
   "metadata": {
    "collapsed": false,
    "ExecuteTime": {
     "start_time": "2023-05-23T09:54:59.643359Z",
     "end_time": "2023-05-23T09:54:59.668241Z"
    }
   }
  },
  {
   "cell_type": "code",
   "execution_count": null,
   "outputs": [],
   "source": [
    "shared = list([\"student1\"].intersection([\"55\"]))"
   ],
   "metadata": {
    "collapsed": false
   }
  },
  {
   "cell_type": "code",
   "execution_count": null,
   "outputs": [],
   "source": [
    "shared_courses"
   ],
   "metadata": {
    "collapsed": false,
    "ExecuteTime": {
     "start_time": "2023-05-23T09:54:38.034176Z",
     "end_time": "2023-05-23T09:54:38.102008Z"
    }
   }
  },
  {
   "cell_type": "code",
   "execution_count": null,
   "outputs": [],
   "source": [],
   "metadata": {
    "collapsed": false
   }
  }
 ],
 "metadata": {
  "kernelspec": {
   "display_name": "Python 3",
   "language": "python",
   "name": "python3"
  },
  "language_info": {
   "codemirror_mode": {
    "name": "ipython",
    "version": 2
   },
   "file_extension": ".py",
   "mimetype": "text/x-python",
   "name": "python",
   "nbconvert_exporter": "python",
   "pygments_lexer": "ipython2",
   "version": "2.7.6"
  }
 },
 "nbformat": 4,
 "nbformat_minor": 0
}
