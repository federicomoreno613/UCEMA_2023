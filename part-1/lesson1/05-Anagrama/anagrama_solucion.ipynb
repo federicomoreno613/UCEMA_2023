{
 "cells": [
  {
   "cell_type": "markdown",
   "source": [
    "# Anagrama válidos\n",
    "\n",
    "Dadas dos cadenas 's' y 't', devuelve verdadero si 't' es un anagrama de 's', y falso en caso contrario.\n",
    "\n",
    "Un anagrama es una palabra o frase formada al reorganizar las letras de una palabra o frase diferente, generalmente usando todas las letras originales exactamente una vez.\n",
    "\n",
    "\n",
    "\n",
    "## Ejemplo 1:\n",
    "\n",
    "Entrada: s = \"anagrama\", t = \"nagaram\"\n",
    "Salida: verdadero\n",
    "\n",
    "## Ejemplo 2:\n",
    "\n",
    "Entrada: s = \"rata\", t = \"coche\"\n",
    "Salida: falso\n",
    "\n",
    "## Restricciones:\n",
    "\n",
    "1 <= s.longitud, t.longitud <= 5 * 104\n",
    "s y t consisten en letras minúsculas en inglés.\n",
    "\n",
    "\n",
    "Seguimiento: ¿Qué sucede si las entradas contienen caracteres Unicode? ¿Cómo adaptaría su solución a tal caso?\n"
   ],
   "metadata": {
    "collapsed": false,
    "pycharm": {
     "name": "#%% md\n"
    }
   }
  },
  {
   "cell_type": "code",
   "execution_count": null,
   "outputs": [],
   "source": [
    "# Función para completar\n",
    "def validaranagrama(s: str, t: str) -> bool:\n",
    "        if len(s) != len(t):\n",
    "            return False\n",
    "\n",
    "        countS, countT = {}, {}\n",
    "\n",
    "        for i in range(len(s)):\n",
    "            countS[s[i]] = 1 + countS.get(s[i], 0)\n",
    "            countT[t[i]] = 1 + countT.get(t[i], 0)\n",
    "        return countS == countT\n"
   ],
   "metadata": {
    "collapsed": false,
    "pycharm": {
     "name": "#%%\n"
    }
   }
  },
  {
   "cell_type": "code",
   "execution_count": 4,
   "outputs": [],
   "source": [],
   "metadata": {
    "collapsed": false,
    "ExecuteTime": {
     "start_time": "2023-07-18T10:11:45.589708Z",
     "end_time": "2023-07-18T10:11:45.605079Z"
    },
    "pycharm": {
     "name": "#%%\n"
    }
   }
  },
  {
   "cell_type": "code",
   "execution_count": 5,
   "outputs": [
    {
     "name": "stdout",
     "output_type": "stream",
     "text": [
      "\u001B[1m======================================= test session starts ========================================\u001B[0m\n",
      "platform darwin -- Python 3.11.0, pytest-7.4.0, pluggy-1.2.0 -- /Users/federicomoreno/personal/trackmov/UCEMA_2023/bin/python\n",
      "cachedir: .pytest_cache\n",
      "rootdir: /Users/federicomoreno/personal/UCEMA_2023/part-1/lesson1/02-duplicados\n",
      "plugins: anyio-3.6.2\n",
      "\u001B[1mcollecting ... \u001B[0mcollected 3 items\n",
      "\n",
      "t_2284b4911a2c49eb9796e1ec83bf3a65.py::TestContainsDuplicate::test_contains_duplicate1 \u001B[32mPASSED\u001B[0m\u001B[32m [ 33%]\u001B[0m\n",
      "t_2284b4911a2c49eb9796e1ec83bf3a65.py::TestContainsDuplicate::test_contains_duplicate2 \u001B[31mFAILED\u001B[0m\u001B[31m [ 66%]\u001B[0m\n",
      "t_2284b4911a2c49eb9796e1ec83bf3a65.py::TestContainsDuplicate::test_contains_duplicate3 \u001B[31mFAILED\u001B[0m\u001B[31m [100%]\u001B[0m\n",
      "\n",
      "============================================= FAILURES =============================================\n",
      "\u001B[31m\u001B[1m__________________________ TestContainsDuplicate.test_contains_duplicate2 __________________________\u001B[0m\n",
      "\n",
      "self = <test_dupli.test_dupli.TestContainsDuplicate testMethod=test_contains_duplicate2>\n",
      "\n",
      "    \u001B[94mdef\u001B[39;49;00m \u001B[92mtest_contains_duplicate2\u001B[39;49;00m(\u001B[96mself\u001B[39;49;00m):\u001B[90m\u001B[39;49;00m\n",
      ">       \u001B[96mself\u001B[39;49;00m.assertEqual(TestContainsDuplicate.contains_duplicate([\u001B[94m1\u001B[39;49;00m, \u001B[94m2\u001B[39;49;00m, \u001B[94m3\u001B[39;49;00m, \u001B[94m4\u001B[39;49;00m, \u001B[94m1\u001B[39;49;00m]), \u001B[94mTrue\u001B[39;49;00m)\u001B[90m\u001B[39;49;00m\n",
      "\u001B[1m\u001B[31mE       AssertionError: False != True\u001B[0m\n",
      "\n",
      "\u001B[1m\u001B[31mtest_dupli/test_dupli.py\u001B[0m:16: AssertionError\n",
      "--------------------------------------- Captured stdout call ---------------------------------------\n",
      "2\n",
      "3\n",
      "\u001B[31m\u001B[1m__________________________ TestContainsDuplicate.test_contains_duplicate3 __________________________\u001B[0m\n",
      "\n",
      "self = <test_dupli.test_dupli.TestContainsDuplicate testMethod=test_contains_duplicate3>\n",
      "\n",
      "    \u001B[94mdef\u001B[39;49;00m \u001B[92mtest_contains_duplicate3\u001B[39;49;00m(\u001B[96mself\u001B[39;49;00m):\u001B[90m\u001B[39;49;00m\n",
      ">       \u001B[96mself\u001B[39;49;00m.assertEqual(TestContainsDuplicate.contains_duplicate([\u001B[94m1\u001B[39;49;00m, \u001B[94m1\u001B[39;49;00m, \u001B[94m1\u001B[39;49;00m, \u001B[94m1\u001B[39;49;00m, \u001B[94m1\u001B[39;49;00m]), \u001B[94mTrue\u001B[39;49;00m)\u001B[90m\u001B[39;49;00m\n",
      "\u001B[1m\u001B[31mE       AssertionError: False != True\u001B[0m\n",
      "\n",
      "\u001B[1m\u001B[31mtest_dupli/test_dupli.py\u001B[0m:19: AssertionError\n",
      "--------------------------------------- Captured stdout call ---------------------------------------\n",
      "2\n",
      "3\n",
      "\u001B[36m\u001B[1m===================================== short test summary info ======================================\u001B[0m\n",
      "\u001B[31mFAILED\u001B[0m t_2284b4911a2c49eb9796e1ec83bf3a65.py::\u001B[1mTestContainsDuplicate::test_contains_duplicate2\u001B[0m - AssertionError: False != True\n",
      "\u001B[31mFAILED\u001B[0m t_2284b4911a2c49eb9796e1ec83bf3a65.py::\u001B[1mTestContainsDuplicate::test_contains_duplicate3\u001B[0m - AssertionError: False != True\n",
      "\u001B[31m=================================== \u001B[31m\u001B[1m2 failed\u001B[0m, \u001B[32m1 passed\u001B[0m\u001B[31m in 0.30s\u001B[0m\u001B[31m ====================================\u001B[0m\n"
     ]
    },
    {
     "data": {
      "text/plain": "<ExitCode.TESTS_FAILED: 1>"
     },
     "execution_count": 5,
     "metadata": {},
     "output_type": "execute_result"
    }
   ],
   "source": [
    "import ipytest\n",
    "from test_anagram.test_anagram import TestValidAnagram\n",
    "TestValidAnagram.validaranagrama = validaranagrama\n",
    "ipytest.run(\"-vv\")"
   ],
   "metadata": {
    "collapsed": false,
    "ExecuteTime": {
     "start_time": "2023-07-18T10:11:46.027552Z",
     "end_time": "2023-07-18T10:11:46.472130Z"
    },
    "pycharm": {
     "name": "#%%\n"
    }
   }
  },
  {
   "cell_type": "code",
   "execution_count": 1,
   "outputs": [
    {
     "ename": "NameError",
     "evalue": "name 'ipytest' is not defined",
     "output_type": "error",
     "traceback": [
      "\u001B[0;31m---------------------------------------------------------------------------\u001B[0m",
      "\u001B[0;31mNameError\u001B[0m                                 Traceback (most recent call last)",
      "Cell \u001B[0;32mIn[1], line 1\u001B[0m\n\u001B[0;32m----> 1\u001B[0m \u001B[43mipytest\u001B[49m\u001B[38;5;241m.\u001B[39mclean_tests()\n",
      "\u001B[0;31mNameError\u001B[0m: name 'ipytest' is not defined"
     ]
    }
   ],
   "source": [
    "ipytest.clean_tests()"
   ],
   "metadata": {
    "collapsed": false,
    "ExecuteTime": {
     "start_time": "2023-07-05T20:06:32.661064Z",
     "end_time": "2023-07-05T20:06:32.679772Z"
    },
    "pycharm": {
     "name": "#%%\n"
    }
   }
  },
  {
   "cell_type": "code",
   "execution_count": null,
   "outputs": [],
   "source": [],
   "metadata": {
    "collapsed": false,
    "pycharm": {
     "name": "#%%\n"
    }
   }
  }
 ],
 "metadata": {
  "kernelspec": {
   "display_name": "Python 3",
   "language": "python",
   "name": "python3"
  },
  "language_info": {
   "codemirror_mode": {
    "name": "ipython",
    "version": 2
   },
   "file_extension": ".py",
   "mimetype": "text/x-python",
   "name": "python",
   "nbconvert_exporter": "python",
   "pygments_lexer": "ipython2",
   "version": "2.7.6"
  }
 },
 "nbformat": 4,
 "nbformat_minor": 0
}