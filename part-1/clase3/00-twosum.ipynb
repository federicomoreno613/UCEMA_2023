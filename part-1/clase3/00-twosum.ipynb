{
 "cells": [
  {
   "cell_type": "code",
   "execution_count": 2,
   "id": "initial_id",
   "metadata": {
    "collapsed": true,
    "ExecuteTime": {
     "end_time": "2023-08-17T10:38:43.541434400Z",
     "start_time": "2023-08-17T10:38:43.494899600Z"
    }
   },
   "outputs": [],
   "source": [
    "# Función para completar\n",
    "def pareja_de_suma(nums, target):\n",
    "    num_map = {}\n",
    "    for i, num in enumerate(nums):\n",
    "        diff = target - num\n",
    "        if diff in num_map:\n",
    "            return [num_map[diff], i]\n",
    "        num_map[num] = i\n",
    "    return []\n",
    "   "
   ]
  },
  {
   "cell_type": "markdown",
   "source": [
    "### Dos valores  de la lista num que sumen 8\n",
    "\n",
    "num = [2,3,4,5,10] \n",
    "target = 8"
   ],
   "metadata": {
    "collapsed": false
   },
   "id": "63bfb5784e24e7b2"
  },
  {
   "cell_type": "code",
   "execution_count": null,
   "outputs": [],
   "source": [
    "nums = [2,3,4,5,10]\n",
    "target = 8"
   ],
   "metadata": {
    "collapsed": false
   },
   "id": "aab4219a5cd557b3"
  },
  {
   "cell_type": "code",
   "execution_count": 3,
   "outputs": [
    {
     "data": {
      "text/plain": "[1, 3]"
     },
     "execution_count": 3,
     "metadata": {},
     "output_type": "execute_result"
    }
   ],
   "source": [
    "pareja_de_suma(nums, target)"
   ],
   "metadata": {
    "collapsed": false,
    "ExecuteTime": {
     "end_time": "2023-08-17T10:38:50.386669500Z",
     "start_time": "2023-08-17T10:38:50.355411800Z"
    }
   },
   "id": "b90b27f0b89149ae"
  },
  {
   "cell_type": "code",
   "execution_count": null,
   "outputs": [],
   "source": [],
   "metadata": {
    "collapsed": false
   },
   "id": "9befd588a8acd467"
  }
 ],
 "metadata": {
  "kernelspec": {
   "display_name": "Python 3",
   "language": "python",
   "name": "python3"
  },
  "language_info": {
   "codemirror_mode": {
    "name": "ipython",
    "version": 2
   },
   "file_extension": ".py",
   "mimetype": "text/x-python",
   "name": "python",
   "nbconvert_exporter": "python",
   "pygments_lexer": "ipython2",
   "version": "2.7.6"
  }
 },
 "nbformat": 4,
 "nbformat_minor": 5
}
