{
 "cells": [
  {
   "cell_type": "code",
   "execution_count": null,
   "outputs": [],
   "source": [
    "!git clone https://github.com/federicomoreno613/UCEMA_2023.git\n",
    "!pip install ipytest\n",
    "import os\n",
    "os.chdir('UCEMA_2023/part-1/clase1/09 - Ordenar colores')"
   ],
   "metadata": {
    "collapsed": false,
    "pycharm": {
     "name": "#%%\n"
    }
   }
  },
  {
   "cell_type": "markdown",
   "source": [
    "# Ordenar colores\n",
    "\n",
    "Dada una matriz nums con n objetos de color rojo, blanco o azul, ordénelos en el mismo lugar para que los objetos del mismo color sean adyacentes, con los colores en el orden rojo, blanco y azul.\n",
    "\n",
    "Usaremos los números enteros 0, 1 y 2 para representar el color rojo, blanco y azul, respectivamente.\n",
    "\n",
    "Debe resolver este problema sin utilizar la función de clasificación de la biblioteca.\n",
    "\n",
    "\n",
    "\n",
    "## Ejemplo 1:\n",
    "\n",
    "Entrada: números = [2,0,2,1,1,0]\n",
    "Salida: [0,0,1,1,2,2]\n",
    "\n",
    "## Ejemplo 2:\n",
    "\n",
    "Entrada: números = [2,0,1]\n",
    "Salida: [0,1,2]\n"
   ],
   "metadata": {
    "collapsed": false,
    "pycharm": {
     "name": "#%% md\n"
    }
   }
  },
  {
   "cell_type": "code",
   "execution_count": 1,
   "outputs": [],
   "source": [
    "from typing import List\n",
    "\n",
    "def ordenar_colores(nums: List[int]) -> None:\n",
    "    return\n",
    "\n"
   ],
   "metadata": {
    "collapsed": false,
    "pycharm": {
     "name": "#%%\n"
    },
    "ExecuteTime": {
     "end_time": "2023-08-02T22:28:12.809420900Z",
     "start_time": "2023-08-02T22:28:12.793689100Z"
    }
   }
  },
  {
   "cell_type": "code",
   "execution_count": 2,
   "outputs": [
    {
     "name": "stdout",
     "output_type": "stream",
     "text": [
      "\u001B[1m======================================= test session starts =======================================\u001B[0m\n",
      "platform win32 -- Python 3.9.12, pytest-7.4.0, pluggy-1.2.0 -- C:\\Users\\jduque\\Anaconda3\\envs\\UCEMA\\python.exe\n",
      "cachedir: .pytest_cache\n",
      "rootdir: C:\\Users\\jduque\\Documents\\Personal\\UCEMA\\UCEMA_2023\\part-1\\clase1\\09 - Ordenar colores\n",
      "plugins: anyio-3.5.0\n",
      "\u001B[1mcollecting ... \u001B[0mcollected 3 items\n",
      "\n",
      "t_23c5070ac4204638abb3c605f24e3fd1.py::TestOrdenarColores::test_ordenar_colores1 \u001B[32mPASSED\u001B[0m\u001B[32m      [ 33%]\u001B[0m\n",
      "t_23c5070ac4204638abb3c605f24e3fd1.py::TestOrdenarColores::test_ordenar_colores2 \u001B[32mPASSED\u001B[0m\u001B[32m      [ 66%]\u001B[0m\n",
      "t_23c5070ac4204638abb3c605f24e3fd1.py::TestOrdenarColores::test_ordenar_colores3 \u001B[32mPASSED\u001B[0m\u001B[32m      [100%]\u001B[0m\n",
      "\n",
      "\u001B[32m======================================== \u001B[32m\u001B[1m3 passed\u001B[0m\u001B[32m in 0.09s\u001B[0m\u001B[32m ========================================\u001B[0m\n"
     ]
    },
    {
     "data": {
      "text/plain": "<ExitCode.OK: 0>"
     },
     "execution_count": 2,
     "metadata": {},
     "output_type": "execute_result"
    }
   ],
   "source": [
    "import ipytest\n",
    "from ordenar_colores.test_ordenar_colores import TestOrdenarColores\n",
    "TestOrdenarColores.validar_ordenar_colores = ordenar_colores\n",
    "ipytest.run(\"-vv\")"
   ],
   "metadata": {
    "collapsed": false,
    "pycharm": {
     "name": "#%%\n"
    },
    "ExecuteTime": {
     "end_time": "2023-08-02T22:28:12.954833700Z",
     "start_time": "2023-08-02T22:28:12.809420900Z"
    }
   }
  },
  {
   "cell_type": "code",
   "execution_count": 2,
   "outputs": [],
   "source": [],
   "metadata": {
    "collapsed": false,
    "pycharm": {
     "name": "#%%\n"
    },
    "ExecuteTime": {
     "end_time": "2023-08-02T22:28:13.001761900Z",
     "start_time": "2023-08-02T22:28:12.954833700Z"
    }
   }
  }
 ],
 "metadata": {
  "kernelspec": {
   "display_name": "Python 3",
   "language": "python",
   "name": "python3"
  },
  "language_info": {
   "codemirror_mode": {
    "name": "ipython",
    "version": 2
   },
   "file_extension": ".py",
   "mimetype": "text/x-python",
   "name": "python",
   "nbconvert_exporter": "python",
   "pygments_lexer": "ipython2",
   "version": "2.7.6"
  }
 },
 "nbformat": 4,
 "nbformat_minor": 0
}