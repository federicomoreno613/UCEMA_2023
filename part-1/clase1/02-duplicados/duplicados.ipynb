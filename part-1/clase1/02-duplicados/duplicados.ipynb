{
 "cells": [
  {
   "cell_type": "markdown",
   "source": [
    "# Contiene duplicados\n",
    "\n",
    "Dado un arreglo de enteros `nums`, devuelve `True` si algún valor aparece al menos dos veces en el arreglo, y devuelve `False` si cada elemento es distinto.\n",
    "\n",
    "## Ejemplo 1:\n",
    "Entrada: nums = [1,2,3,1]\n",
    "Salida: True\n",
    "\n",
    "## Ejemplo 2:\n",
    "Entrada: nums = [1,2,3,4]\n",
    "Salida: False\n",
    "\n",
    "## Ejemplo 3:\n",
    "Entrada: nums = [1,1,1,3,3,4,3,2,4,2]\n",
    "Salida: True\n",
    "\n",
    "## Restricciones:\n",
    "1 <= nums.length <= 105\n",
    "-109 <= nums[i] <= 109\n"
   ],
   "metadata": {
    "collapsed": false,
    "pycharm": {
     "name": "#%% md\n"
    }
   }
  },
  {
   "cell_type": "code",
   "execution_count": null,
   "outputs": [],
   "source": [
    "# Función para completar\n",
    "def containsDuplicate(nums) -> bool:\n",
    "    pass"
   ],
   "metadata": {
    "collapsed": false
   }
  },
  {
   "cell_type": "code",
   "execution_count": null,
   "outputs": [],
   "source": [
    "import ipytest\n",
    "from test_dupli.test_dupli import TestContainsDuplicate\n",
    "TestContainsDuplicate.contains_duplicate = containsDuplicate\n",
    "ipytest.run(\"-vv\")"
   ],
   "metadata": {
    "collapsed": false
   }
  },
  {
   "cell_type": "code",
   "execution_count": 3,
   "outputs": [
    {
     "name": "stderr",
     "output_type": "stream",
     "text": [
      "ipytest.clean_tests is deprecated in favor of ipytest.clean\n"
     ]
    }
   ],
   "source": [
    "ipytest.clean_tests()"
   ],
   "metadata": {
    "collapsed": false,
    "ExecuteTime": {
     "start_time": "2023-07-05T20:06:32.661064Z",
     "end_time": "2023-07-05T20:06:32.679772Z"
    },
    "pycharm": {
     "name": "#%%\n"
    }
   }
  },
  {
   "cell_type": "code",
   "execution_count": null,
   "outputs": [],
   "source": [],
   "metadata": {
    "collapsed": false,
    "pycharm": {
     "name": "#%%\n"
    }
   }
  }
 ],
 "metadata": {
  "kernelspec": {
   "display_name": "Python 3",
   "language": "python",
   "name": "python3"
  },
  "language_info": {
   "codemirror_mode": {
    "name": "ipython",
    "version": 2
   },
   "file_extension": ".py",
   "mimetype": "text/x-python",
   "name": "python",
   "nbconvert_exporter": "python",
   "pygments_lexer": "ipython2",
   "version": "2.7.6"
  }
 },
 "nbformat": 4,
 "nbformat_minor": 0
}
