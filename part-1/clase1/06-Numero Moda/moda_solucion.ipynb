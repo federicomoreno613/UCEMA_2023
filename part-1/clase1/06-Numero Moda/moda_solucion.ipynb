{
 "cells": [
  {
   "cell_type": "markdown",
   "source": [
    "# Calculo de la moda\n",
    "\n",
    "Dada una matriz nums de tamaño n, devuelve el elemento mayoritario.\n",
    "\n",
    "El elemento mayoritario es el elemento que aparece más de ⌊n/2⌋ veces. Puede suponer que el elemento mayoritario siempre existe en la matriz\n"
   ],
   "metadata": {
    "collapsed": false,
    "pycharm": {
     "name": "#%% md\n"
    }
   }
  },
  {
   "cell_type": "code",
   "execution_count": 5,
   "outputs": [],
   "source": [
    "from typing import List\n",
    "\n",
    "\n",
    "# Función para completar\n",
    "def moda(nums: List[int]) -> int:\n",
    "    res, count = 0, 0\n",
    "\n",
    "    for n in nums:\n",
    "        if count == 0:\n",
    "            res = n\n",
    "        count += (1 if n == res else -1)\n",
    "\n",
    "    return res\n"
   ],
   "metadata": {
    "collapsed": false,
    "ExecuteTime": {
     "start_time": "2023-07-24T14:15:21.302202Z",
     "end_time": "2023-07-24T14:15:21.809100Z"
    },
    "pycharm": {
     "name": "#%%\n"
    }
   }
  },
  {
   "cell_type": "code",
   "execution_count": 6,
   "outputs": [
    {
     "name": "stdout",
     "output_type": "stream",
     "text": [
      "\u001B[1m======================================= test session starts =======================================\u001B[0m\n",
      "platform win32 -- Python 3.9.12, pytest-7.4.0, pluggy-1.2.0 -- C:\\Users\\jduque\\Anaconda3\\envs\\UCEMA\\python.exe\n",
      "cachedir: .pytest_cache\n",
      "rootdir: C:\\Users\\jduque\\Documents\\Personal\\UCEMA\\UCEMA_2023\\part-1\\clase1\\06-Numero Moda\n",
      "plugins: anyio-3.5.0\n",
      "\u001B[1mcollecting ... \u001B[0mcollected 4 items\n",
      "\n",
      "t_f1be7064b6f04372889f8164718f0ecf.py::TestModa::test_moda1 \u001B[32mPASSED\u001B[0m\u001B[32m                           [ 25%]\u001B[0m\n",
      "t_f1be7064b6f04372889f8164718f0ecf.py::TestModa::test_moda2 \u001B[31mFAILED\u001B[0m\u001B[31m                           [ 50%]\u001B[0m\n",
      "t_f1be7064b6f04372889f8164718f0ecf.py::TestModa::test_moda3 \u001B[32mPASSED\u001B[0m\u001B[31m                           [ 75%]\u001B[0m\n",
      "t_f1be7064b6f04372889f8164718f0ecf.py::TestModa::test_moda4 \u001B[32mPASSED\u001B[0m\u001B[31m                           [100%]\u001B[0m\n",
      "\n",
      "============================================ FAILURES =============================================\n",
      "\u001B[31m\u001B[1m_______________________________________ TestModa.test_moda2 _______________________________________\u001B[0m\n",
      "\n",
      "self = <test_moda.test_moda.TestModa testMethod=test_moda2>\n",
      "\n",
      "    \u001B[94mdef\u001B[39;49;00m \u001B[92mtest_moda2\u001B[39;49;00m(\u001B[96mself\u001B[39;49;00m):\n",
      ">       \u001B[96mself\u001B[39;49;00m.assertEqual(TestModa.validarmoda([\u001B[94m5\u001B[39;49;00m, \u001B[94m5\u001B[39;49;00m, \u001B[94m5\u001B[39;49;00m, \u001B[94m2\u001B[39;49;00m, \u001B[94m2\u001B[39;49;00m, \u001B[94m2\u001B[39;49;00m, \u001B[94m2\u001B[39;49;00m, \u001B[94m7\u001B[39;49;00m, \u001B[94m7\u001B[39;49;00m]), \u001B[94m2\u001B[39;49;00m)\n",
      "\u001B[1m\u001B[31mE       AssertionError: 7 != 2\u001B[0m\n",
      "\n",
      "\u001B[1m\u001B[31mtest_moda\\test_moda.py\u001B[0m:17: AssertionError\n",
      "\u001B[36m\u001B[1m===================================== short test summary info =====================================\u001B[0m\n",
      "\u001B[31mFAILED\u001B[0m t_f1be7064b6f04372889f8164718f0ecf.py::\u001B[1mTestModa::test_moda2\u001B[0m - AssertionError: 7 != 2\n",
      "\u001B[31m=================================== \u001B[31m\u001B[1m1 failed\u001B[0m, \u001B[32m3 passed\u001B[0m\u001B[31m in 0.42s\u001B[0m\u001B[31m ===================================\u001B[0m\n"
     ]
    },
    {
     "data": {
      "text/plain": "<ExitCode.TESTS_FAILED: 1>"
     },
     "execution_count": 6,
     "metadata": {},
     "output_type": "execute_result"
    }
   ],
   "source": [
    "import ipytest\n",
    "from test_moda.test_moda import TestModa\n",
    "TestModa.validarmoda = moda\n",
    "ipytest.run(\"-vv\")"
   ],
   "metadata": {
    "collapsed": false,
    "ExecuteTime": {
     "start_time": "2023-07-24T14:15:21.790580Z",
     "end_time": "2023-07-24T14:15:22.207585Z"
    },
    "pycharm": {
     "name": "#%%\n"
    }
   }
  },
  {
   "cell_type": "code",
   "execution_count": null,
   "outputs": [],
   "source": [],
   "metadata": {
    "collapsed": false,
    "pycharm": {
     "name": "#%%\n"
    }
   }
  }
 ],
 "metadata": {
  "kernelspec": {
   "display_name": "Python 3",
   "language": "python",
   "name": "python3"
  },
  "language_info": {
   "codemirror_mode": {
    "name": "ipython",
    "version": 2
   },
   "file_extension": ".py",
   "mimetype": "text/x-python",
   "name": "python",
   "nbconvert_exporter": "python",
   "pygments_lexer": "ipython2",
   "version": "2.7.6"
  }
 },
 "nbformat": 4,
 "nbformat_minor": 0
}