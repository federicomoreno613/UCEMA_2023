{
 "cells": [
  {
   "cell_type": "code",
   "execution_count": null,
   "outputs": [],
   "source": [
    "!git clone https://github.com/federicomoreno613/UCEMA_2023.git\n",
    "!pip install ipytest\n",
    "import os\n",
    "os.chdir('UCEMA_2023/part-1/clase1/06-Numero Moda')"
   ],
   "metadata": {
    "collapsed": false,
    "pycharm": {
     "name": "#%%\n"
    }
   }
  },
  {
   "cell_type": "markdown",
   "source": [
    "# Calculo de la moda\n",
    "\n",
    "Dada una matriz nums de tamaño n, devuelve el elemento mayoritario.\n",
    "\n",
    "El elemento mayoritario es el elemento que aparece más de ⌊n/2⌋ veces. Puede suponer que el elemento mayoritario siempre existe en la matriz\n"
   ],
   "metadata": {
    "collapsed": false,
    "pycharm": {
     "name": "#%% md\n"
    }
   }
  },
  {
   "cell_type": "code",
   "execution_count": 1,
   "outputs": [],
   "source": [
    "from typing import List\n",
    "\n",
    "# Función para completar\n",
    "def moda(nums: List[int]) -> int:\n",
    "    return \n"
   ],
   "metadata": {
    "collapsed": false,
    "pycharm": {
     "name": "#%%\n"
    },
    "ExecuteTime": {
     "end_time": "2023-08-02T22:26:13.813040600Z",
     "start_time": "2023-08-02T22:26:13.797268200Z"
    }
   }
  },
  {
   "cell_type": "code",
   "execution_count": 2,
   "outputs": [
    {
     "name": "stdout",
     "output_type": "stream",
     "text": [
      "\u001B[1m======================================= test session starts =======================================\u001B[0m\n",
      "platform win32 -- Python 3.9.13, pytest-7.4.0, pluggy-1.2.0 -- C:\\Users\\Admin\\PycharmProjects\\UCEMA_2023\\venv\\Scripts\\python.exe\n",
      "cachedir: .pytest_cache\n",
      "rootdir: C:\\Users\\Admin\\PycharmProjects\\UCEMA_2023\\part-1\\clase1\\06-Numero Moda\n",
      "plugins: anyio-3.7.1\n",
      "\u001B[1mcollecting ... \u001B[0mcollected 4 items\n",
      "\n",
      "t_1bad6cd7aa4c4622b2dfe916c05a40ae.py::TestModa::test_moda1 \u001B[32mPASSED\u001B[0m\u001B[32m                           [ 25%]\u001B[0m\n",
      "t_1bad6cd7aa4c4622b2dfe916c05a40ae.py::TestModa::test_moda2 \u001B[32mPASSED\u001B[0m\u001B[32m                           [ 50%]\u001B[0m\n",
      "t_1bad6cd7aa4c4622b2dfe916c05a40ae.py::TestModa::test_moda3 \u001B[32mPASSED\u001B[0m\u001B[32m                           [ 75%]\u001B[0m\n",
      "t_1bad6cd7aa4c4622b2dfe916c05a40ae.py::TestModa::test_moda4 \u001B[32mPASSED\u001B[0m\u001B[32m                           [100%]\u001B[0m\n",
      "\n",
      "\u001B[32m======================================== \u001B[32m\u001B[1m4 passed\u001B[0m\u001B[32m in 0.00s\u001B[0m\u001B[32m ========================================\u001B[0m\n"
     ]
    },
    {
     "data": {
      "text/plain": "<ExitCode.OK: 0>"
     },
     "execution_count": 2,
     "metadata": {},
     "output_type": "execute_result"
    }
   ],
   "source": [
    "import ipytest\n",
    "from test_moda.test_moda import TestModa\n",
    "TestModa.validarmoda = moda\n",
    "ipytest.run(\"-vv\")"
   ],
   "metadata": {
    "collapsed": false,
    "pycharm": {
     "name": "#%%\n"
    },
    "ExecuteTime": {
     "end_time": "2023-08-02T22:26:14.001808700Z",
     "start_time": "2023-08-02T22:26:13.813040600Z"
    }
   }
  },
  {
   "cell_type": "code",
   "execution_count": 2,
   "outputs": [],
   "source": [],
   "metadata": {
    "collapsed": false,
    "pycharm": {
     "name": "#%%\n"
    },
    "ExecuteTime": {
     "end_time": "2023-08-02T22:26:14.001808700Z",
     "start_time": "2023-08-02T22:26:13.970459400Z"
    }
   }
  }
 ],
 "metadata": {
  "kernelspec": {
   "display_name": "Python 3",
   "language": "python",
   "name": "python3"
  },
  "language_info": {
   "codemirror_mode": {
    "name": "ipython",
    "version": 2
   },
   "file_extension": ".py",
   "mimetype": "text/x-python",
   "name": "python",
   "nbconvert_exporter": "python",
   "pygments_lexer": "ipython2",
   "version": "2.7.6"
  }
 },
 "nbformat": 4,
 "nbformat_minor": 0
}