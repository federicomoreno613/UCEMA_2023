{
 "cells": [
  {
   "cell_type": "markdown",
   "source": [
    "# Calculo de la moda\n",
    "\n",
    "Dada una matriz nums de tamaño n, devuelve el elemento mayoritario.\n",
    "\n",
    "El elemento mayoritario es el elemento que aparece más de ⌊n/2⌋ veces. Puede suponer que el elemento mayoritario siempre existe en la matriz\n"
   ],
   "metadata": {
    "collapsed": false,
    "pycharm": {
     "name": "#%% md\n"
    }
   }
  },
  {
   "cell_type": "code",
   "execution_count": 5,
   "outputs": [],
   "source": [
    "from typing import List\n",
    "\n",
    "\n",
    "# Función para completar\n",
    "def moda(nums: List[int]) -> int:\n",
    "## Crear la funcion\n",
    "\n",
    "    return\n"
   ],
   "metadata": {
    "collapsed": false,
    "ExecuteTime": {
     "start_time": "2023-07-24T14:15:21.302202Z",
     "end_time": "2023-07-24T14:15:21.809100Z"
    },
    "pycharm": {
     "name": "#%%\n"
    }
   }
  },
  {
   "cell_type": "code",
   "execution_count": 4,
   "outputs": [
    {
     "ename": "NameError",
     "evalue": "name 'moda' is not defined",
     "output_type": "error",
     "traceback": [
      "\u001B[1;31m---------------------------------------------------------------------------\u001B[0m",
      "\u001B[1;31mNameError\u001B[0m                                 Traceback (most recent call last)",
      "Input \u001B[1;32mIn [4]\u001B[0m, in \u001B[0;36m<cell line: 3>\u001B[1;34m()\u001B[0m\n\u001B[0;32m      1\u001B[0m \u001B[38;5;28;01mimport\u001B[39;00m \u001B[38;5;21;01mipytest\u001B[39;00m\n\u001B[0;32m      2\u001B[0m \u001B[38;5;28;01mfrom\u001B[39;00m \u001B[38;5;21;01mtest_moda\u001B[39;00m\u001B[38;5;21;01m.\u001B[39;00m\u001B[38;5;21;01mtest_moda\u001B[39;00m \u001B[38;5;28;01mimport\u001B[39;00m TestModa\n\u001B[1;32m----> 3\u001B[0m TestModa\u001B[38;5;241m.\u001B[39mvalidarmoda \u001B[38;5;241m=\u001B[39m \u001B[43mmoda\u001B[49m\n\u001B[0;32m      4\u001B[0m ipytest\u001B[38;5;241m.\u001B[39mrun(\u001B[38;5;124m\"\u001B[39m\u001B[38;5;124m-vv\u001B[39m\u001B[38;5;124m\"\u001B[39m)\n",
      "\u001B[1;31mNameError\u001B[0m: name 'moda' is not defined"
     ]
    }
   ],
   "source": [
    "import ipytest\n",
    "from test_moda.test_moda import TestModa\n",
    "TestModa.validarmoda = moda\n",
    "ipytest.run(\"-vv\")"
   ],
   "metadata": {
    "collapsed": false,
    "ExecuteTime": {
     "start_time": "2023-07-24T14:15:21.790580Z",
     "end_time": "2023-07-24T14:15:22.207585Z"
    },
    "pycharm": {
     "name": "#%%\n"
    }
   }
  },
  {
   "cell_type": "code",
   "execution_count": null,
   "outputs": [],
   "source": [],
   "metadata": {
    "collapsed": false,
    "pycharm": {
     "name": "#%%\n"
    }
   }
  }
 ],
 "metadata": {
  "kernelspec": {
   "display_name": "Python 3",
   "language": "python",
   "name": "python3"
  },
  "language_info": {
   "codemirror_mode": {
    "name": "ipython",
    "version": 2
   },
   "file_extension": ".py",
   "mimetype": "text/x-python",
   "name": "python",
   "nbconvert_exporter": "python",
   "pygments_lexer": "ipython2",
   "version": "2.7.6"
  }
 },
 "nbformat": 4,
 "nbformat_minor": 0
}