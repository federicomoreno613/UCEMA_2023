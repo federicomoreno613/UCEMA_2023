{
 "cells": [
  {
   "cell_type": "markdown",
   "source": [
    "\n",
    "# Encuentra la Pareja de Suma\n",
    "\n",
    "Escribe una función encuentra_pareja_de_suma que tome una lista de números enteros nums y un número entero objetivo objetivo. Tu función debe encontrar los índices de dos números en la lista que sumen exactamente al valor objetivo.\n",
    "\n",
    "Deberás retornar una lista con los índices de los dos números que sumen al objetivo. Si no hay tal pareja en la lista, tu función debe retornar una lista vacía.\n",
    "\n",
    "Por ejemplo, si nums = [2, 7, 11, 15] y objetivo = 9, la respuesta sería [0, 1] ya que nums[0] + nums[1] = 9.\n"
   ],
   "metadata": {
    "collapsed": false
   }
  },
  {
   "cell_type": "code",
   "execution_count": 1,
   "outputs": [],
   "source": [
    "# Función para completar\n",
    "def pareja_de_suma(nums, target):\n",
    "    \"\"\"Resolver el ejercicio\"\"\"\n",
    "    return "
   ],
   "metadata": {
    "collapsed": false,
    "ExecuteTime": {
     "end_time": "2023-08-02T22:21:57.290734100Z",
     "start_time": "2023-08-02T22:21:57.286596300Z"
    }
   }
  },
  {
   "cell_type": "code",
   "execution_count": 2,
   "outputs": [
    {
     "name": "stdout",
     "output_type": "stream",
     "text": [
      "\u001B[1m======================================= test session starts =======================================\u001B[0m\n",
      "platform win32 -- Python 3.9.13, pytest-7.4.0, pluggy-1.2.0 -- C:\\Users\\Admin\\PycharmProjects\\UCEMA_2023\\venv\\Scripts\\python.exe\n",
      "cachedir: .pytest_cache\n",
      "rootdir: C:\\Users\\Admin\\PycharmProjects\\UCEMA_2023\\part-1\\clase1\\04-twosum\n",
      "plugins: anyio-3.7.1\n",
      "\u001B[1mcollecting ... \u001B[0mcollected 3 items\n",
      "\n",
      "t_47276e46c1734dd5b7ab70f94183b86b.py::TestTwoSum::test_two_sum1 \u001B[32mPASSED\u001B[0m\u001B[32m                      [ 33%]\u001B[0m\n",
      "t_47276e46c1734dd5b7ab70f94183b86b.py::TestTwoSum::test_two_sum2 \u001B[32mPASSED\u001B[0m\u001B[32m                      [ 66%]\u001B[0m\n",
      "t_47276e46c1734dd5b7ab70f94183b86b.py::TestTwoSum::test_two_sum3 \u001B[32mPASSED\u001B[0m\u001B[32m                      [100%]\u001B[0m\n",
      "\n",
      "\u001B[32m======================================== \u001B[32m\u001B[1m3 passed\u001B[0m\u001B[32m in 0.01s\u001B[0m\u001B[32m ========================================\u001B[0m\n"
     ]
    },
    {
     "data": {
      "text/plain": "<ExitCode.OK: 0>"
     },
     "execution_count": 2,
     "metadata": {},
     "output_type": "execute_result"
    }
   ],
   "source": [
    "import ipytest\n",
    "from test_two.test_sum import TestTwoSum\n",
    "TestTwoSum.two_sum = pareja_de_suma\n",
    "ipytest.run(\"-vv\")"
   ],
   "metadata": {
    "collapsed": false,
    "ExecuteTime": {
     "end_time": "2023-08-02T22:21:57.944860100Z",
     "start_time": "2023-08-02T22:21:57.762307600Z"
    }
   }
  },
  {
   "cell_type": "code",
   "execution_count": 3,
   "outputs": [
    {
     "name": "stderr",
     "output_type": "stream",
     "text": [
      "ipytest.clean_tests is deprecated in favor of ipytest.clean\n"
     ]
    }
   ],
   "source": [
    "ipytest.clean_tests()"
   ],
   "metadata": {
    "collapsed": false,
    "ExecuteTime": {
     "start_time": "2023-07-05T20:06:32.661064Z",
     "end_time": "2023-07-05T20:06:32.679772Z"
    }
   }
  },
  {
   "cell_type": "code",
   "execution_count": null,
   "outputs": [],
   "source": [],
   "metadata": {
    "collapsed": false
   }
  }
 ],
 "metadata": {
  "kernelspec": {
   "display_name": "Python 3",
   "language": "python",
   "name": "python3"
  },
  "language_info": {
   "codemirror_mode": {
    "name": "ipython",
    "version": 2
   },
   "file_extension": ".py",
   "mimetype": "text/x-python",
   "name": "python",
   "nbconvert_exporter": "python",
   "pygments_lexer": "ipython2",
   "version": "2.7.6"
  }
 },
 "nbformat": 4,
 "nbformat_minor": 0
}
