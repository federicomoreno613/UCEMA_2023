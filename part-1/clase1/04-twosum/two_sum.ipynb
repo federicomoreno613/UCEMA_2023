{
 "cells": [
  {
   "cell_type": "code",
   "execution_count": 1,
   "outputs": [],
   "source": [
    "# Función para completar\n",
    "def two_sum(nums, target):\n",
    "    num_map = {}\n",
    "    for i, num in enumerate(nums):\n",
    "        diff = target - num\n",
    "        if diff in num_map:\n",
    "            return [num_map[diff], i]\n",
    "        num_map[num] = i\n",
    "    return []"
   ],
   "metadata": {
    "collapsed": false,
    "ExecuteTime": {
     "start_time": "2023-07-05T20:06:28.303082Z",
     "end_time": "2023-07-05T20:06:28.322182Z"
    }
   }
  },
  {
   "cell_type": "code",
   "execution_count": 4,
   "outputs": [
    {
     "name": "stdout",
     "output_type": "stream",
     "text": [
      "\u001B[1m======================================= test session starts ========================================\u001B[0m\n",
      "platform darwin -- Python 3.11.0, pytest-7.4.0, pluggy-1.2.0 -- /Users/federicomoreno/personal/trackmov/UCEMA_2023/bin/python\n",
      "cachedir: .pytest_cache\n",
      "rootdir: /Users/federicomoreno/personal/UCEMA_2023/part-1/lesson1/01-twosum\n",
      "plugins: anyio-3.6.2\n",
      "\u001B[1mcollecting ... \u001B[0mcollected 3 items\n",
      "\n",
      "t_595b658b16e64f409a68e02db7b39d38.py::TestTwoSum::test_two_sum1 \u001B[32mPASSED\u001B[0m\u001B[32m                      [ 33%]\u001B[0m\n",
      "t_595b658b16e64f409a68e02db7b39d38.py::TestTwoSum::test_two_sum2 \u001B[32mPASSED\u001B[0m\u001B[32m                      [ 66%]\u001B[0m\n",
      "t_595b658b16e64f409a68e02db7b39d38.py::TestTwoSum::test_two_sum3 \u001B[32mPASSED\u001B[0m\u001B[32m                      [100%]\u001B[0m\n",
      "\n",
      "\u001B[32m======================================== \u001B[32m\u001B[1m3 passed\u001B[0m\u001B[32m in 0.02s\u001B[0m\u001B[32m =========================================\u001B[0m\n"
     ]
    },
    {
     "data": {
      "text/plain": "<ExitCode.OK: 0>"
     },
     "execution_count": 4,
     "metadata": {},
     "output_type": "execute_result"
    }
   ],
   "source": [
    "import ipytest\n",
    "from test_two.test_sum import TestTwoSum\n",
    "TestTwoSum.two_sum = two_sum\n",
    "ipytest.run(\"-vv\")"
   ],
   "metadata": {
    "collapsed": false,
    "ExecuteTime": {
     "start_time": "2023-07-05T20:06:38.049375Z",
     "end_time": "2023-07-05T20:06:38.167075Z"
    }
   }
  },
  {
   "cell_type": "code",
   "execution_count": 3,
   "outputs": [
    {
     "name": "stderr",
     "output_type": "stream",
     "text": [
      "ipytest.clean_tests is deprecated in favor of ipytest.clean\n"
     ]
    }
   ],
   "source": [
    "ipytest.clean_tests()"
   ],
   "metadata": {
    "collapsed": false,
    "ExecuteTime": {
     "start_time": "2023-07-05T20:06:32.661064Z",
     "end_time": "2023-07-05T20:06:32.679772Z"
    }
   }
  },
  {
   "cell_type": "code",
   "execution_count": null,
   "outputs": [],
   "source": [],
   "metadata": {
    "collapsed": false
   }
  }
 ],
 "metadata": {
  "kernelspec": {
   "display_name": "Python 3",
   "language": "python",
   "name": "python3"
  },
  "language_info": {
   "codemirror_mode": {
    "name": "ipython",
    "version": 2
   },
   "file_extension": ".py",
   "mimetype": "text/x-python",
   "name": "python",
   "nbconvert_exporter": "python",
   "pygments_lexer": "ipython2",
   "version": "2.7.6"
  }
 },
 "nbformat": 4,
 "nbformat_minor": 0
}
