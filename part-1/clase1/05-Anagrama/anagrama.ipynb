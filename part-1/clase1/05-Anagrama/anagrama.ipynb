{
 "cells": [
  {
   "cell_type": "markdown",
   "source": [
    "# Anagrama válidos\n",
    "\n",
    "Dadas dos cadenas 's' y 't', devuelve verdadero si 't' es un anagrama de 's', y falso en caso contrario.\n",
    "\n",
    "Un anagrama es una palabra o frase formada al reorganizar las letras de una palabra o frase diferente, generalmente usando todas las letras originales exactamente una vez.\n",
    "\n",
    "\n",
    "\n",
    "## Ejemplo 1:\n",
    "\n",
    "Entrada: s = \"anagrama\", t = \"nagaram\"\n",
    "Salida: verdadero\n",
    "\n",
    "## Ejemplo 2:\n",
    "\n",
    "Entrada: s = \"rata\", t = \"coche\"\n",
    "Salida: falso\n",
    "\n",
    "## Restricciones:\n",
    "\n",
    "1 <= s.longitud, t.longitud <= 5 * 104\n",
    "s y t consisten en letras minúsculas en inglés.\n",
    "\n",
    "\n",
    "Seguimiento: ¿Qué sucede si las entradas contienen caracteres Unicode? ¿Cómo adaptaría su solución a tal caso?\n"
   ],
   "metadata": {
    "collapsed": false
   }
  },
  {
   "cell_type": "code",
   "execution_count": 7,
   "outputs": [],
   "source": [
    "# Función para completar\n",
    "def validaranagrama(s: str, t: str) -> bool:\n",
    "    pass\n"
   ],
   "metadata": {
    "collapsed": false,
    "ExecuteTime": {
     "start_time": "2023-07-24T14:15:21.302202Z",
     "end_time": "2023-07-24T14:15:21.809100Z"
    }
   }
  },
  {
   "cell_type": "code",
   "execution_count": 8,
   "outputs": [
    {
     "name": "stdout",
     "output_type": "stream",
     "text": [
      "\u001B[1m======================================= test session starts ========================================\u001B[0m\n",
      "platform darwin -- Python 3.11.0, pytest-7.4.0, pluggy-1.2.0 -- /Users/federicomoreno/personal/trackmov/UCEMA_2023/bin/python\n",
      "cachedir: .pytest_cache\n",
      "rootdir: /Users/federicomoreno/personal/UCEMA_2023/part-1/clase1/05-Anagrama\n",
      "plugins: anyio-3.6.2\n",
      "\u001B[1mcollecting ... \u001B[0mcollected 3 items\n",
      "\n",
      "t_ba2113df156f4df983111898a4b3ea36.py::TestValidAnagram::test_valid_anagram1 \u001B[32mPASSED\u001B[0m\u001B[32m          [ 33%]\u001B[0m\n",
      "t_ba2113df156f4df983111898a4b3ea36.py::TestValidAnagram::test_valid_anagram3 \u001B[32mPASSED\u001B[0m\u001B[32m          [ 66%]\u001B[0m\n",
      "t_ba2113df156f4df983111898a4b3ea36.py::TestValidAnagram::test_valid_anagram4 \u001B[32mPASSED\u001B[0m\u001B[32m          [100%]\u001B[0m\n",
      "\n",
      "\u001B[32m======================================== \u001B[32m\u001B[1m3 passed\u001B[0m\u001B[32m in 0.07s\u001B[0m\u001B[32m =========================================\u001B[0m\n"
     ]
    },
    {
     "data": {
      "text/plain": "<ExitCode.OK: 0>"
     },
     "execution_count": 2,
     "metadata": {},
     "output_type": "execute_result"
    },
    {
     "name": "stdout",
     "output_type": "stream",
     "text": [
      "\u001B[1m======================================= test session starts ========================================\u001B[0m\n",
      "platform darwin -- Python 3.11.0, pytest-7.4.0, pluggy-1.2.0 -- /Users/federicomoreno/personal/trackmov/UCEMA_2023/bin/python\n",
      "cachedir: .pytest_cache\n",
      "rootdir: /Users/federicomoreno/personal/UCEMA_2023/part-1/clase1/05-Anagrama\n",
      "plugins: anyio-3.6.2\n",
      "\u001B[1mcollecting ... \u001B[0mcollected 3 items\n",
      "\n",
      "t_ba2113df156f4df983111898a4b3ea36.py::TestValidAnagram::test_valid_anagram1 \u001B[32mPASSED\u001B[0m\u001B[32m          [ 33%]\u001B[0m\n",
      "t_ba2113df156f4df983111898a4b3ea36.py::TestValidAnagram::test_valid_anagram3 \u001B[32mPASSED\u001B[0m\u001B[32m          [ 66%]\u001B[0m\n",
      "t_ba2113df156f4df983111898a4b3ea36.py::TestValidAnagram::test_valid_anagram4 \u001B[32mPASSED\u001B[0m\u001B[32m          [100%]\u001B[0m\n",
      "\n",
      "\u001B[32m======================================== \u001B[32m\u001B[1m3 passed\u001B[0m\u001B[32m in 0.08s\u001B[0m\u001B[32m =========================================\u001B[0m\n"
     ]
    },
    {
     "data": {
      "text/plain": "<ExitCode.OK: 0>"
     },
     "execution_count": 5,
     "metadata": {},
     "output_type": "execute_result"
    },
    {
     "name": "stdout",
     "output_type": "stream",
     "text": [
      "\u001B[1m======================================= test session starts ========================================\u001B[0m\n",
      "platform darwin -- Python 3.11.0, pytest-7.4.0, pluggy-1.2.0 -- /Users/federicomoreno/personal/trackmov/UCEMA_2023/bin/python\n",
      "cachedir: .pytest_cache\n",
      "rootdir: /Users/federicomoreno/personal/UCEMA_2023/part-1/clase1/05-Anagrama\n",
      "plugins: anyio-3.6.2\n",
      "\u001B[1mcollecting ... \u001B[0mcollected 3 items\n",
      "\n",
      "t_ba2113df156f4df983111898a4b3ea36.py::TestValidAnagram::test_valid_anagram1 \u001B[32mPASSED\u001B[0m\u001B[32m          [ 33%]\u001B[0m\n",
      "t_ba2113df156f4df983111898a4b3ea36.py::TestValidAnagram::test_valid_anagram3 \u001B[32mPASSED\u001B[0m\u001B[32m          [ 66%]\u001B[0m\n",
      "t_ba2113df156f4df983111898a4b3ea36.py::TestValidAnagram::test_valid_anagram4 \u001B[32mPASSED\u001B[0m\u001B[32m          [100%]\u001B[0m\n",
      "\n",
      "\u001B[32m======================================== \u001B[32m\u001B[1m3 passed\u001B[0m\u001B[32m in 0.05s\u001B[0m\u001B[32m =========================================\u001B[0m\n"
     ]
    },
    {
     "data": {
      "text/plain": "<ExitCode.OK: 0>"
     },
     "execution_count": 8,
     "metadata": {},
     "output_type": "execute_result"
    }
   ],
   "source": [
    "import ipytest\n",
    "from test_anagram.test_anagram import TestValidAnagram\n",
    "TestValidAnagram.validaranagrama = validaranagrama\n",
    "ipytest.run(\"-vv\")"
   ],
   "metadata": {
    "collapsed": false,
    "ExecuteTime": {
     "start_time": "2023-07-24T14:15:21.790580Z",
     "end_time": "2023-07-24T14:15:22.207585Z"
    }
   }
  },
  {
   "cell_type": "code",
   "execution_count": null,
   "outputs": [],
   "source": [],
   "metadata": {
    "collapsed": false
   }
  }
 ],
 "metadata": {
  "kernelspec": {
   "display_name": "Python 3",
   "language": "python",
   "name": "python3"
  },
  "language_info": {
   "codemirror_mode": {
    "name": "ipython",
    "version": 2
   },
   "file_extension": ".py",
   "mimetype": "text/x-python",
   "name": "python",
   "nbconvert_exporter": "python",
   "pygments_lexer": "ipython2",
   "version": "2.7.6"
  }
 },
 "nbformat": 4,
 "nbformat_minor": 0
}
