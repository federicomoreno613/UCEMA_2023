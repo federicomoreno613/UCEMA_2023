{
 "cells": [
  {
   "cell_type": "markdown",
   "source": [
    "# Buscar índice de pivote\n",
    "\n",
    "Dada una matriz de números enteros, calcule el índice pivote de esta matriz.\n",
    "\n",
    "El índice pivote es el índice donde la suma de todos los números estrictamente a la izquierda del índice es igual a la suma de todos los números estrictamente a la derecha del índice.\n",
    "\n",
    "Si el índice está en el borde izquierdo de la matriz, entonces la suma de la izquierda es 0 porque no hay elementos a la izquierda. Esto también se aplica al borde derecho de la matriz.\n",
    "\n",
    "Devuelve el índice pivote más a la izquierda. Si no existe tal índice, devuelve -1.\n",
    "\n",
    "\n",
    "\n",
    "Ejemplo 1:\n",
    "\n",
    "Entrada: números = [1,7,3,6,5,6]\n",
    "Salida: 3\n",
    "Explicación:\n",
    "El índice de pivote es 3.\n",
    "Suma izquierda = nums[0] + nums[1] + nums[2] = 1 + 7 + 3 = 11\n",
    "Suma derecha = nums[4] + nums[5] = 5 + 6 = 11\n",
    "Ejemplo 2:\n",
    "\n",
    "Entrada: números = [1,2,3]\n",
    "Salida: -1\n",
    "Explicación:\n",
    "No existe un índice que satisfaga las condiciones del enunciado del problema.\n",
    "Ejemplo 3:\n",
    "\n",
    "Entrada: números = [2,1,-1]\n",
    "Salida: 0\n",
    "Explicación:\n",
    "El índice de pivote es 0.\n",
    "Suma izquierda = 0 (sin elementos a la izquierda del índice 0)\n",
    "Suma derecha = nums[1] + nums[2] = 1 + -1 = 0\n"
   ],
   "metadata": {
    "collapsed": false,
    "pycharm": {
     "name": "#%% md\n"
    }
   }
  },
  {
   "cell_type": "code",
   "execution_count": 1,
   "outputs": [],
   "source": [
    "from typing import List\n",
    "\n",
    "def pivotIndex(nums: List[int]) -> int:\n",
    "    total = sum(nums)  # O(n)\n",
    "\n",
    "    leftSum = 0\n",
    "    for i in range(len(nums)):\n",
    "        rightSum = total - nums[i] - leftSum\n",
    "        if leftSum == rightSum:\n",
    "            return i\n",
    "        leftSum += nums[i]\n",
    "    return -1\n",
    "\n"
   ],
   "metadata": {
    "collapsed": false,
    "ExecuteTime": {
     "start_time": "2023-07-24T14:15:21.302202Z",
     "end_time": "2023-07-24T14:15:21.809100Z"
    },
    "pycharm": {
     "name": "#%%\n"
    }
   }
  },
  {
   "cell_type": "code",
   "execution_count": 2,
   "outputs": [
    {
     "ename": "ImportError",
     "evalue": "cannot import name 'TestPivotIndex' from 'test_indice_pivot' (C:\\Users\\jduque\\Documents\\Personal\\UCEMA\\UCEMA_2023\\part-1\\clase1\\07 - Indice Pivot\\test_indice_pivot\\__init__.py)",
     "output_type": "error",
     "traceback": [
      "\u001B[1;31m---------------------------------------------------------------------------\u001B[0m",
      "\u001B[1;31mImportError\u001B[0m                               Traceback (most recent call last)",
      "Input \u001B[1;32mIn [2]\u001B[0m, in \u001B[0;36m<cell line: 2>\u001B[1;34m()\u001B[0m\n\u001B[0;32m      1\u001B[0m \u001B[38;5;28;01mimport\u001B[39;00m \u001B[38;5;21;01mipytest\u001B[39;00m\n\u001B[1;32m----> 2\u001B[0m \u001B[38;5;28;01mfrom\u001B[39;00m \u001B[38;5;21;01mtest_indice_pivot\u001B[39;00m \u001B[38;5;28;01mimport\u001B[39;00m TestPivotIndex\n\u001B[0;32m      3\u001B[0m TestPivotIndex\u001B[38;5;241m.\u001B[39mvalidar_indice \u001B[38;5;241m=\u001B[39m pivotIndex\n\u001B[0;32m      4\u001B[0m ipytest\u001B[38;5;241m.\u001B[39mrun(\u001B[38;5;124m\"\u001B[39m\u001B[38;5;124m-vv\u001B[39m\u001B[38;5;124m\"\u001B[39m)\n",
      "\u001B[1;31mImportError\u001B[0m: cannot import name 'TestPivotIndex' from 'test_indice_pivot' (C:\\Users\\jduque\\Documents\\Personal\\UCEMA\\UCEMA_2023\\part-1\\clase1\\07 - Indice Pivot\\test_indice_pivot\\__init__.py)"
     ]
    }
   ],
   "source": [
    "import ipytest\n",
    "from test_indice_pivot.test_indice_pivot import TestPivotIndex\n",
    "TestPivotIndex.validar_indice = pivotIndex\n",
    "ipytest.run(\"-vv\")"
   ],
   "metadata": {
    "collapsed": false,
    "ExecuteTime": {
     "start_time": "2023-07-24T14:15:21.790580Z",
     "end_time": "2023-07-24T14:15:22.207585Z"
    },
    "pycharm": {
     "name": "#%%\n"
    }
   }
  },
  {
   "cell_type": "code",
   "execution_count": null,
   "outputs": [],
   "source": [],
   "metadata": {
    "collapsed": false,
    "pycharm": {
     "name": "#%%\n"
    }
   }
  }
 ],
 "metadata": {
  "kernelspec": {
   "display_name": "Python 3",
   "language": "python",
   "name": "python3"
  },
  "language_info": {
   "codemirror_mode": {
    "name": "ipython",
    "version": 2
   },
   "file_extension": ".py",
   "mimetype": "text/x-python",
   "name": "python",
   "nbconvert_exporter": "python",
   "pygments_lexer": "ipython2",
   "version": "2.7.6"
  }
 },
 "nbformat": 4,
 "nbformat_minor": 0
}