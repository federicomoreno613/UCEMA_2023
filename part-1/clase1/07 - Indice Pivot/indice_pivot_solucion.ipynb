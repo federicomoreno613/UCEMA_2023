{
 "cells": [
  {
   "cell_type": "markdown",
   "source": [
    "# Buscar índice de pivote\n",
    "\n",
    "Dada una matriz de números enteros, calcule el índice pivote de esta matriz.\n",
    "\n",
    "El índice pivote es el índice donde la suma de todos los números estrictamente a la izquierda del índice es igual a la suma de todos los números estrictamente a la derecha del índice.\n",
    "\n",
    "Si el índice está en el borde izquierdo de la matriz, entonces la suma de la izquierda es 0 porque no hay elementos a la izquierda. Esto también se aplica al borde derecho de la matriz.\n",
    "\n",
    "Devuelve el índice pivote más a la izquierda. Si no existe tal índice, devuelve -1.\n",
    "\n",
    "\n",
    "\n",
    "Ejemplo 1:\n",
    "\n",
    "Entrada: números = [1,7,3,6,5,6]\n",
    "Salida: 3\n",
    "Explicación:\n",
    "El índice de pivote es 3.\n",
    "Suma izquierda = nums[0] + nums[1] + nums[2] = 1 + 7 + 3 = 11\n",
    "Suma derecha = nums[4] + nums[5] = 5 + 6 = 11\n",
    "Ejemplo 2:\n",
    "\n",
    "Entrada: números = [1,2,3]\n",
    "Salida: -1\n",
    "Explicación:\n",
    "No existe un índice que satisfaga las condiciones del enunciado del problema.\n",
    "Ejemplo 3:\n",
    "\n",
    "Entrada: números = [2,1,-1]\n",
    "Salida: 0\n",
    "Explicación:\n",
    "El índice de pivote es 0.\n",
    "Suma izquierda = 0 (sin elementos a la izquierda del índice 0)\n",
    "Suma derecha = nums[1] + nums[2] = 1 + -1 = 0\n"
   ],
   "metadata": {
    "collapsed": false,
    "pycharm": {
     "name": "#%% md\n"
    }
   }
  },
  {
   "cell_type": "code",
   "execution_count": 1,
   "outputs": [],
   "source": [
    "from typing import List\n",
    "\n",
    "def pivotIndex(nums: List[int]) -> int:\n",
    "    total = sum(nums)  # O(n)\n",
    "\n",
    "    leftSum = 0\n",
    "    for i in range(len(nums)):\n",
    "        rightSum = total - nums[i] - leftSum\n",
    "        if leftSum == rightSum:\n",
    "            return i\n",
    "        leftSum += nums[i]\n",
    "    return -1\n",
    "\n"
   ],
   "metadata": {
    "collapsed": false,
    "ExecuteTime": {
     "start_time": "2023-07-24T14:15:21.302202Z",
     "end_time": "2023-07-24T14:15:21.809100Z"
    },
    "pycharm": {
     "name": "#%%\n"
    }
   }
  },
  {
   "cell_type": "code",
   "execution_count": 3,
   "outputs": [
    {
     "name": "stdout",
     "output_type": "stream",
     "text": [
      "\u001B[1m======================================= test session starts =======================================\u001B[0m\n",
      "platform win32 -- Python 3.9.12, pytest-7.4.0, pluggy-1.2.0 -- C:\\Users\\jduque\\Anaconda3\\envs\\UCEMA\\python.exe\n",
      "cachedir: .pytest_cache\n",
      "rootdir: C:\\Users\\jduque\\Documents\\Personal\\UCEMA\\UCEMA_2023\\part-1\\clase1\\07 - Indice Pivot\n",
      "plugins: anyio-3.5.0\n",
      "\u001B[1mcollecting ... \u001B[0mcollected 4 items\n",
      "\n",
      "t_ec85b6d3c3954eab889d24e5d410c7c4.py::TestPivotIndex::test_pivot_index1 \u001B[32mPASSED\u001B[0m\u001B[32m              [ 25%]\u001B[0m\n",
      "t_ec85b6d3c3954eab889d24e5d410c7c4.py::TestPivotIndex::test_pivot_index2 \u001B[32mPASSED\u001B[0m\u001B[32m              [ 50%]\u001B[0m\n",
      "t_ec85b6d3c3954eab889d24e5d410c7c4.py::TestPivotIndex::test_pivot_index3 \u001B[32mPASSED\u001B[0m\u001B[32m              [ 75%]\u001B[0m\n",
      "t_ec85b6d3c3954eab889d24e5d410c7c4.py::TestPivotIndex::test_pivot_index4 \u001B[31mFAILED\u001B[0m\u001B[31m              [100%]\u001B[0m\n",
      "\n",
      "============================================ FAILURES =============================================\n",
      "\u001B[31m\u001B[1m________________________________ TestPivotIndex.test_pivot_index4 _________________________________\u001B[0m\n",
      "\n",
      "self = <test_indice_pivot.test_indice_pivot.TestPivotIndex testMethod=test_pivot_index4>\n",
      "\n",
      "    \u001B[94mdef\u001B[39;49;00m \u001B[92mtest_pivot_index4\u001B[39;49;00m(\u001B[96mself\u001B[39;49;00m):\n",
      ">       \u001B[96mself\u001B[39;49;00m.assertEqual(TestPivotIndex.validar_indice([\u001B[94m5\u001B[39;49;00m, \u001B[94m2\u001B[39;49;00m, \u001B[94m6\u001B[39;49;00m, \u001B[94m7\u001B[39;49;00m, \u001B[94m1\u001B[39;49;00m, \u001B[94m8\u001B[39;49;00m, \u001B[94m3\u001B[39;49;00m]), \u001B[94m3\u001B[39;49;00m)\n",
      "\u001B[1m\u001B[31mE       AssertionError: -1 != 3\u001B[0m\n",
      "\n",
      "\u001B[1m\u001B[31mtest_indice_pivot\\test_indice_pivot.py\u001B[0m:21: AssertionError\n",
      "\u001B[36m\u001B[1m===================================== short test summary info =====================================\u001B[0m\n",
      "\u001B[31mFAILED\u001B[0m t_ec85b6d3c3954eab889d24e5d410c7c4.py::\u001B[1mTestPivotIndex::test_pivot_index4\u001B[0m - AssertionError: -1 != 3\n",
      "\u001B[31m=================================== \u001B[31m\u001B[1m1 failed\u001B[0m, \u001B[32m3 passed\u001B[0m\u001B[31m in 0.49s\u001B[0m\u001B[31m ===================================\u001B[0m\n"
     ]
    },
    {
     "data": {
      "text/plain": "<ExitCode.TESTS_FAILED: 1>"
     },
     "execution_count": 3,
     "metadata": {},
     "output_type": "execute_result"
    }
   ],
   "source": [
    "import ipytest\n",
    "from test_indice_pivot.test_indice_pivot import TestPivotIndex\n",
    "TestPivotIndex.validar_indice = pivotIndex\n",
    "ipytest.run(\"-vv\")"
   ],
   "metadata": {
    "collapsed": false,
    "ExecuteTime": {
     "start_time": "2023-07-24T14:15:21.790580Z",
     "end_time": "2023-07-24T14:15:22.207585Z"
    },
    "pycharm": {
     "name": "#%%\n"
    }
   }
  },
  {
   "cell_type": "code",
   "execution_count": null,
   "outputs": [],
   "source": [],
   "metadata": {
    "collapsed": false,
    "pycharm": {
     "name": "#%%\n"
    }
   }
  }
 ],
 "metadata": {
  "kernelspec": {
   "display_name": "Python 3",
   "language": "python",
   "name": "python3"
  },
  "language_info": {
   "codemirror_mode": {
    "name": "ipython",
    "version": 2
   },
   "file_extension": ".py",
   "mimetype": "text/x-python",
   "name": "python",
   "nbconvert_exporter": "python",
   "pygments_lexer": "ipython2",
   "version": "2.7.6"
  }
 },
 "nbformat": 4,
 "nbformat_minor": 0
}