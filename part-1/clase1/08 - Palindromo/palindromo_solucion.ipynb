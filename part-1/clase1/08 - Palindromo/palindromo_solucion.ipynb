{
 "cells": [
  {
   "cell_type": "code",
   "execution_count": null,
   "outputs": [],
   "source": [
    "!git clone https://github.com/federicomoreno613/UCEMA_2023.git\n",
    "!pip install ipytest\n",
    "import os\n",
    "os.chdir('UCEMA_2023/part-1/clase1/08 - Palindromo')"
   ],
   "metadata": {
    "collapsed": false,
    "pycharm": {
     "name": "#%%\n"
    }
   }
  },
  {
   "cell_type": "markdown",
   "source": [
    "# Subsecuencias palindrómicas de longitud única-3\n",
    "\n",
    "Dada una cadena s, devuelve el número de palíndromos únicos de longitud tres que son una subsecuencia de s.\n",
    "\n",
    "Tenga en cuenta que incluso si hay varias formas de obtener la misma subsecuencia, solo se cuenta una vez.\n",
    "\n",
    "Un palíndromo es una cadena que se lee igual hacia adelante y hacia atrás.\n",
    "\n",
    "Una subsecuencia de una cadena es una nueva cadena generada a partir de la cadena original con algunos caracteres (puede no ser ninguno) eliminados sin cambiar el orden relativo de los caracteres restantes.\n",
    "\n",
    "Por ejemplo, \"ace\" es una subsecuencia de \"abcde\".\n",
    "\n",
    "## Ejemplo 1:\n",
    "\n",
    "Entrada: s = \"aabca\"\n",
    "Salida: 3\n",
    "Explicación: Las 3 subsecuencias palindrómicas de longitud 3 son:\n",
    "- \"aba\" (secuencia de \"aabca\")\n",
    "- \"aaa\" (secuencia de \"aabca\")\n",
    "- \"aca\" (secuencia de \"aabca\")\n",
    "\n",
    "## Ejemplo 2:\n",
    "\n",
    "Entrada: s = \"adc\"\n",
    "Salida: 0\n",
    "Explicación: No hay subsecuencias palindrómicas de longitud 3 en \"adc\".\n",
    "\n",
    "## Ejemplo 3:\n",
    "\n",
    "Entrada: s = \"bbcbaba\"\n",
    "Salida: 4\n",
    "Explicación: Las 4 subsecuencias palindrómicas de longitud 3 son:\n",
    "- \"bbb\" (secuencia de \"bbcbaba\")\n",
    "- \"bcb\" (secuencia de \"bbcbaba\")\n",
    "- \"bab\" (secuencia de \"bbcbaba\")\n",
    "- \"aba\" (secuencia de \"bbcbaba\")\n",
    "\n",
    "\n",
    "## Restricciones:\n",
    "\n",
    "3 <= s.longitud <= 105\n",
    "s consta solo de letras minúsculas\n"
   ],
   "metadata": {
    "collapsed": false,
    "pycharm": {
     "name": "#%% md\n"
    }
   }
  },
  {
   "cell_type": "code",
   "execution_count": 5,
   "outputs": [],
   "source": [
    "\n",
    "def palindromo_string(s: str) -> int:\n",
    "    count = 0\n",
    "    chars = set(s)\n",
    "    for char in chars:\n",
    "        first,last = s.find(char),s.rfind(char)\n",
    "        count += len(set(s[first+1:last]))\n",
    "    return count\n"
   ],
   "metadata": {
    "collapsed": false,
    "pycharm": {
     "name": "#%%\n"
    },
    "ExecuteTime": {
     "end_time": "2023-08-02T22:28:12.809420900Z",
     "start_time": "2023-08-02T22:28:12.793689100Z"
    }
   }
  },
  {
   "cell_type": "code",
   "execution_count": 7,
   "outputs": [
    {
     "name": "stdout",
     "output_type": "stream",
     "text": [
      "\u001B[1m======================================= test session starts =======================================\u001B[0m\n",
      "platform win32 -- Python 3.9.12, pytest-7.4.0, pluggy-1.2.0 -- C:\\Users\\jduque\\Anaconda3\\envs\\UCEMA\\python.exe\n",
      "cachedir: .pytest_cache\n",
      "rootdir: C:\\Users\\jduque\\Documents\\Personal\\UCEMA\\UCEMA_2023\\part-1\\clase1\\08 - Palindromo\n",
      "plugins: anyio-3.5.0\n",
      "\u001B[1mcollecting ... \u001B[0mcollected 3 items\n",
      "\n",
      "t_8a61f7c27f9343098b2c4fa93f7ad038.py::TestPalindromoString::test_palindromo_string1 \u001B[32mPASSED\u001B[0m\u001B[32m  [ 33%]\u001B[0m\n",
      "t_8a61f7c27f9343098b2c4fa93f7ad038.py::TestPalindromoString::test_palindromo_string2 \u001B[31mFAILED\u001B[0m\u001B[31m  [ 66%]\u001B[0m\n",
      "t_8a61f7c27f9343098b2c4fa93f7ad038.py::TestPalindromoString::test_palindromo_string3 \u001B[31mFAILED\u001B[0m\u001B[31m  [100%]\u001B[0m\n",
      "\n",
      "============================================ FAILURES =============================================\n",
      "\u001B[31m\u001B[1m__________________________ TestPalindromoString.test_palindromo_string2 ___________________________\u001B[0m\n",
      "\n",
      "self = <test_palindromo.test_palindromo.TestPalindromoString testMethod=test_palindromo_string2>\n",
      "\n",
      "    \u001B[94mdef\u001B[39;49;00m \u001B[92mtest_palindromo_string2\u001B[39;49;00m(\u001B[96mself\u001B[39;49;00m):\n",
      ">       \u001B[96mself\u001B[39;49;00m.assertEqual(TestPalindromoString.validar_palindromo_string(\u001B[33m\"\u001B[39;49;00m\u001B[33mabcdabcdabcd\u001B[39;49;00m\u001B[33m\"\u001B[39;49;00m), \u001B[94m10\u001B[39;49;00m)\n",
      "\u001B[1m\u001B[31mE       AssertionError: 16 != 10\u001B[0m\n",
      "\n",
      "\u001B[1m\u001B[31mtest_palindromo\\test_palindromo.py\u001B[0m:15: AssertionError\n",
      "\u001B[31m\u001B[1m__________________________ TestPalindromoString.test_palindromo_string3 ___________________________\u001B[0m\n",
      "\n",
      "self = <test_palindromo.test_palindromo.TestPalindromoString testMethod=test_palindromo_string3>\n",
      "\n",
      "    \u001B[94mdef\u001B[39;49;00m \u001B[92mtest_palindromo_string3\u001B[39;49;00m(\u001B[96mself\u001B[39;49;00m):\n",
      ">       \u001B[96mself\u001B[39;49;00m.assertEqual(TestPalindromoString.validar_palindromo_string(\u001B[33m\"\u001B[39;49;00m\u001B[33maabb\u001B[39;49;00m\u001B[33m\"\u001B[39;49;00m), \u001B[94m4\u001B[39;49;00m)\n",
      "\u001B[1m\u001B[31mE       AssertionError: 0 != 4\u001B[0m\n",
      "\n",
      "\u001B[1m\u001B[31mtest_palindromo\\test_palindromo.py\u001B[0m:18: AssertionError\n",
      "\u001B[36m\u001B[1m===================================== short test summary info =====================================\u001B[0m\n",
      "\u001B[31mFAILED\u001B[0m t_8a61f7c27f9343098b2c4fa93f7ad038.py::\u001B[1mTestPalindromoString::test_palindromo_string2\u001B[0m - AssertionError: 16 != 10\n",
      "\u001B[31mFAILED\u001B[0m t_8a61f7c27f9343098b2c4fa93f7ad038.py::\u001B[1mTestPalindromoString::test_palindromo_string3\u001B[0m - AssertionError: 0 != 4\n",
      "\u001B[31m=================================== \u001B[31m\u001B[1m2 failed\u001B[0m, \u001B[32m1 passed\u001B[0m\u001B[31m in 0.09s\u001B[0m\u001B[31m ===================================\u001B[0m\n"
     ]
    },
    {
     "data": {
      "text/plain": "<ExitCode.TESTS_FAILED: 1>"
     },
     "execution_count": 7,
     "metadata": {},
     "output_type": "execute_result"
    }
   ],
   "source": [
    "import ipytest\n",
    "from test_palindromo.test_palindromo import TestPalindromoString\n",
    "TestPalindromoString.validar_palindromo_string = palindromo_string\n",
    "ipytest.run(\"-vv\")"
   ],
   "metadata": {
    "collapsed": false,
    "pycharm": {
     "name": "#%%\n"
    },
    "ExecuteTime": {
     "end_time": "2023-08-02T22:28:12.954833700Z",
     "start_time": "2023-08-02T22:28:12.809420900Z"
    }
   }
  },
  {
   "cell_type": "code",
   "execution_count": 2,
   "outputs": [],
   "source": [],
   "metadata": {
    "collapsed": false,
    "pycharm": {
     "name": "#%%\n"
    },
    "ExecuteTime": {
     "end_time": "2023-08-02T22:28:13.001761900Z",
     "start_time": "2023-08-02T22:28:12.954833700Z"
    }
   }
  }
 ],
 "metadata": {
  "kernelspec": {
   "display_name": "Python 3",
   "language": "python",
   "name": "python3"
  },
  "language_info": {
   "codemirror_mode": {
    "name": "ipython",
    "version": 2
   },
   "file_extension": ".py",
   "mimetype": "text/x-python",
   "name": "python",
   "nbconvert_exporter": "python",
   "pygments_lexer": "ipython2",
   "version": "2.7.6"
  }
 },
 "nbformat": 4,
 "nbformat_minor": 0
}