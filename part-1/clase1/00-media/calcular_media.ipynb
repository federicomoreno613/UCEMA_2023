{
 "cells": [
  {
   "cell_type": "markdown",
   "source": [
    "# Calcular la media\n",
    "Dado un arreglo de números, la función calculate_mean debe devolver la media de esos números.\n",
    "\n",
    "Ejemplo 1:\n",
    "Entrada: arr = [1,2,3,4,5]\n",
    "Salida: 3.0\n",
    "\n",
    "Ejemplo 2:\n",
    "Entrada: arr = [1,2,3,4,10]\n",
    "Salida: 4.0\n",
    "\n",
    "Ejemplo 3:\n",
    "Entrada: arr = [-1,0,1]\n",
    "Salida: 0.0\n",
    "\n",
    "Restricciones:\n",
    "1 <= arr.length <= 105\n",
    "-109 <= arr[i] <= 109"
   ],
   "metadata": {
    "collapsed": false
   }
  },
  {
   "cell_type": "code",
   "execution_count": 2,
   "outputs": [],
   "source": [
    "def calculate_mean(arr):\n",
    "    ''' calcula la media de una array sin usar librerias'''\n",
    "    return sum(arr)/len(arr)"
   ],
   "metadata": {
    "collapsed": false,
    "ExecuteTime": {
     "start_time": "2023-07-18T16:16:02.632948Z",
     "end_time": "2023-07-18T16:16:02.639759Z"
    }
   }
  },
  {
   "cell_type": "code",
   "execution_count": 3,
   "outputs": [
    {
     "name": "stdout",
     "output_type": "stream",
     "text": [
      "\u001B[1m======================================= test session starts ========================================\u001B[0m\n",
      "platform darwin -- Python 3.11.0, pytest-7.4.0, pluggy-1.2.0 -- /Users/federicomoreno/personal/trackmov/UCEMA_2023/bin/python\n",
      "cachedir: .pytest_cache\n",
      "rootdir: /Users/federicomoreno/personal/UCEMA_2023/part-1/lesson1/00-media\n",
      "plugins: anyio-3.6.2\n",
      "\u001B[1mcollecting ... \u001B[0mcollected 3 items\n",
      "\n",
      "t_986b0315cb0c4f1e9dbf7c4984399f92.py::TestCalculateMean::test_calculate_mean1 \u001B[31mFAILED\u001B[0m\u001B[31m        [ 33%]\u001B[0m\n",
      "t_986b0315cb0c4f1e9dbf7c4984399f92.py::TestCalculateMean::test_calculate_mean2 \u001B[31mFAILED\u001B[0m\u001B[31m        [ 66%]\u001B[0m\n",
      "t_986b0315cb0c4f1e9dbf7c4984399f92.py::TestCalculateMean::test_calculate_mean3 \u001B[31mFAILED\u001B[0m\u001B[31m        [100%]\u001B[0m\n",
      "\n",
      "============================================= FAILURES =============================================\n",
      "\u001B[31m\u001B[1m______________________________ TestCalculateMean.test_calculate_mean1 ______________________________\u001B[0m\n",
      "\n",
      "self = <test_mean.test_media.TestCalculateMean testMethod=test_calculate_mean1>\n",
      "\n",
      "    \u001B[94mdef\u001B[39;49;00m \u001B[92mtest_calculate_mean1\u001B[39;49;00m(\u001B[96mself\u001B[39;49;00m):\u001B[90m\u001B[39;49;00m\n",
      ">       \u001B[96mself\u001B[39;49;00m.assertEqual(TestCalculateMean.calculate_mean([\u001B[94m1\u001B[39;49;00m, \u001B[94m2\u001B[39;49;00m, \u001B[94m3\u001B[39;49;00m, \u001B[94m4\u001B[39;49;00m, \u001B[94m5\u001B[39;49;00m]), \u001B[94m3.0\u001B[39;49;00m)\u001B[90m\u001B[39;49;00m\n",
      "\u001B[1m\u001B[31mE       TypeError: attribute name must be string, not 'list'\u001B[0m\n",
      "\n",
      "\u001B[1m\u001B[31mtest_mean/test_media.py\u001B[0m:16: TypeError\n",
      "\u001B[31m\u001B[1m______________________________ TestCalculateMean.test_calculate_mean2 ______________________________\u001B[0m\n",
      "\n",
      "self = <test_mean.test_media.TestCalculateMean testMethod=test_calculate_mean2>\n",
      "\n",
      "    \u001B[94mdef\u001B[39;49;00m \u001B[92mtest_calculate_mean2\u001B[39;49;00m(\u001B[96mself\u001B[39;49;00m):\u001B[90m\u001B[39;49;00m\n",
      ">       \u001B[96mself\u001B[39;49;00m.assertEqual(TestCalculateMean.calculate_mean([\u001B[94m1\u001B[39;49;00m, \u001B[94m2\u001B[39;49;00m, \u001B[94m3\u001B[39;49;00m, \u001B[94m4\u001B[39;49;00m, \u001B[94m10\u001B[39;49;00m]), \u001B[94m4.0\u001B[39;49;00m)\u001B[90m\u001B[39;49;00m\n",
      "\u001B[1m\u001B[31mE       TypeError: attribute name must be string, not 'list'\u001B[0m\n",
      "\n",
      "\u001B[1m\u001B[31mtest_mean/test_media.py\u001B[0m:19: TypeError\n",
      "\u001B[31m\u001B[1m______________________________ TestCalculateMean.test_calculate_mean3 ______________________________\u001B[0m\n",
      "\n",
      "self = <test_mean.test_media.TestCalculateMean testMethod=test_calculate_mean3>\n",
      "\n",
      "    \u001B[94mdef\u001B[39;49;00m \u001B[92mtest_calculate_mean3\u001B[39;49;00m(\u001B[96mself\u001B[39;49;00m):\u001B[90m\u001B[39;49;00m\n",
      ">       \u001B[96mself\u001B[39;49;00m.assertEqual(TestCalculateMean.calculate_mean([-\u001B[94m1\u001B[39;49;00m, \u001B[94m0\u001B[39;49;00m, \u001B[94m1\u001B[39;49;00m]), \u001B[94m0.0\u001B[39;49;00m)\u001B[90m\u001B[39;49;00m\n",
      "\u001B[1m\u001B[31mE       TypeError: attribute name must be string, not 'list'\u001B[0m\n",
      "\n",
      "\u001B[1m\u001B[31mtest_mean/test_media.py\u001B[0m:22: TypeError\n",
      "\u001B[36m\u001B[1m===================================== short test summary info ======================================\u001B[0m\n",
      "\u001B[31mFAILED\u001B[0m t_986b0315cb0c4f1e9dbf7c4984399f92.py::\u001B[1mTestCalculateMean::test_calculate_mean1\u001B[0m - TypeError: attribute name must be string, not 'list'\n",
      "\u001B[31mFAILED\u001B[0m t_986b0315cb0c4f1e9dbf7c4984399f92.py::\u001B[1mTestCalculateMean::test_calculate_mean2\u001B[0m - TypeError: attribute name must be string, not 'list'\n",
      "\u001B[31mFAILED\u001B[0m t_986b0315cb0c4f1e9dbf7c4984399f92.py::\u001B[1mTestCalculateMean::test_calculate_mean3\u001B[0m - TypeError: attribute name must be string, not 'list'\n",
      "\u001B[31m======================================== \u001B[31m\u001B[1m3 failed\u001B[0m\u001B[31m in 0.25s\u001B[0m\u001B[31m =========================================\u001B[0m\n"
     ]
    },
    {
     "data": {
      "text/plain": "<ExitCode.TESTS_FAILED: 1>"
     },
     "execution_count": 3,
     "metadata": {},
     "output_type": "execute_result"
    }
   ],
   "source": [
    "\n",
    "import ipytest\n",
    "from test_mean.test_media import TestCalculateMean\n",
    "\n",
    "TestCalculateMean.calculate_mean = TestCalculateMean\n",
    "ipytest.run(\"-vv\")"
   ],
   "metadata": {
    "collapsed": false,
    "ExecuteTime": {
     "start_time": "2023-07-18T16:16:03.197215Z",
     "end_time": "2023-07-18T16:16:04.065561Z"
    }
   }
  },
  {
   "cell_type": "code",
   "execution_count": null,
   "outputs": [],
   "source": [],
   "metadata": {
    "collapsed": false
   }
  }
 ],
 "metadata": {
  "kernelspec": {
   "display_name": "Python 3",
   "language": "python",
   "name": "python3"
  },
  "language_info": {
   "codemirror_mode": {
    "name": "ipython",
    "version": 2
   },
   "file_extension": ".py",
   "mimetype": "text/x-python",
   "name": "python",
   "nbconvert_exporter": "python",
   "pygments_lexer": "ipython2",
   "version": "2.7.6"
  }
 },
 "nbformat": 4,
 "nbformat_minor": 0
}
