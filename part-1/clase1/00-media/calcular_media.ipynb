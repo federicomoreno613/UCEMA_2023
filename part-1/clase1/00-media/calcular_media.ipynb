{
 "cells": [
  {
   "cell_type": "markdown",
   "source": [
    "# Calcular la media\n",
    "Dado un arreglo de números, la función calculate_mean debe devolver la media de esos números.\n",
    "\n",
    "Ejemplo 1:\n",
    "Entrada: arr = [1,2,3,4,5]\n",
    "Salida: 3.0\n",
    "\n",
    "Ejemplo 2:\n",
    "Entrada: arr = [1,2,3,4,10]\n",
    "Salida: 4.0\n",
    "\n",
    "Ejemplo 3:\n",
    "Entrada: arr = [-1,0,1]\n",
    "Salida: 0.0\n",
    "\n",
    "Restricciones:\n",
    "1 <= arr.length <= 105\n",
    "-109 <= arr[i] <= 109"
   ],
   "metadata": {
    "collapsed": false
   }
  },
  {
   "cell_type": "code",
   "execution_count": 1,
   "outputs": [],
   "source": [
    "def calculate_mean(arr):\n",
    "    ''' calcula la media de una array sin usar librerias'''\n",
    "    pass"
   ],
   "metadata": {
    "collapsed": false,
    "ExecuteTime": {
     "end_time": "2023-08-02T12:52:32.211797200Z",
     "start_time": "2023-08-02T12:52:32.201413300Z"
    }
   }
  },
  {
   "cell_type": "code",
   "execution_count": 2,
   "outputs": [
    {
     "name": "stdout",
     "output_type": "stream",
     "text": [
      "\u001B[1m======================================= test session starts =======================================\u001B[0m\n",
      "platform win32 -- Python 3.9.13, pytest-7.4.0, pluggy-1.2.0 -- C:\\Users\\Admin\\PycharmProjects\\UCEMA_2023\\venv\\Scripts\\python.exe\n",
      "cachedir: .pytest_cache\n",
      "rootdir: C:\\Users\\Admin\\PycharmProjects\\UCEMA_2023\\part-1\\clase1\\00-media\n",
      "plugins: anyio-3.7.1\n",
      "\u001B[1mcollecting ... \u001B[0mcollected 3 items\n",
      "\n",
      "t_1ffc30b009bb461ebac6a3a727a01942.py::TestCalculateMean::test_calculo_101 \u001B[32mPASSED\u001B[0m\u001B[32m            [ 33%]\u001B[0m\n",
      "t_1ffc30b009bb461ebac6a3a727a01942.py::TestCalculateMean::test_calculo_123410 \u001B[32mPASSED\u001B[0m\u001B[32m         [ 66%]\u001B[0m\n",
      "t_1ffc30b009bb461ebac6a3a727a01942.py::TestCalculateMean::test_calculo_12345 \u001B[32mPASSED\u001B[0m\u001B[32m          [100%]\u001B[0m\n",
      "\n",
      "\u001B[32m======================================== \u001B[32m\u001B[1m3 passed\u001B[0m\u001B[32m in 0.02s\u001B[0m\u001B[32m ========================================\u001B[0m\n"
     ]
    },
    {
     "data": {
      "text/plain": "<ExitCode.OK: 0>"
     },
     "execution_count": 2,
     "metadata": {},
     "output_type": "execute_result"
    }
   ],
   "source": [
    "\n",
    "import ipytest\n",
    "from test_mean.test_media import TestCalculateMean\n",
    "\n",
    "TestCalculateMean.calculate_mean = calculate_mean\n",
    "ipytest.run(\"-vv\")"
   ],
   "metadata": {
    "collapsed": false,
    "ExecuteTime": {
     "end_time": "2023-08-02T12:52:32.479024600Z",
     "start_time": "2023-08-02T12:52:32.214735500Z"
    }
   }
  },
  {
   "cell_type": "code",
   "execution_count": 2,
   "outputs": [],
   "source": [],
   "metadata": {
    "collapsed": false,
    "ExecuteTime": {
     "end_time": "2023-08-02T12:41:44.520603900Z",
     "start_time": "2023-08-02T12:41:44.489374Z"
    }
   }
  }
 ],
 "metadata": {
  "kernelspec": {
   "display_name": "Python 3",
   "language": "python",
   "name": "python3"
  },
  "language_info": {
   "codemirror_mode": {
    "name": "ipython",
    "version": 2
   },
   "file_extension": ".py",
   "mimetype": "text/x-python",
   "name": "python",
   "nbconvert_exporter": "python",
   "pygments_lexer": "ipython2",
   "version": "2.7.6"
  }
 },
 "nbformat": 4,
 "nbformat_minor": 0
}
