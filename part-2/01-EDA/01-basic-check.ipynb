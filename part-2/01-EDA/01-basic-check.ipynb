{
 "cells": [
  {
   "cell_type": "markdown",
   "source": [
    "1. Leer dataframe\n",
    "2. shape\n",
    "3. head\n",
    "4. tail\n",
    "5. nombre de columnas\n",
    "6. tipo de datos de las columnas\n",
    "7. cantidad de missing values df.isna().sum()/len(df)\n",
    "\n",
    "\n",
    "Preguntas a reponder +4:\n",
    "1. ¿las tiburones matan màs a gente mayor?\n"
   ],
   "metadata": {
    "collapsed": false
   },
   "id": "dcd25b1accd2b1fe"
  },
  {
   "cell_type": "code",
   "execution_count": null,
   "outputs": [],
   "source": [],
   "metadata": {
    "collapsed": false
   },
   "id": "3c3bc0cffd3b10e4"
  },
  {
   "cell_type": "code",
   "execution_count": null,
   "outputs": [],
   "source": [],
   "metadata": {
    "collapsed": false
   },
   "id": "900a63cf0677befb"
  },
  {
   "cell_type": "code",
   "execution_count": 3,
   "outputs": [],
   "source": [
    "import pandas as pd\n",
    "import numpy as np\n",
    "import matplotlib.pyplot as plt"
   ],
   "metadata": {
    "collapsed": false,
    "ExecuteTime": {
     "end_time": "2023-08-24T10:12:28.595208300Z",
     "start_time": "2023-08-24T10:12:27.653830300Z"
    }
   },
   "id": "c5030e29f257d24"
  },
  {
   "cell_type": "markdown",
   "source": [
    "La idea de esta notebook es cargar data de kaggle. Hacernos las preguntas típicas de exploración de datos y responderlas con gráficos.\n",
    "* Determinar si hay problemas en el dataset (Contrato de datos)\n",
    "* Determinar si las preguntas que tenemos pueden\n",
    "* Desarrollar una respuesta, hacer nuevas preguntas o refinar las que tenemos.\n",
    "Dataset attrack puede ser descargado de [aquí](https://www.kaggle.com/teajay/global-shark-attacks/version/1)"
   ],
   "metadata": {
    "collapsed": false
   },
   "id": "e5063a5763f09a5b"
  },
  {
   "cell_type": "code",
   "execution_count": 5,
   "outputs": [],
   "source": [
    "# Load data\n",
    "df = pd.read_csv(\"attracks.csv\", encoding=\"latin-1\")"
   ],
   "metadata": {
    "collapsed": false,
    "ExecuteTime": {
     "end_time": "2023-08-24T10:12:34.915704700Z",
     "start_time": "2023-08-24T10:12:34.875609400Z"
    }
   },
   "id": "b743dcd276df54f4"
  },
  {
   "cell_type": "code",
   "execution_count": 6,
   "outputs": [
    {
     "data": {
      "text/plain": "    Case Number       Date  Year        Type    Country      Area  \\\n0  2016.09.18.c  18-Sep-16  2016  Unprovoked        USA   Florida   \n1  2016.09.18.b  18-Sep-16  2016  Unprovoked        USA   Florida   \n2  2016.09.18.a  18-Sep-16  2016  Unprovoked        USA   Florida   \n3    2016.09.17  17-Sep-16  2016  Unprovoked  AUSTRALIA  Victoria   \n4    2016.09.15  16-Sep-16  2016  Unprovoked  AUSTRALIA  Victoria   \n\n                           Location Activity             Name Sex   ...  \\\n0  New Smyrna Beach, Volusia County  Surfing             male    M  ...   \n1  New Smyrna Beach, Volusia County  Surfing   Chucky Luciano    M  ...   \n2  New Smyrna Beach, Volusia County  Surfing             male    M  ...   \n3                  Thirteenth Beach  Surfing  Rory Angiolella    M  ...   \n4                       Bells Beach  Surfing             male    M  ...   \n\n    Species        Investigator or Source                        pdf  \\\n0        NaN  Orlando Sentinel, 9/19/2016       2016.09.18.c-NSB.pdf   \n1        NaN  Orlando Sentinel, 9/19/2016   2016.09.18.b-Luciano.pdf   \n2        NaN  Orlando Sentinel, 9/19/2016       2016.09.18.a-NSB.pdf   \n3        NaN           The Age, 9/18/2016  2016.09.17-Angiolella.pdf   \n4  2 m shark           The Age, 9/16/2016  2016.09.16-BellsBeach.pdf   \n\n                                        href formula  \\\n0  http://sharkattackfile.net/spreadsheets/pdf_di...   \n1  http://sharkattackfile.net/spreadsheets/pdf_di...   \n2  http://sharkattackfile.net/spreadsheets/pdf_di...   \n3  http://sharkattackfile.net/spreadsheets/pdf_di...   \n4  http://sharkattackfile.net/spreadsheets/pdf_di...   \n\n                                                href Case Number.1  \\\n0  http://sharkattackfile.net/spreadsheets/pdf_di...  2016.09.18.c   \n1  http://sharkattackfile.net/spreadsheets/pdf_di...  2016.09.18.b   \n2  http://sharkattackfile.net/spreadsheets/pdf_di...  2016.09.18.a   \n3  http://sharkattackfile.net/spreadsheets/pdf_di...    2016.09.17   \n4  http://sharkattackfile.net/spreadsheets/pdf_di...    2016.09.16   \n\n  Case Number.2 original order Unnamed: 22 Unnamed: 23  \n0  2016.09.18.c           5993         NaN         NaN  \n1  2016.09.18.b           5992         NaN         NaN  \n2  2016.09.18.a           5991         NaN         NaN  \n3    2016.09.17           5990         NaN         NaN  \n4    2016.09.15           5989         NaN         NaN  \n\n[5 rows x 24 columns]",
      "text/html": "<div>\n<style scoped>\n    .dataframe tbody tr th:only-of-type {\n        vertical-align: middle;\n    }\n\n    .dataframe tbody tr th {\n        vertical-align: top;\n    }\n\n    .dataframe thead th {\n        text-align: right;\n    }\n</style>\n<table border=\"1\" class=\"dataframe\">\n  <thead>\n    <tr style=\"text-align: right;\">\n      <th></th>\n      <th>Case Number</th>\n      <th>Date</th>\n      <th>Year</th>\n      <th>Type</th>\n      <th>Country</th>\n      <th>Area</th>\n      <th>Location</th>\n      <th>Activity</th>\n      <th>Name</th>\n      <th>Sex</th>\n      <th>...</th>\n      <th>Species</th>\n      <th>Investigator or Source</th>\n      <th>pdf</th>\n      <th>href formula</th>\n      <th>href</th>\n      <th>Case Number.1</th>\n      <th>Case Number.2</th>\n      <th>original order</th>\n      <th>Unnamed: 22</th>\n      <th>Unnamed: 23</th>\n    </tr>\n  </thead>\n  <tbody>\n    <tr>\n      <th>0</th>\n      <td>2016.09.18.c</td>\n      <td>18-Sep-16</td>\n      <td>2016</td>\n      <td>Unprovoked</td>\n      <td>USA</td>\n      <td>Florida</td>\n      <td>New Smyrna Beach, Volusia County</td>\n      <td>Surfing</td>\n      <td>male</td>\n      <td>M</td>\n      <td>...</td>\n      <td>NaN</td>\n      <td>Orlando Sentinel, 9/19/2016</td>\n      <td>2016.09.18.c-NSB.pdf</td>\n      <td>http://sharkattackfile.net/spreadsheets/pdf_di...</td>\n      <td>http://sharkattackfile.net/spreadsheets/pdf_di...</td>\n      <td>2016.09.18.c</td>\n      <td>2016.09.18.c</td>\n      <td>5993</td>\n      <td>NaN</td>\n      <td>NaN</td>\n    </tr>\n    <tr>\n      <th>1</th>\n      <td>2016.09.18.b</td>\n      <td>18-Sep-16</td>\n      <td>2016</td>\n      <td>Unprovoked</td>\n      <td>USA</td>\n      <td>Florida</td>\n      <td>New Smyrna Beach, Volusia County</td>\n      <td>Surfing</td>\n      <td>Chucky Luciano</td>\n      <td>M</td>\n      <td>...</td>\n      <td>NaN</td>\n      <td>Orlando Sentinel, 9/19/2016</td>\n      <td>2016.09.18.b-Luciano.pdf</td>\n      <td>http://sharkattackfile.net/spreadsheets/pdf_di...</td>\n      <td>http://sharkattackfile.net/spreadsheets/pdf_di...</td>\n      <td>2016.09.18.b</td>\n      <td>2016.09.18.b</td>\n      <td>5992</td>\n      <td>NaN</td>\n      <td>NaN</td>\n    </tr>\n    <tr>\n      <th>2</th>\n      <td>2016.09.18.a</td>\n      <td>18-Sep-16</td>\n      <td>2016</td>\n      <td>Unprovoked</td>\n      <td>USA</td>\n      <td>Florida</td>\n      <td>New Smyrna Beach, Volusia County</td>\n      <td>Surfing</td>\n      <td>male</td>\n      <td>M</td>\n      <td>...</td>\n      <td>NaN</td>\n      <td>Orlando Sentinel, 9/19/2016</td>\n      <td>2016.09.18.a-NSB.pdf</td>\n      <td>http://sharkattackfile.net/spreadsheets/pdf_di...</td>\n      <td>http://sharkattackfile.net/spreadsheets/pdf_di...</td>\n      <td>2016.09.18.a</td>\n      <td>2016.09.18.a</td>\n      <td>5991</td>\n      <td>NaN</td>\n      <td>NaN</td>\n    </tr>\n    <tr>\n      <th>3</th>\n      <td>2016.09.17</td>\n      <td>17-Sep-16</td>\n      <td>2016</td>\n      <td>Unprovoked</td>\n      <td>AUSTRALIA</td>\n      <td>Victoria</td>\n      <td>Thirteenth Beach</td>\n      <td>Surfing</td>\n      <td>Rory Angiolella</td>\n      <td>M</td>\n      <td>...</td>\n      <td>NaN</td>\n      <td>The Age, 9/18/2016</td>\n      <td>2016.09.17-Angiolella.pdf</td>\n      <td>http://sharkattackfile.net/spreadsheets/pdf_di...</td>\n      <td>http://sharkattackfile.net/spreadsheets/pdf_di...</td>\n      <td>2016.09.17</td>\n      <td>2016.09.17</td>\n      <td>5990</td>\n      <td>NaN</td>\n      <td>NaN</td>\n    </tr>\n    <tr>\n      <th>4</th>\n      <td>2016.09.15</td>\n      <td>16-Sep-16</td>\n      <td>2016</td>\n      <td>Unprovoked</td>\n      <td>AUSTRALIA</td>\n      <td>Victoria</td>\n      <td>Bells Beach</td>\n      <td>Surfing</td>\n      <td>male</td>\n      <td>M</td>\n      <td>...</td>\n      <td>2 m shark</td>\n      <td>The Age, 9/16/2016</td>\n      <td>2016.09.16-BellsBeach.pdf</td>\n      <td>http://sharkattackfile.net/spreadsheets/pdf_di...</td>\n      <td>http://sharkattackfile.net/spreadsheets/pdf_di...</td>\n      <td>2016.09.16</td>\n      <td>2016.09.15</td>\n      <td>5989</td>\n      <td>NaN</td>\n      <td>NaN</td>\n    </tr>\n  </tbody>\n</table>\n<p>5 rows × 24 columns</p>\n</div>"
     },
     "execution_count": 6,
     "metadata": {},
     "output_type": "execute_result"
    }
   ],
   "source": [
    "\n",
    "# Display first 5 rows\n",
    "df.head()\n"
   ],
   "metadata": {
    "collapsed": false,
    "ExecuteTime": {
     "end_time": "2023-08-24T10:12:37.961129200Z",
     "start_time": "2023-08-24T10:12:37.919674400Z"
    }
   },
   "id": "1a0e0c98c44c96f2"
  },
  {
   "cell_type": "code",
   "execution_count": 7,
   "outputs": [
    {
     "data": {
      "text/plain": "     Case Number         Date  Year        Type             Country  \\\n5987     ND.0005  Before 1903     0  Unprovoked           AUSTRALIA   \n5988     ND.0004  Before 1903     0  Unprovoked           AUSTRALIA   \n5989     ND.0003    1900-1905     0  Unprovoked                 USA   \n5990     ND.0002    1883-1889     0  Unprovoked              PANAMA   \n5991     ND.0001    1845-1853     0  Unprovoked  CEYLON (SRI LANKA)   \n\n                   Area                             Location      Activity  \\\n5987  Western Australia                          Roebuck Bay        Diving   \n5988  Western Australia                                  NaN  Pearl diving   \n5989     North Carolina                       Ocracoke Inlet      Swimming   \n5990                NaN                 Panama Bay 8ºN, 79ºW           NaN   \n5991   Eastern Province  Below the English fort, Trincomalee      Swimming   \n\n                       Name Sex   ... Species   \\\n5987                   male    M  ...      NaN   \n5988                  Ahmun    M  ...      NaN   \n5989  Coast Guard personnel    M  ...      NaN   \n5990        Jules Patterson    M  ...      NaN   \n5991                   male    M  ...      NaN   \n\n                     Investigator or Source                             pdf  \\\n5987       H. Taunton; N. Bartlett,  p. 234          ND-0005-RoebuckBay.pdf   \n5988  H. Taunton; N. Bartlett,  pp. 233-234               ND-0004-Ahmun.pdf   \n5989   F. Schwartz, p.23; C. Creswell, GSAF  ND-0003-Ocracoke_1900-1905.pdf   \n5990                    The Sun, 10/20/1938      ND-0002-JulesPatterson.pdf   \n5991                             S.W. Baker              ND-0001-Ceylon.pdf   \n\n                                           href formula  \\\n5987  http://sharkattackfile.net/spreadsheets/pdf_di...   \n5988  http://sharkattackfile.net/spreadsheets/pdf_di...   \n5989  http://sharkattackfile.net/spreadsheets/pdf_di...   \n5990  http://sharkattackfile.net/spreadsheets/pdf_di...   \n5991  http://sharkattackfile.net/spreadsheets/pdf_di...   \n\n                                                   href Case Number.1  \\\n5987  http://sharkattackfile.net/spreadsheets/pdf_di...       ND.0005   \n5988  http://sharkattackfile.net/spreadsheets/pdf_di...       ND.0004   \n5989  http://sharkattackfile.net/spreadsheets/pdf_di...       ND.0003   \n5990  http://sharkattackfile.net/spreadsheets/pdf_di...       ND.0002   \n5991  http://sharkattackfile.net/spreadsheets/pdf_di...       ND.0001   \n\n     Case Number.2 original order Unnamed: 22 Unnamed: 23  \n5987       ND.0005              6         NaN         NaN  \n5988       ND.0004              5         NaN         NaN  \n5989       ND.0003              4         NaN         NaN  \n5990       ND.0002              3         NaN         NaN  \n5991       ND.0001              2         NaN         NaN  \n\n[5 rows x 24 columns]",
      "text/html": "<div>\n<style scoped>\n    .dataframe tbody tr th:only-of-type {\n        vertical-align: middle;\n    }\n\n    .dataframe tbody tr th {\n        vertical-align: top;\n    }\n\n    .dataframe thead th {\n        text-align: right;\n    }\n</style>\n<table border=\"1\" class=\"dataframe\">\n  <thead>\n    <tr style=\"text-align: right;\">\n      <th></th>\n      <th>Case Number</th>\n      <th>Date</th>\n      <th>Year</th>\n      <th>Type</th>\n      <th>Country</th>\n      <th>Area</th>\n      <th>Location</th>\n      <th>Activity</th>\n      <th>Name</th>\n      <th>Sex</th>\n      <th>...</th>\n      <th>Species</th>\n      <th>Investigator or Source</th>\n      <th>pdf</th>\n      <th>href formula</th>\n      <th>href</th>\n      <th>Case Number.1</th>\n      <th>Case Number.2</th>\n      <th>original order</th>\n      <th>Unnamed: 22</th>\n      <th>Unnamed: 23</th>\n    </tr>\n  </thead>\n  <tbody>\n    <tr>\n      <th>5987</th>\n      <td>ND.0005</td>\n      <td>Before 1903</td>\n      <td>0</td>\n      <td>Unprovoked</td>\n      <td>AUSTRALIA</td>\n      <td>Western Australia</td>\n      <td>Roebuck Bay</td>\n      <td>Diving</td>\n      <td>male</td>\n      <td>M</td>\n      <td>...</td>\n      <td>NaN</td>\n      <td>H. Taunton; N. Bartlett,  p. 234</td>\n      <td>ND-0005-RoebuckBay.pdf</td>\n      <td>http://sharkattackfile.net/spreadsheets/pdf_di...</td>\n      <td>http://sharkattackfile.net/spreadsheets/pdf_di...</td>\n      <td>ND.0005</td>\n      <td>ND.0005</td>\n      <td>6</td>\n      <td>NaN</td>\n      <td>NaN</td>\n    </tr>\n    <tr>\n      <th>5988</th>\n      <td>ND.0004</td>\n      <td>Before 1903</td>\n      <td>0</td>\n      <td>Unprovoked</td>\n      <td>AUSTRALIA</td>\n      <td>Western Australia</td>\n      <td>NaN</td>\n      <td>Pearl diving</td>\n      <td>Ahmun</td>\n      <td>M</td>\n      <td>...</td>\n      <td>NaN</td>\n      <td>H. Taunton; N. Bartlett,  pp. 233-234</td>\n      <td>ND-0004-Ahmun.pdf</td>\n      <td>http://sharkattackfile.net/spreadsheets/pdf_di...</td>\n      <td>http://sharkattackfile.net/spreadsheets/pdf_di...</td>\n      <td>ND.0004</td>\n      <td>ND.0004</td>\n      <td>5</td>\n      <td>NaN</td>\n      <td>NaN</td>\n    </tr>\n    <tr>\n      <th>5989</th>\n      <td>ND.0003</td>\n      <td>1900-1905</td>\n      <td>0</td>\n      <td>Unprovoked</td>\n      <td>USA</td>\n      <td>North Carolina</td>\n      <td>Ocracoke Inlet</td>\n      <td>Swimming</td>\n      <td>Coast Guard personnel</td>\n      <td>M</td>\n      <td>...</td>\n      <td>NaN</td>\n      <td>F. Schwartz, p.23; C. Creswell, GSAF</td>\n      <td>ND-0003-Ocracoke_1900-1905.pdf</td>\n      <td>http://sharkattackfile.net/spreadsheets/pdf_di...</td>\n      <td>http://sharkattackfile.net/spreadsheets/pdf_di...</td>\n      <td>ND.0003</td>\n      <td>ND.0003</td>\n      <td>4</td>\n      <td>NaN</td>\n      <td>NaN</td>\n    </tr>\n    <tr>\n      <th>5990</th>\n      <td>ND.0002</td>\n      <td>1883-1889</td>\n      <td>0</td>\n      <td>Unprovoked</td>\n      <td>PANAMA</td>\n      <td>NaN</td>\n      <td>Panama Bay 8ºN, 79ºW</td>\n      <td>NaN</td>\n      <td>Jules Patterson</td>\n      <td>M</td>\n      <td>...</td>\n      <td>NaN</td>\n      <td>The Sun, 10/20/1938</td>\n      <td>ND-0002-JulesPatterson.pdf</td>\n      <td>http://sharkattackfile.net/spreadsheets/pdf_di...</td>\n      <td>http://sharkattackfile.net/spreadsheets/pdf_di...</td>\n      <td>ND.0002</td>\n      <td>ND.0002</td>\n      <td>3</td>\n      <td>NaN</td>\n      <td>NaN</td>\n    </tr>\n    <tr>\n      <th>5991</th>\n      <td>ND.0001</td>\n      <td>1845-1853</td>\n      <td>0</td>\n      <td>Unprovoked</td>\n      <td>CEYLON (SRI LANKA)</td>\n      <td>Eastern Province</td>\n      <td>Below the English fort, Trincomalee</td>\n      <td>Swimming</td>\n      <td>male</td>\n      <td>M</td>\n      <td>...</td>\n      <td>NaN</td>\n      <td>S.W. Baker</td>\n      <td>ND-0001-Ceylon.pdf</td>\n      <td>http://sharkattackfile.net/spreadsheets/pdf_di...</td>\n      <td>http://sharkattackfile.net/spreadsheets/pdf_di...</td>\n      <td>ND.0001</td>\n      <td>ND.0001</td>\n      <td>2</td>\n      <td>NaN</td>\n      <td>NaN</td>\n    </tr>\n  </tbody>\n</table>\n<p>5 rows × 24 columns</p>\n</div>"
     },
     "execution_count": 7,
     "metadata": {},
     "output_type": "execute_result"
    }
   ],
   "source": [
    "\n",
    "# Display last 5 rows\n",
    "df.tail()"
   ],
   "metadata": {
    "collapsed": false,
    "ExecuteTime": {
     "end_time": "2023-08-24T10:12:42.159153600Z",
     "start_time": "2023-08-24T10:12:42.125626700Z"
    }
   },
   "id": "96e11551dadd9945"
  },
  {
   "cell_type": "code",
   "execution_count": 8,
   "outputs": [
    {
     "data": {
      "text/plain": "       Case Number       Date  Year        Type       Country           Area  \\\n2592  1986.07.00.a     Jul-86  1986  Unprovoked  SOUTH AFRICA  KwaZulu-Natal   \n4563    1939.10.04  04-Oct-39  1939  Unprovoked           USA         Hawaii   \n5134    1912.05.04  04-May-12  1912     Invalid  SOUTH AFRICA  KwaZulu-Natal   \n3172    1970.03.31  31-Mar-70  1970     Invalid           USA         Hawaii   \n2004    1997.08.24  24-Aug-97  1997  Unprovoked           USA     California   \n\n                                      Location  \\\n2592                                   LaMercy   \n4563               Kane'ohe Bay, Mokapu, O'ahu   \n5134                                    Durban   \n3172                         Waimea Bay, O'ahu   \n2004  Clam Beach, near Eureka, Humboldt County   \n\n                                    Activity                             Name  \\\n2592                            Spearfishing                  Ludwig Gerricke   \n4563  Spearfishing & had just speared a ulua                      James Akina   \n5134                                     NaN  arm recovered from hooked shark   \n3172                            Body surfing                 Ernie Reathaford   \n2004          Surfing (sitting on his board)                      Scott Yerby   \n\n     Sex   ...                                Species   \\\n2592    M  ...                  1.2 m [4'] dusky shark   \n4563    M  ...                        1.5 m [5'] shark   \n5134    M  ...                                     NaN   \n3172    M  ...  5.5 m [18'] shark seen in the vicinity   \n2004    M  ...                 5 m [16.5'] white shark   \n\n                                 Investigator or Source  \\\n2592                     L. Gerricke, M. Levine, GSAF     \n4563  G.H. Balazs & A.K.H. Kam; J. Borg, p.71; V.M. ...   \n5134                                    M. Levine, GSAF   \n3172                                      J. Borg, p.74   \n2004                             R. Collier, pp.159-160   \n\n                               pdf  \\\n2592     1986.07.00.a-Gerricke.pdf   \n4563          1939.10.04-Akina.pdf   \n5134            1912.05.04-arm.pdf   \n3172     1970.03.31-Reathaford.pdf   \n2004  1997.08.24-Yerby_Collier.pdf   \n\n                                           href formula  \\\n2592  http://sharkattackfile.net/spreadsheets/pdf_di...   \n4563  http://sharkattackfile.net/spreadsheets/pdf_di...   \n5134  http://sharkattackfile.net/spreadsheets/pdf_di...   \n3172  http://sharkattackfile.net/spreadsheets/pdf_di...   \n2004  http://sharkattackfile.net/spreadsheets/pdf_di...   \n\n                                                   href Case Number.1  \\\n2592  http://sharkattackfile.net/spreadsheets/pdf_di...  1986.07.00.a   \n4563  http://sharkattackfile.net/spreadsheets/pdf_di...    1939.10.04   \n5134  http://sharkattackfile.net/spreadsheets/pdf_di...    1912.05.04   \n3172  http://sharkattackfile.net/spreadsheets/pdf_di...    1970.03.31   \n2004  http://sharkattackfile.net/spreadsheets/pdf_di...    1997.08.24   \n\n     Case Number.2 original order Unnamed: 22 Unnamed: 23  \n2592  1986.07.00.a           3402         NaN         NaN  \n4563    1939.10.04           1430         NaN         NaN  \n5134    1912.05.04            859         NaN         NaN  \n3172    1970.03.31           2821         NaN         NaN  \n2004    1997.08.24           3989         NaN         NaN  \n\n[5 rows x 24 columns]",
      "text/html": "<div>\n<style scoped>\n    .dataframe tbody tr th:only-of-type {\n        vertical-align: middle;\n    }\n\n    .dataframe tbody tr th {\n        vertical-align: top;\n    }\n\n    .dataframe thead th {\n        text-align: right;\n    }\n</style>\n<table border=\"1\" class=\"dataframe\">\n  <thead>\n    <tr style=\"text-align: right;\">\n      <th></th>\n      <th>Case Number</th>\n      <th>Date</th>\n      <th>Year</th>\n      <th>Type</th>\n      <th>Country</th>\n      <th>Area</th>\n      <th>Location</th>\n      <th>Activity</th>\n      <th>Name</th>\n      <th>Sex</th>\n      <th>...</th>\n      <th>Species</th>\n      <th>Investigator or Source</th>\n      <th>pdf</th>\n      <th>href formula</th>\n      <th>href</th>\n      <th>Case Number.1</th>\n      <th>Case Number.2</th>\n      <th>original order</th>\n      <th>Unnamed: 22</th>\n      <th>Unnamed: 23</th>\n    </tr>\n  </thead>\n  <tbody>\n    <tr>\n      <th>2592</th>\n      <td>1986.07.00.a</td>\n      <td>Jul-86</td>\n      <td>1986</td>\n      <td>Unprovoked</td>\n      <td>SOUTH AFRICA</td>\n      <td>KwaZulu-Natal</td>\n      <td>LaMercy</td>\n      <td>Spearfishing</td>\n      <td>Ludwig Gerricke</td>\n      <td>M</td>\n      <td>...</td>\n      <td>1.2 m [4'] dusky shark</td>\n      <td>L. Gerricke, M. Levine, GSAF</td>\n      <td>1986.07.00.a-Gerricke.pdf</td>\n      <td>http://sharkattackfile.net/spreadsheets/pdf_di...</td>\n      <td>http://sharkattackfile.net/spreadsheets/pdf_di...</td>\n      <td>1986.07.00.a</td>\n      <td>1986.07.00.a</td>\n      <td>3402</td>\n      <td>NaN</td>\n      <td>NaN</td>\n    </tr>\n    <tr>\n      <th>4563</th>\n      <td>1939.10.04</td>\n      <td>04-Oct-39</td>\n      <td>1939</td>\n      <td>Unprovoked</td>\n      <td>USA</td>\n      <td>Hawaii</td>\n      <td>Kane'ohe Bay, Mokapu, O'ahu</td>\n      <td>Spearfishing &amp; had just speared a ulua</td>\n      <td>James Akina</td>\n      <td>M</td>\n      <td>...</td>\n      <td>1.5 m [5'] shark</td>\n      <td>G.H. Balazs &amp; A.K.H. Kam; J. Borg, p.71; V.M. ...</td>\n      <td>1939.10.04-Akina.pdf</td>\n      <td>http://sharkattackfile.net/spreadsheets/pdf_di...</td>\n      <td>http://sharkattackfile.net/spreadsheets/pdf_di...</td>\n      <td>1939.10.04</td>\n      <td>1939.10.04</td>\n      <td>1430</td>\n      <td>NaN</td>\n      <td>NaN</td>\n    </tr>\n    <tr>\n      <th>5134</th>\n      <td>1912.05.04</td>\n      <td>04-May-12</td>\n      <td>1912</td>\n      <td>Invalid</td>\n      <td>SOUTH AFRICA</td>\n      <td>KwaZulu-Natal</td>\n      <td>Durban</td>\n      <td>NaN</td>\n      <td>arm recovered from hooked shark</td>\n      <td>M</td>\n      <td>...</td>\n      <td>NaN</td>\n      <td>M. Levine, GSAF</td>\n      <td>1912.05.04-arm.pdf</td>\n      <td>http://sharkattackfile.net/spreadsheets/pdf_di...</td>\n      <td>http://sharkattackfile.net/spreadsheets/pdf_di...</td>\n      <td>1912.05.04</td>\n      <td>1912.05.04</td>\n      <td>859</td>\n      <td>NaN</td>\n      <td>NaN</td>\n    </tr>\n    <tr>\n      <th>3172</th>\n      <td>1970.03.31</td>\n      <td>31-Mar-70</td>\n      <td>1970</td>\n      <td>Invalid</td>\n      <td>USA</td>\n      <td>Hawaii</td>\n      <td>Waimea Bay, O'ahu</td>\n      <td>Body surfing</td>\n      <td>Ernie Reathaford</td>\n      <td>M</td>\n      <td>...</td>\n      <td>5.5 m [18'] shark seen in the vicinity</td>\n      <td>J. Borg, p.74</td>\n      <td>1970.03.31-Reathaford.pdf</td>\n      <td>http://sharkattackfile.net/spreadsheets/pdf_di...</td>\n      <td>http://sharkattackfile.net/spreadsheets/pdf_di...</td>\n      <td>1970.03.31</td>\n      <td>1970.03.31</td>\n      <td>2821</td>\n      <td>NaN</td>\n      <td>NaN</td>\n    </tr>\n    <tr>\n      <th>2004</th>\n      <td>1997.08.24</td>\n      <td>24-Aug-97</td>\n      <td>1997</td>\n      <td>Unprovoked</td>\n      <td>USA</td>\n      <td>California</td>\n      <td>Clam Beach, near Eureka, Humboldt County</td>\n      <td>Surfing (sitting on his board)</td>\n      <td>Scott Yerby</td>\n      <td>M</td>\n      <td>...</td>\n      <td>5 m [16.5'] white shark</td>\n      <td>R. Collier, pp.159-160</td>\n      <td>1997.08.24-Yerby_Collier.pdf</td>\n      <td>http://sharkattackfile.net/spreadsheets/pdf_di...</td>\n      <td>http://sharkattackfile.net/spreadsheets/pdf_di...</td>\n      <td>1997.08.24</td>\n      <td>1997.08.24</td>\n      <td>3989</td>\n      <td>NaN</td>\n      <td>NaN</td>\n    </tr>\n  </tbody>\n</table>\n<p>5 rows × 24 columns</p>\n</div>"
     },
     "execution_count": 8,
     "metadata": {},
     "output_type": "execute_result"
    }
   ],
   "source": [
    "# Display random sample of 5 rows\n",
    "df.sample(5)"
   ],
   "metadata": {
    "collapsed": false,
    "ExecuteTime": {
     "end_time": "2023-08-24T10:12:47.507053900Z",
     "start_time": "2023-08-24T10:12:47.497077400Z"
    }
   },
   "id": "fa44fe78af59b89c"
  },
  {
   "cell_type": "code",
   "execution_count": 9,
   "outputs": [
    {
     "data": {
      "text/plain": "Index(['Case Number', 'Date', 'Year', 'Type', 'Country', 'Area', 'Location',\n       'Activity', 'Name', 'Sex ', 'Age', 'Injury', 'Fatal (Y/N)', 'Time',\n       'Species ', 'Investigator or Source', 'pdf', 'href formula', 'href',\n       'Case Number.1', 'Case Number.2', 'original order', 'Unnamed: 22',\n       'Unnamed: 23'],\n      dtype='object')"
     },
     "execution_count": 9,
     "metadata": {},
     "output_type": "execute_result"
    }
   ],
   "source": [
    "\n",
    "# Display columns\n",
    "df.columns"
   ],
   "metadata": {
    "collapsed": false,
    "ExecuteTime": {
     "end_time": "2023-08-24T10:12:51.442317Z",
     "start_time": "2023-08-24T10:12:51.383942900Z"
    }
   },
   "id": "1142ee603414f37f"
  },
  {
   "cell_type": "code",
   "execution_count": 10,
   "outputs": [
    {
     "data": {
      "text/plain": "Case Number               object\nDate                      object\nYear                       int64\nType                      object\nCountry                   object\nArea                      object\nLocation                  object\nActivity                  object\nName                      object\nSex                       object\nAge                       object\nInjury                    object\nFatal (Y/N)               object\nTime                      object\nSpecies                   object\nInvestigator or Source    object\npdf                       object\nhref formula              object\nhref                      object\nCase Number.1             object\nCase Number.2             object\noriginal order             int64\nUnnamed: 22               object\nUnnamed: 23               object\ndtype: object"
     },
     "execution_count": 10,
     "metadata": {},
     "output_type": "execute_result"
    }
   ],
   "source": [
    "\n",
    "# Display data types\n",
    "df.dtypes"
   ],
   "metadata": {
    "collapsed": false,
    "ExecuteTime": {
     "end_time": "2023-08-24T10:12:55.162876300Z",
     "start_time": "2023-08-24T10:12:55.129146300Z"
    }
   },
   "id": "48b0d42cccdf3bb"
  },
  {
   "cell_type": "code",
   "execution_count": 11,
   "outputs": [
    {
     "data": {
      "text/plain": "(5992, 24)"
     },
     "execution_count": 11,
     "metadata": {},
     "output_type": "execute_result"
    }
   ],
   "source": [
    "\n",
    "# Display shape\n",
    "df.shape"
   ],
   "metadata": {
    "collapsed": false,
    "ExecuteTime": {
     "end_time": "2023-08-24T10:12:59.111517300Z",
     "start_time": "2023-08-24T10:12:59.094235100Z"
    }
   },
   "id": "cd762e83abca6086"
  },
  {
   "cell_type": "code",
   "execution_count": 12,
   "outputs": [
    {
     "name": "stdout",
     "output_type": "stream",
     "text": [
      "<class 'pandas.core.frame.DataFrame'>\n",
      "RangeIndex: 5992 entries, 0 to 5991\n",
      "Data columns (total 24 columns):\n",
      " #   Column                  Non-Null Count  Dtype \n",
      "---  ------                  --------------  ----- \n",
      " 0   Case Number             5992 non-null   object\n",
      " 1   Date                    5992 non-null   object\n",
      " 2   Year                    5992 non-null   int64 \n",
      " 3   Type                    5992 non-null   object\n",
      " 4   Country                 5949 non-null   object\n",
      " 5   Area                    5590 non-null   object\n",
      " 6   Location                5496 non-null   object\n",
      " 7   Activity                5465 non-null   object\n",
      " 8   Name                    5792 non-null   object\n",
      " 9   Sex                     5425 non-null   object\n",
      " 10  Age                     3311 non-null   object\n",
      " 11  Injury                  5965 non-null   object\n",
      " 12  Fatal (Y/N)             5973 non-null   object\n",
      " 13  Time                    2779 non-null   object\n",
      " 14  Species                 3058 non-null   object\n",
      " 15  Investigator or Source  5977 non-null   object\n",
      " 16  pdf                     5992 non-null   object\n",
      " 17  href formula            5991 non-null   object\n",
      " 18  href                    5989 non-null   object\n",
      " 19  Case Number.1           5992 non-null   object\n",
      " 20  Case Number.2           5992 non-null   object\n",
      " 21  original order          5992 non-null   int64 \n",
      " 22  Unnamed: 22             1 non-null      object\n",
      " 23  Unnamed: 23             2 non-null      object\n",
      "dtypes: int64(2), object(22)\n",
      "memory usage: 1.1+ MB\n"
     ]
    }
   ],
   "source": [
    "# Display info\n",
    "df.info()"
   ],
   "metadata": {
    "collapsed": false,
    "ExecuteTime": {
     "end_time": "2023-08-24T10:13:05.000833Z",
     "start_time": "2023-08-24T10:13:04.932518Z"
    }
   },
   "id": "705a78b2dccf0bff"
  },
  {
   "cell_type": "code",
   "execution_count": 13,
   "outputs": [
    {
     "data": {
      "text/plain": "              Year  original order\ncount  5992.000000     5992.000000\nmean   1925.204606     2997.548899\nstd     286.473712     1729.860210\nmin       0.000000        2.000000\n25%    1942.000000     1499.750000\n50%    1975.000000     2997.500000\n75%    2003.000000     4495.250000\nmax    2016.000000     5993.000000",
      "text/html": "<div>\n<style scoped>\n    .dataframe tbody tr th:only-of-type {\n        vertical-align: middle;\n    }\n\n    .dataframe tbody tr th {\n        vertical-align: top;\n    }\n\n    .dataframe thead th {\n        text-align: right;\n    }\n</style>\n<table border=\"1\" class=\"dataframe\">\n  <thead>\n    <tr style=\"text-align: right;\">\n      <th></th>\n      <th>Year</th>\n      <th>original order</th>\n    </tr>\n  </thead>\n  <tbody>\n    <tr>\n      <th>count</th>\n      <td>5992.000000</td>\n      <td>5992.000000</td>\n    </tr>\n    <tr>\n      <th>mean</th>\n      <td>1925.204606</td>\n      <td>2997.548899</td>\n    </tr>\n    <tr>\n      <th>std</th>\n      <td>286.473712</td>\n      <td>1729.860210</td>\n    </tr>\n    <tr>\n      <th>min</th>\n      <td>0.000000</td>\n      <td>2.000000</td>\n    </tr>\n    <tr>\n      <th>25%</th>\n      <td>1942.000000</td>\n      <td>1499.750000</td>\n    </tr>\n    <tr>\n      <th>50%</th>\n      <td>1975.000000</td>\n      <td>2997.500000</td>\n    </tr>\n    <tr>\n      <th>75%</th>\n      <td>2003.000000</td>\n      <td>4495.250000</td>\n    </tr>\n    <tr>\n      <th>max</th>\n      <td>2016.000000</td>\n      <td>5993.000000</td>\n    </tr>\n  </tbody>\n</table>\n</div>"
     },
     "execution_count": 13,
     "metadata": {},
     "output_type": "execute_result"
    }
   ],
   "source": [
    "\n",
    "# Display descriptive statistics\n",
    "df.describe()"
   ],
   "metadata": {
    "collapsed": false,
    "ExecuteTime": {
     "end_time": "2023-08-24T10:13:08.193550400Z",
     "start_time": "2023-08-24T10:13:08.164293900Z"
    }
   },
   "id": "6adc8e76d4e59a8"
  },
  {
   "cell_type": "code",
   "execution_count": 14,
   "outputs": [
    {
     "data": {
      "text/plain": "Case Number               5976\nDate                      5128\nYear                       232\nType                         6\nCountry                    203\nArea                       785\nLocation                  3929\nActivity                  1492\nName                      5009\nSex                          6\nAge                        151\nInjury                    3595\nFatal (Y/N)                  8\nTime                       357\nSpecies                   1538\nInvestigator or Source    4752\npdf                       5981\nhref formula              5980\nhref                      5972\nCase Number.1             5975\nCase Number.2             5976\noriginal order            5988\nUnnamed: 22                  1\nUnnamed: 23                  2\ndtype: int64"
     },
     "execution_count": 14,
     "metadata": {},
     "output_type": "execute_result"
    }
   ],
   "source": [
    "\n",
    "# Display unique values\n",
    "df.nunique()"
   ],
   "metadata": {
    "collapsed": false,
    "ExecuteTime": {
     "end_time": "2023-08-24T10:13:12.308500500Z",
     "start_time": "2023-08-24T10:13:12.263755Z"
    }
   },
   "id": "7a70ebde5223dab1"
  },
  {
   "cell_type": "markdown",
   "source": [
    "\n",
    "# Questions to answer:\n",
    "1. What is the most common type of attack?\n",
    "2. What is the most common type of shark?\n",
    "3. What is the most common activity?"
   ],
   "metadata": {
    "collapsed": false
   },
   "id": "1e362c85c186e18e"
  },
  {
   "cell_type": "code",
   "execution_count": 15,
   "outputs": [
    {
     "data": {
      "text/plain": "Unprovoked      4386\nProvoked         557\nInvalid          519\nSea Disaster     220\nBoat             200\nBoating          110\nName: Type, dtype: int64"
     },
     "execution_count": 15,
     "metadata": {},
     "output_type": "execute_result"
    }
   ],
   "source": [
    "# 1. What is the most common type of attack?\n",
    "df[\"Type\"].value_counts()"
   ],
   "metadata": {
    "collapsed": false,
    "ExecuteTime": {
     "end_time": "2023-08-24T10:13:24.873798600Z",
     "start_time": "2023-08-24T10:13:24.845444400Z"
    }
   },
   "id": "3d02b0e2444272fa"
  },
  {
   "cell_type": "code",
   "execution_count": 17,
   "outputs": [
    {
     "data": {
      "text/plain": "White shark                                                                                                                      161\nShark involvement not confirmed                                                                                                   80\nTiger shark                                                                                                                       68\nBull shark                                                                                                                        52\n6' shark                                                                                                                          40\n                                                                                                                                ... \nThought to involve a white, bull or tiger shark                                                                                    1\nMiami, a 60 cm blacktip  shark and two 60 cm bamboo catsharks                                                                      1\nShortfin mako shark, 3 m to 3.4 m [10' to 11']                                                                                     1\nShark involvement  questionable                                                                                                    1\nSaid to involve a grey nurse shark that leapt out of the water and  seized the boy but species identification is questionable      1\nName: Species , Length: 1538, dtype: int64"
     },
     "execution_count": 17,
     "metadata": {},
     "output_type": "execute_result"
    }
   ],
   "source": [
    "# 2. What is the most common type of shark?\n",
    "df[\"Species \"].value_counts()"
   ],
   "metadata": {
    "collapsed": false,
    "ExecuteTime": {
     "end_time": "2023-08-24T10:13:32.249588100Z",
     "start_time": "2023-08-24T10:13:32.207415800Z"
    }
   },
   "id": "c15b2aa54693bb3f"
  },
  {
   "cell_type": "code",
   "execution_count": 18,
   "outputs": [
    {
     "data": {
      "text/plain": "Surfing                                                                                       904\nSwimming                                                                                      819\nFishing                                                                                       414\nSpearfishing                                                                                  321\nBathing                                                                                       153\n                                                                                             ... \nSmall boat with 2 men onboard hit a submerged coral formation. Men began swimming to shore      1\nDynamite fishing                                                                                1\nLeaving the water                                                                               1\nPlaying with a frisbee in the shallows                                                          1\nWreck of  large double sailing canoe                                                            1\nName: Activity, Length: 1492, dtype: int64"
     },
     "execution_count": 18,
     "metadata": {},
     "output_type": "execute_result"
    }
   ],
   "source": [
    "# 3. What is the most common activity?\n",
    "df[\"Activity\"].value_counts()"
   ],
   "metadata": {
    "collapsed": false,
    "ExecuteTime": {
     "end_time": "2023-08-24T10:13:39.412458600Z",
     "start_time": "2023-08-24T10:13:39.380892Z"
    }
   },
   "id": "ae0e0db17734bd92"
  },
  {
   "cell_type": "code",
   "execution_count": 19,
   "outputs": [
    {
     "data": {
      "text/plain": "Case Number                  0\nDate                         0\nYear                         0\nType                         0\nCountry                     43\nArea                       402\nLocation                   496\nActivity                   527\nName                       200\nSex                        567\nAge                       2681\nInjury                      27\nFatal (Y/N)                 19\nTime                      3213\nSpecies                   2934\nInvestigator or Source      15\npdf                          0\nhref formula                 1\nhref                         3\nCase Number.1                0\nCase Number.2                0\noriginal order               0\nUnnamed: 22               5991\nUnnamed: 23               5990\ndtype: int64"
     },
     "execution_count": 19,
     "metadata": {},
     "output_type": "execute_result"
    }
   ],
   "source": [
    "## 2. Clean Data\n",
    "# Display missing values\n",
    "df.isna().sum()"
   ],
   "metadata": {
    "collapsed": false,
    "ExecuteTime": {
     "end_time": "2023-08-24T10:13:43.752504600Z",
     "start_time": "2023-08-24T10:13:43.708529400Z"
    }
   },
   "id": "81657dbbda2b37d4"
  },
  {
   "cell_type": "code",
   "execution_count": 20,
   "outputs": [],
   "source": [
    "\n",
    "# Drop columns\n",
    "df.drop(columns=[\"Case Number\", \"Case Number.1\", \"Case Number.2\", \"original order\", \"Unnamed: 22\", \"Unnamed: 23\"],\n",
    "        inplace=True)"
   ],
   "metadata": {
    "collapsed": false,
    "ExecuteTime": {
     "end_time": "2023-08-24T10:13:47.419504800Z",
     "start_time": "2023-08-24T10:13:47.395722500Z"
    }
   },
   "id": "58a354aea66829bc"
  },
  {
   "cell_type": "markdown",
   "source": [
    "## 3. Explore Data and refine questions\n",
    "# Preguntas más complejas\n",
    " 1. Cuál es el tipo de ataque más común por especie de tiburón?\n",
    " 2. Cuál es el tipo de ataque más común por actividad?\n",
    " 3. Cuál es el tipo de ataque más común por año?\n",
    " 4. Cuál es el tipo de ataque más común por país?\n",
    " 5. Cuál es el tipo de ataque más común por estado?"
   ],
   "metadata": {
    "collapsed": false
   },
   "id": "77ee4d511f6cfe94"
  },
  {
   "cell_type": "code",
   "execution_count": 22,
   "outputs": [
    {
     "data": {
      "text/plain": "Species                                                         Type      \n                                                                Unprovoked    6\n \"gummy\" shark (Rhizoprionodon or Loxodon) 1.2 m [4']           Unprovoked    1\n 1.5 m [5'] dusky shark                                         Provoked      1\n Blacktip shark, C. maculipinnis. 1.9 m to 2.1 m [6.5' to 7']   Unprovoked    1\n Bull shark, 1.2m                                               Unprovoked    1\n                                                                             ..\nunknown, possibly a white shark                                 Boating       1\nwhaler shark                                                    Provoked      1\nwhite shark                                                     Provoked      1\nsmall brown shark                                             Unprovoked    1\n                                                                Unprovoked    2\nName: Type, Length: 1741, dtype: int64"
     },
     "execution_count": 22,
     "metadata": {},
     "output_type": "execute_result"
    }
   ],
   "source": [
    "df.groupby(\"Species \")[\"Type\"].value_counts()"
   ],
   "metadata": {
    "collapsed": false,
    "ExecuteTime": {
     "end_time": "2023-08-24T10:14:29.667396600Z",
     "start_time": "2023-08-24T10:14:29.628247100Z"
    }
   },
   "id": "bbaed367e2c67cdd"
  },
  {
   "cell_type": "code",
   "execution_count": 23,
   "outputs": [
    {
     "data": {
      "text/plain": "Activity                                                                        Type        \n                                                                                Provoked        1\n                                                                                Boat            1\n a canoe was pursuing a schooner that had forcibily abducted 5 young girls      Unprovoked      1\n\"Boat accident\"                                                                 Unprovoked      1\n\"Climbing up to ship after repairing the stern in water\"                        Unprovoked      1\n                                                                                               ..\nship torpedoed 400 miles off the African coas. Man was clinging to hatch cover  Sea Disaster    1\nsmall boat                                                                      Invalid         1\nwreck of the State Oil Company ship Permina                                     Sea Disaster    1\nyachting accident                                                               Sea Disaster    1\nyachtsman in a zodiac                                                           Unprovoked      1\nName: Type, Length: 1629, dtype: int64"
     },
     "execution_count": 23,
     "metadata": {},
     "output_type": "execute_result"
    }
   ],
   "source": [
    "# 2. Cuál es el tipo de ataque más común por actividad?\n",
    "df.groupby(\"Activity\")[\"Type\"].value_counts()"
   ],
   "metadata": {
    "collapsed": false,
    "ExecuteTime": {
     "end_time": "2023-08-24T10:14:38.537460600Z",
     "start_time": "2023-08-24T10:14:38.493770100Z"
    }
   },
   "id": "855afc6d2dbb08a1"
  },
  {
   "cell_type": "code",
   "execution_count": 24,
   "outputs": [
    {
     "data": {
      "text/plain": "Year  Type        \n0     Unprovoked      107\n      Provoked          7\n      Sea Disaster      6\n      Boat              2\n      Invalid           2\n                     ... \n2015  Provoked          6\n2016  Unprovoked       81\n      Provoked          9\n      Boat              7\n      Invalid           6\nName: Type, Length: 697, dtype: int64"
     },
     "execution_count": 24,
     "metadata": {},
     "output_type": "execute_result"
    }
   ],
   "source": [
    "\n",
    "# 3. Cuál es el tipo de ataque más común por año?\n",
    "df.groupby(\"Year\")[\"Type\"].value_counts()"
   ],
   "metadata": {
    "collapsed": false,
    "ExecuteTime": {
     "end_time": "2023-08-24T10:14:42.817500900Z",
     "start_time": "2023-08-24T10:14:42.786920700Z"
    }
   },
   "id": "9570240e09e5d48"
  },
  {
   "cell_type": "code",
   "execution_count": 25,
   "outputs": [
    {
     "data": {
      "text/plain": "Country            Type        \n PHILIPPINES       Sea Disaster    1\n TONGA             Unprovoked      2\n                   Invalid         1\nADMIRALTY ISLANDS  Unprovoked      1\nALGERIA            Unprovoked      1\n                                  ..\nVIETNAM            Sea Disaster    1\nWESTERN SAMOA      Unprovoked      1\nYEMEN              Unprovoked      2\nYEMEN              Unprovoked      5\n                   Invalid         2\nName: Type, Length: 413, dtype: int64"
     },
     "execution_count": 25,
     "metadata": {},
     "output_type": "execute_result"
    }
   ],
   "source": [
    "# 4. Cuál es el tipo de ataque más común por país?\n",
    "df.groupby(\"Country\")[\"Type\"].value_counts()"
   ],
   "metadata": {
    "collapsed": false,
    "ExecuteTime": {
     "end_time": "2023-08-24T10:14:47.078868600Z",
     "start_time": "2023-08-24T10:14:47.031004900Z"
    }
   },
   "id": "419134c720581556"
  },
  {
   "cell_type": "code",
   "execution_count": 26,
   "id": "initial_id",
   "metadata": {
    "collapsed": true,
    "ExecuteTime": {
     "end_time": "2023-08-24T10:14:52.288834700Z",
     "start_time": "2023-08-24T10:14:52.232432600Z"
    }
   },
   "outputs": [
    {
     "data": {
      "text/plain": "Area                        Type        \n Kikori River mouth         Provoked        1\n La Libertad                Provoked        1\n Lau Province               Unprovoked      1\n Loyalty Islands            Unprovoked      1\n Manila Bay                 Unprovoked      1\n                                           ..\nZadar County                Unprovoked      2\nZambesi River               Sea Disaster    1\nZamboanga del Sur Province  Unprovoked      2\n                            Provoked        1\ndÉtang-Salé                Unprovoked      2\nName: Type, Length: 1048, dtype: int64"
     },
     "execution_count": 26,
     "metadata": {},
     "output_type": "execute_result"
    }
   ],
   "source": [
    "# 5. Cuál es el tipo de ataque más común por estado?\n",
    "df.groupby(\"Area\")[\"Type\"].value_counts()\n"
   ]
  },
  {
   "cell_type": "code",
   "execution_count": null,
   "outputs": [],
   "source": [],
   "metadata": {
    "collapsed": false
   },
   "id": "7fbd1b61e542d434"
  }
 ],
 "metadata": {
  "kernelspec": {
   "display_name": "Python 3",
   "language": "python",
   "name": "python3"
  },
  "language_info": {
   "codemirror_mode": {
    "name": "ipython",
    "version": 2
   },
   "file_extension": ".py",
   "mimetype": "text/x-python",
   "name": "python",
   "nbconvert_exporter": "python",
   "pygments_lexer": "ipython2",
   "version": "2.7.6"
  }
 },
 "nbformat": 4,
 "nbformat_minor": 5
}
