{
 "cells": [
  {
   "cell_type": "markdown",
   "source": [
    "# Gregors\n",
    "\n",
    "## Context\n",
    "Gregors is a B2B2C product and partners with lenders and background screening agencies to help\n",
    "complete Income and Employment verification needs.\n",
    "As part of this process the end user accesses either Gregors’s widget embedded in our client’s portal or an order form sent via email or SMS, where they do the following-\n",
    "\n",
    "1. Search for their employer that they work at currently\n",
    "\n",
    "2. When a user starts typing we use our internal database of employers; if the employer is\n",
    "not found, the user is presented with google API results (first two rows) or manual entry\n",
    "(last row), see screenshot below.\n",
    "\n",
    "3. Once a user selects an employer, they can either see the Payroll provider login screen\n",
    "(mapped employers) or see a list of payroll providers.\n",
    "\n",
    "4. Once a user submits their credentials, they end in either Success or Error when user is\n",
    "let go\n",
    "\n",
    "| variable                                | sample                      | description                                                                                                  |   |   |\n",
    "|-----------------------------------------|-----------------------------|--------------------------------------------------------------------------------------------------------------|---|---|\n",
    "| Client Domain                           | A                           | Client Name                                                                                                  |   |   |\n",
    "| User Phone Timezone                     | Unknown                     | User device time zone (Unknown: we failed to capture the timezone)                                           |   |   |\n",
    "| Created At                              | 2023-03-27T20:44:47.283091Z | Date in which the order was created                                                                          |   |   |\n",
    "| Email Clicks                            |                           0 | Clicks in email links                                                                                        |   |   |\n",
    "| Email Opens                             |                           0 | Emails that were opened                                                                                      |   |   |\n",
    "| Emails                                  |                           4 | Emails sent                                                                                                  |   |   |\n",
    "| Expired                                 |                           1 | Number of expired orders                                                                                     |   |   |\n",
    "| Order Funnel State                      | 2-Notification sent         | Order state                                                                                                  |   |   |\n",
    "| Sms                                     |                           0 | SMS sent                                                                                                     |   |   |\n",
    "| Sms Clicks                              |                           0 | SMS clicked                                                                                                  |   |   |\n",
    "| Sms Opens                               |                           0 | SMS opened                                                                                                   |   |   |\n",
    "| Platforms Order Group - Order → Manager | masked@order_manager.org    | Email of the order manager                                                                                   |   |   |\n",
    "| Platforms Order Group - Order → Source  | internal                    |                                                                                                              |   |   |\n",
    "| order_has_user_email                    |             TRUE            | If the user´s email was present in the order form (this is used to contact the user and ask them to verify). |   |   |\n",
    "| order_has_user_phone                    |            FALSE            | If the user´s phone was present in the order form (this is used to contact the user and ask them to verify). |   |   |\n",
    "\n",
    "\n",
    "The variable “Order Funnel State” tracks the following actions from users:\n",
    "1. Created: order gets created\n",
    "2. Notification sent : a notification is sent to the user that wants to verify their information\n",
    "3. Notification opened: the notification is opened by the user\n",
    "4. Notification click: the link within the email/message is clicked (this link opens our widget)\n",
    "5. Widget loaded: the widget is loaded by the user\n",
    "6. Employer selected: the user searches and selects an employer\n",
    "7. Viewed provider login: user views the provider login page\n",
    "8. Submitted login: user submits their credentials\n",
    "9. Completed: user is able to successfully login to their employer and verify their information\n",
    "\n",
    "## Problem Statement\n",
    "Our north star metric is “Conversion Rate” which is the ratio of users that successfully complete a verification (Order Funnel State = “9-Completed”).\n",
    "\n",
    "**One of our clients reaches out complaining about a drop in CR and wants recomendations on how to improve it.**\n",
    "\n",
    "## Task\n",
    "Analyze the following the dataset and:\n",
    "* Figure out if conversion rate has in fact dropped and, if such, explain why it dropped\n",
    "* Provide recommendations on how to improve conversion rate\n",
    "\n",
    "## Deliverables\n",
    "Presentation with findings and recommendations\n",
    "Proposal on how to prevent this from happening in the future\n"
   ],
   "metadata": {
    "collapsed": false
   },
   "id": "3447ae8193a0f9ee"
  },
  {
   "cell_type": "markdown",
   "source": [
    "## Dataset\n",
    "\n",
    "https://docs.google.com/spreadsheets/d/1appaNdbUMIMlA_j6bgnlCWURon7TODALquTU-UyGmoY/edit?usp=sharing\n"
   ],
   "metadata": {
    "collapsed": false
   },
   "id": "3b6c3f4414cb53d0"
  },
  {
   "cell_type": "code",
   "execution_count": null,
   "id": "initial_id",
   "metadata": {
    "collapsed": true
   },
   "outputs": [],
   "source": [
    "#autoreload\n"
   ]
  }
 ],
 "metadata": {
  "kernelspec": {
   "display_name": "Python 3",
   "language": "python",
   "name": "python3"
  },
  "language_info": {
   "codemirror_mode": {
    "name": "ipython",
    "version": 2
   },
   "file_extension": ".py",
   "mimetype": "text/x-python",
   "name": "python",
   "nbconvert_exporter": "python",
   "pygments_lexer": "ipython2",
   "version": "2.7.6"
  }
 },
 "nbformat": 4,
 "nbformat_minor": 5
}
